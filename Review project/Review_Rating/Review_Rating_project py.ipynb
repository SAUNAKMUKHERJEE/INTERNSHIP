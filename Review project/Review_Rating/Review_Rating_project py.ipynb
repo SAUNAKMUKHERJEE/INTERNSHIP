{
 "cells": [
  {
   "cell_type": "code",
   "execution_count": 29,
   "id": "74fb57aa",
   "metadata": {},
   "outputs": [],
   "source": [
    "import numpy as np\n",
    "import pandas as pd\n",
    "import matplotlib.pyplot as plt\n",
    "import seaborn as sns\n",
    "from sklearn.linear_model import LinearRegression\n",
    "import warnings\n",
    "warnings.filterwarnings('ignore')"
   ]
  },
  {
   "cell_type": "code",
   "execution_count": 30,
   "id": "f43890e6",
   "metadata": {},
   "outputs": [
    {
     "data": {
      "text/html": [
       "<div>\n",
       "<style scoped>\n",
       "    .dataframe tbody tr th:only-of-type {\n",
       "        vertical-align: middle;\n",
       "    }\n",
       "\n",
       "    .dataframe tbody tr th {\n",
       "        vertical-align: top;\n",
       "    }\n",
       "\n",
       "    .dataframe thead th {\n",
       "        text-align: right;\n",
       "    }\n",
       "</style>\n",
       "<table border=\"1\" class=\"dataframe\">\n",
       "  <thead>\n",
       "    <tr style=\"text-align: right;\">\n",
       "      <th></th>\n",
       "      <th>Product_Review</th>\n",
       "      <th>Ratings</th>\n",
       "    </tr>\n",
       "  </thead>\n",
       "  <tbody>\n",
       "    <tr>\n",
       "      <th>0</th>\n",
       "      <td>Fantastic ❤️ stylish and comes wd super qualit...</td>\n",
       "      <td>5</td>\n",
       "    </tr>\n",
       "    <tr>\n",
       "      <th>1</th>\n",
       "      <td>Very nice, can wear in night also</td>\n",
       "      <td>5</td>\n",
       "    </tr>\n",
       "    <tr>\n",
       "      <th>2</th>\n",
       "      <td>Worth for the money, awesome product and quali...</td>\n",
       "      <td>5</td>\n",
       "    </tr>\n",
       "    <tr>\n",
       "      <th>3</th>\n",
       "      <td>I'm quite happy with the product. A little bit...</td>\n",
       "      <td>5</td>\n",
       "    </tr>\n",
       "    <tr>\n",
       "      <th>4</th>\n",
       "      <td>The frame is good looks premium.. but i dont k...</td>\n",
       "      <td>4</td>\n",
       "    </tr>\n",
       "    <tr>\n",
       "      <th>...</th>\n",
       "      <td>...</td>\n",
       "      <td>...</td>\n",
       "    </tr>\n",
       "    <tr>\n",
       "      <th>21828</th>\n",
       "      <td>Low price and very good quality I'm very happy...</td>\n",
       "      <td>5</td>\n",
       "    </tr>\n",
       "    <tr>\n",
       "      <th>21829</th>\n",
       "      <td>Great Experience and Nice shoes\\nIt's awesome ...</td>\n",
       "      <td>4</td>\n",
       "    </tr>\n",
       "    <tr>\n",
       "      <th>21830</th>\n",
       "      <td>Grt product only little size issue</td>\n",
       "      <td>5</td>\n",
       "    </tr>\n",
       "    <tr>\n",
       "      <th>21831</th>\n",
       "      <td>Very Nice Product I love it</td>\n",
       "      <td>5</td>\n",
       "    </tr>\n",
       "    <tr>\n",
       "      <th>21832</th>\n",
       "      <td>Excellent fit and comfortable as well as stylish</td>\n",
       "      <td>5</td>\n",
       "    </tr>\n",
       "  </tbody>\n",
       "</table>\n",
       "<p>21833 rows × 2 columns</p>\n",
       "</div>"
      ],
      "text/plain": [
       "                                          Product_Review  Ratings\n",
       "0      Fantastic ❤️ stylish and comes wd super qualit...        5\n",
       "1                      Very nice, can wear in night also        5\n",
       "2      Worth for the money, awesome product and quali...        5\n",
       "3      I'm quite happy with the product. A little bit...        5\n",
       "4      The frame is good looks premium.. but i dont k...        4\n",
       "...                                                  ...      ...\n",
       "21828  Low price and very good quality I'm very happy...        5\n",
       "21829  Great Experience and Nice shoes\\nIt's awesome ...        4\n",
       "21830                 Grt product only little size issue        5\n",
       "21831                        Very Nice Product I love it        5\n",
       "21832   Excellent fit and comfortable as well as stylish        5\n",
       "\n",
       "[21833 rows x 2 columns]"
      ]
     },
     "execution_count": 30,
     "metadata": {},
     "output_type": "execute_result"
    }
   ],
   "source": [
    "df=pd.read_excel(r\"C:\\ratings,review project\\ratings_data.xlsx\")\n",
    "df"
   ]
  },
  {
   "cell_type": "code",
   "execution_count": 31,
   "id": "e19ef3b4",
   "metadata": {},
   "outputs": [
    {
     "data": {
      "text/plain": [
       "(21833, 2)"
      ]
     },
     "execution_count": 31,
     "metadata": {},
     "output_type": "execute_result"
    }
   ],
   "source": [
    "df.shape"
   ]
  },
  {
   "cell_type": "code",
   "execution_count": 32,
   "id": "a8edd44b",
   "metadata": {},
   "outputs": [
    {
     "data": {
      "text/plain": [
       "<bound method DataFrame.info of                                           Product_Review  Ratings\n",
       "0      Fantastic ❤️ stylish and comes wd super qualit...        5\n",
       "1                      Very nice, can wear in night also        5\n",
       "2      Worth for the money, awesome product and quali...        5\n",
       "3      I'm quite happy with the product. A little bit...        5\n",
       "4      The frame is good looks premium.. but i dont k...        4\n",
       "...                                                  ...      ...\n",
       "21828  Low price and very good quality I'm very happy...        5\n",
       "21829  Great Experience and Nice shoes\\nIt's awesome ...        4\n",
       "21830                 Grt product only little size issue        5\n",
       "21831                        Very Nice Product I love it        5\n",
       "21832   Excellent fit and comfortable as well as stylish        5\n",
       "\n",
       "[21833 rows x 2 columns]>"
      ]
     },
     "execution_count": 32,
     "metadata": {},
     "output_type": "execute_result"
    }
   ],
   "source": [
    "df.info"
   ]
  },
  {
   "cell_type": "code",
   "execution_count": 33,
   "id": "5ab49013",
   "metadata": {},
   "outputs": [
    {
     "data": {
      "image/png": "[encoded data removed]",
      "text/plain": [
       "<Figure size 720x504 with 2 Axes>"
      ]
     },
     "metadata": {
      "needs_background": "light"
     },
     "output_type": "display_data"
    },
    {
     "data": {
      "text/plain": [
       "Product_Review    0\n",
       "Ratings           0\n",
       "dtype: int64"
      ]
     },
     "execution_count": 33,
     "metadata": {},
     "output_type": "execute_result"
    }
   ],
   "source": [
    "plt.figure(figsize=(10,7))\n",
    "sns.heatmap(df.isnull(),cmap=\"cool_r\")\n",
    "plt.show()\n",
    "df.isnull().sum()\n"
   ]
  },
  {
   "cell_type": "markdown",
   "id": "28e8b228",
   "metadata": {},
   "source": [
    "# No missing values are present"
   ]
  },
  {
   "cell_type": "markdown",
   "id": "cb52f5ae",
   "metadata": {},
   "source": [
    "# Exploration of Target Variable Ratings"
   ]
  },
  {
   "cell_type": "code",
   "execution_count": 34,
   "id": "39f09da5",
   "metadata": {},
   "outputs": [
    {
     "data": {
      "image/png": "[encoded data removed]",
      "text/plain": [
       "<Figure size 1080x504 with 2 Axes>"
      ]
     },
     "metadata": {
      "needs_background": "light"
     },
     "output_type": "display_data"
    },
    {
     "name": "stdout",
     "output_type": "stream",
     "text": [
      "Value Counts of Rating:\n"
     ]
    },
    {
     "data": {
      "text/plain": [
       "5    14892\n",
       "4     5272\n",
       "3     1669\n",
       "Name: Ratings, dtype: int64"
      ]
     },
     "execution_count": 34,
     "metadata": {},
     "output_type": "execute_result"
    }
   ],
   "source": [
    "plt.rcParams[\"figure.autolayout\"] = True\n",
    "sns.set_palette('Set2_r')\n",
    "f,ax=plt.subplots(1,2,figsize=(15,7))\n",
    "df['Ratings'].value_counts().plot.pie(autopct='%2.1f%%',\n",
    "                                textprops ={'fontsize':16 ,'fontweight' :'bold'}, ax=ax[0],shadow=True)\n",
    "ax[0].set_title('Ratings Pie Chart', fontsize=20,fontweight ='bold')\n",
    "ax[0].set_ylabel('')\n",
    "sns.countplot('Ratings',data=df,ax=ax[1])\n",
    "ax[1].set_title('Ratings Distribution',fontsize=18,fontweight ='bold')\n",
    "ax[1].set_xlabel(\"Ratings\",fontsize=18,fontweight ='bold')\n",
    "ax[1].set_ylabel(\"No. of Review\",fontsize=18,fontweight ='bold')\n",
    "plt.xticks(fontsize=18,fontweight ='bold')\n",
    "plt.tight_layout()\n",
    "plt.show()\n",
    "print('Value Counts of Rating:')\n",
    "df['Ratings'].value_counts()"
   ]
  },
  {
   "cell_type": "markdown",
   "id": "f3ff498d",
   "metadata": {},
   "source": [
    "Importing required libraries for Text mining"
   ]
  },
  {
   "cell_type": "code",
   "execution_count": 35,
   "id": "754ed423",
   "metadata": {},
   "outputs": [
    {
     "name": "stdout",
     "output_type": "stream",
     "text": [
      "Requirement already satisfied: wordcloud in c:\\users\\91907\\anaconda3\\lib\\site-packages (1.8.2.2)\n",
      "Requirement already satisfied: pillow in c:\\users\\91907\\anaconda3\\lib\\site-packages (from wordcloud) (8.4.0)\n",
      "Requirement already satisfied: numpy>=1.6.1 in c:\\users\\91907\\anaconda3\\lib\\site-packages (from wordcloud) (1.20.3)\n",
      "Requirement already satisfied: matplotlib in c:\\users\\91907\\anaconda3\\lib\\site-packages (from wordcloud) (3.4.3)\n",
      "Requirement already satisfied: cycler>=0.10 in c:\\users\\91907\\anaconda3\\lib\\site-packages (from matplotlib->wordcloud) (0.10.0)\n",
      "Requirement already satisfied: kiwisolver>=1.0.1 in c:\\users\\91907\\anaconda3\\lib\\site-packages (from matplotlib->wordcloud) (1.3.1)\n",
      "Requirement already satisfied: pyparsing>=2.2.1 in c:\\users\\91907\\anaconda3\\lib\\site-packages (from matplotlib->wordcloud) (3.0.4)\n",
      "Requirement already satisfied: python-dateutil>=2.7 in c:\\users\\91907\\anaconda3\\lib\\site-packages (from matplotlib->wordcloud) (2.8.2)\n",
      "Requirement already satisfied: six in c:\\users\\91907\\anaconda3\\lib\\site-packages (from cycler>=0.10->matplotlib->wordcloud) (1.16.0)\n"
     ]
    }
   ],
   "source": [
    "!pip install wordcloud"
   ]
  },
  {
   "cell_type": "code",
   "execution_count": 36,
   "id": "18524c81",
   "metadata": {},
   "outputs": [],
   "source": [
    "import re \n",
    "import string\n",
    "import nltk\n",
    "from nltk.corpus import stopwords\n",
    "from nltk.tokenize import word_tokenize\n",
    "from nltk.stem import SnowballStemmer, WordNetLemmatizer\n",
    "from sklearn.feature_extraction.text import CountVectorizer, TfidfVectorizer\n",
    "from wordcloud import WordCloud"
   ]
  },
  {
   "cell_type": "code",
   "execution_count": 37,
   "id": "dcb65319",
   "metadata": {},
   "outputs": [],
   "source": [
    "def clean_text(df, df_column_name):\n",
    "    \n",
    "    #Converting all messages to lowercase\n",
    "    df[df_column_name] = df[df_column_name].str.lower()\n",
    "\n",
    "    #Replace email addresses with 'email'\n",
    "    df[df_column_name] = df[df_column_name].str.replace(r'^.+@[^\\.].*\\.[a-z]{2,}$','emailaddress')\n",
    "\n",
    "    #Replace URLs with 'webaddress'\n",
    "    df[df_column_name] = df[df_column_name].str.replace(r'^http\\://[a-zA-Z0-9\\-\\.]+\\.[a-zA-Z]{2,3}(/\\S*)?$','webaddress')\n",
    "\n",
    "    #Replace money symbols with 'dollars' (£ can by typed with ALT key + 156)\n",
    "    df[df_column_name] = df[df_column_name].str.replace(r'£|\\$', 'dollars')\n",
    "      \n",
    "    #Replace 10 digit phone numbers (formats include paranthesis, spaces, no spaces, dashes) with 'phonenumber'\n",
    "    df[df_column_name] = df[df_column_name].str.replace(r'^\\(?[\\d]{3}\\)?[\\s-]?[\\d]{3}[\\s-]?[\\d]{4}$','phonenumber')\n",
    "\n",
    "    #Replace numbers with 'numbr'\n",
    "    df[df_column_name] = df[df_column_name].str.replace(r'\\d+(\\.\\d+)?', 'numbr')\n",
    "\n",
    "    #Remove punctuation\n",
    "    df[df_column_name] = df[df_column_name].str.replace(r'[^\\w\\d\\s]', ' ')\n",
    "\n",
    "    #Replace whitespace between terms with a single space\n",
    "    df[df_column_name] = df[df_column_name].str.replace(r'\\s+', ' ')\n",
    "\n",
    "    #Remove leading and trailing whitespace\n",
    "    df[df_column_name] = df[df_column_name].str.replace(r'^\\s+|\\s+?$', '')\n",
    "    \n",
    "    #Remove stopwords\n",
    "    stop_words = set(stopwords.words('english') + ['u', 'ü', 'â', 'ur', '4', '2', 'im', 'dont', 'doin', 'ure'])\n",
    "    df[df_column_name] = df[df_column_name].apply(lambda x: ' '.join(term for term in x.split() if term not in stop_words))"
   ]
  },
  {
   "cell_type": "code",
   "execution_count": 10,
   "id": "83cc80cd",
   "metadata": {},
   "outputs": [
    {
     "data": {
      "text/plain": [
       "21830             grt product little size issue\n",
       "21831                         nice product love\n",
       "21832    excellent fit comfortable well stylish\n",
       "Name: Product_Review, dtype: object"
      ]
     },
     "execution_count": 10,
     "metadata": {},
     "output_type": "execute_result"
    }
   ],
   "source": [
    "clean_text(df, 'Product_Review')\n",
    "df['Product_Review'].tail(3)"
   ]
  },
  {
   "cell_type": "code",
   "execution_count": 38,
   "id": "2ada214c",
   "metadata": {},
   "outputs": [
    {
     "data": {
      "text/html": [
       "<div>\n",
       "<style scoped>\n",
       "    .dataframe tbody tr th:only-of-type {\n",
       "        vertical-align: middle;\n",
       "    }\n",
       "\n",
       "    .dataframe tbody tr th {\n",
       "        vertical-align: top;\n",
       "    }\n",
       "\n",
       "    .dataframe thead th {\n",
       "        text-align: right;\n",
       "    }\n",
       "</style>\n",
       "<table border=\"1\" class=\"dataframe\">\n",
       "  <thead>\n",
       "    <tr style=\"text-align: right;\">\n",
       "      <th></th>\n",
       "      <th>Product_Review</th>\n",
       "      <th>Ratings</th>\n",
       "    </tr>\n",
       "  </thead>\n",
       "  <tbody>\n",
       "    <tr>\n",
       "      <th>0</th>\n",
       "      <td>[fantastic, stylish, and, comes, wd, super, qu...</td>\n",
       "      <td>5</td>\n",
       "    </tr>\n",
       "    <tr>\n",
       "      <th>1</th>\n",
       "      <td>[very, nice, can, wear, in, night, also]</td>\n",
       "      <td>5</td>\n",
       "    </tr>\n",
       "    <tr>\n",
       "      <th>2</th>\n",
       "      <td>[worth, for, the, money, awesome, product, and...</td>\n",
       "      <td>5</td>\n",
       "    </tr>\n",
       "    <tr>\n",
       "      <th>3</th>\n",
       "      <td>[i, m, quite, happy, with, the, product, a, li...</td>\n",
       "      <td>5</td>\n",
       "    </tr>\n",
       "    <tr>\n",
       "      <th>4</th>\n",
       "      <td>[the, frame, is, good, looks, premium, but, i,...</td>\n",
       "      <td>4</td>\n",
       "    </tr>\n",
       "    <tr>\n",
       "      <th>...</th>\n",
       "      <td>...</td>\n",
       "      <td>...</td>\n",
       "    </tr>\n",
       "    <tr>\n",
       "      <th>21828</th>\n",
       "      <td>[low, price, and, very, good, quality, i, m, v...</td>\n",
       "      <td>5</td>\n",
       "    </tr>\n",
       "    <tr>\n",
       "      <th>21829</th>\n",
       "      <td>[great, experience, and, nice, shoes, it, s, a...</td>\n",
       "      <td>4</td>\n",
       "    </tr>\n",
       "    <tr>\n",
       "      <th>21830</th>\n",
       "      <td>[grt, product, only, little, size, issue]</td>\n",
       "      <td>5</td>\n",
       "    </tr>\n",
       "    <tr>\n",
       "      <th>21831</th>\n",
       "      <td>[very, nice, product, i, love, it]</td>\n",
       "      <td>5</td>\n",
       "    </tr>\n",
       "    <tr>\n",
       "      <th>21832</th>\n",
       "      <td>[excellent, fit, and, comfortable, as, well, a...</td>\n",
       "      <td>5</td>\n",
       "    </tr>\n",
       "  </tbody>\n",
       "</table>\n",
       "<p>21833 rows × 2 columns</p>\n",
       "</div>"
      ],
      "text/plain": [
       "                                          Product_Review  Ratings\n",
       "0      [fantastic, stylish, and, comes, wd, super, qu...        5\n",
       "1               [very, nice, can, wear, in, night, also]        5\n",
       "2      [worth, for, the, money, awesome, product, and...        5\n",
       "3      [i, m, quite, happy, with, the, product, a, li...        5\n",
       "4      [the, frame, is, good, looks, premium, but, i,...        4\n",
       "...                                                  ...      ...\n",
       "21828  [low, price, and, very, good, quality, i, m, v...        5\n",
       "21829  [great, experience, and, nice, shoes, it, s, a...        4\n",
       "21830          [grt, product, only, little, size, issue]        5\n",
       "21831                 [very, nice, product, i, love, it]        5\n",
       "21832  [excellent, fit, and, comfortable, as, well, a...        5\n",
       "\n",
       "[21833 rows x 2 columns]"
      ]
     },
     "execution_count": 38,
     "metadata": {},
     "output_type": "execute_result"
    }
   ],
   "source": [
    "from nltk.tokenize import RegexpTokenizer\n",
    "tokenizer=RegexpTokenizer(r'\\w+')\n",
    "df['Product_Review'] = df['Product_Review'].apply(lambda x: tokenizer.tokenize(x.lower()))\n",
    "df"
   ]
  },
  {
   "cell_type": "code",
   "execution_count": 39,
   "id": "ae348e23",
   "metadata": {},
   "outputs": [],
   "source": [
    "stemmer = SnowballStemmer(\"english\")\n",
    "import gensim\n",
    "def lemmatize_stemming(text):\n",
    "    return stemmer.stem(WordNetLemmatizer().lemmatize(text,pos='v'))\n",
    "\n",
    "#Tokenize and Lemmatize\n",
    "def preprocess(text):\n",
    "    result=[]\n",
    "    for token in text:\n",
    "        if len(token)>=3:\n",
    "            result.append(lemmatize_stemming(token))\n",
    "            \n",
    "    return result"
   ]
  },
  {
   "cell_type": "code",
   "execution_count": 40,
   "id": "c7f4b1e3",
   "metadata": {},
   "outputs": [
    {
     "name": "stdout",
     "output_type": "stream",
     "text": [
      "21833\n"
     ]
    },
    {
     "data": {
      "text/plain": [
       "[['fantast', 'stylish', 'and', 'come', 'super', 'qualiti', 'for'],\n",
       " ['veri', 'nice', 'can', 'wear', 'night', 'also'],\n",
       " ['worth',\n",
       "  'for',\n",
       "  'the',\n",
       "  'money',\n",
       "  'awesom',\n",
       "  'product',\n",
       "  'and',\n",
       "  'qualiti',\n",
       "  'realli',\n",
       "  'good',\n",
       "  'brand',\n",
       "  'name',\n",
       "  'fastrack',\n",
       "  'speak']]"
      ]
     },
     "execution_count": 40,
     "metadata": {},
     "output_type": "execute_result"
    }
   ],
   "source": [
    "processed_review = []\n",
    "\n",
    "for doc in df.Product_Review:\n",
    "    processed_review.append(preprocess(doc))\n",
    "    \n",
    "print(len(processed_review))\n",
    "processed_review[:3]"
   ]
  },
  {
   "cell_type": "code",
   "execution_count": 41,
   "id": "9d616fa4",
   "metadata": {},
   "outputs": [],
   "source": [
    "df['clean_review']=processed_review"
   ]
  },
  {
   "cell_type": "code",
   "execution_count": 43,
   "id": "c0e2c421",
   "metadata": {},
   "outputs": [
    {
     "data": {
      "text/html": [
       "<div>\n",
       "<style scoped>\n",
       "    .dataframe tbody tr th:only-of-type {\n",
       "        vertical-align: middle;\n",
       "    }\n",
       "\n",
       "    .dataframe tbody tr th {\n",
       "        vertical-align: top;\n",
       "    }\n",
       "\n",
       "    .dataframe thead th {\n",
       "        text-align: right;\n",
       "    }\n",
       "</style>\n",
       "<table border=\"1\" class=\"dataframe\">\n",
       "  <thead>\n",
       "    <tr style=\"text-align: right;\">\n",
       "      <th></th>\n",
       "      <th>Product_Review</th>\n",
       "      <th>Ratings</th>\n",
       "      <th>clean_review</th>\n",
       "    </tr>\n",
       "  </thead>\n",
       "  <tbody>\n",
       "    <tr>\n",
       "      <th>0</th>\n",
       "      <td>[fantastic, stylish, and, comes, wd, super, qu...</td>\n",
       "      <td>5</td>\n",
       "      <td>[fantast, stylish, and, come, super, qualiti, ...</td>\n",
       "    </tr>\n",
       "    <tr>\n",
       "      <th>1</th>\n",
       "      <td>[very, nice, can, wear, in, night, also]</td>\n",
       "      <td>5</td>\n",
       "      <td>[veri, nice, can, wear, night, also]</td>\n",
       "    </tr>\n",
       "    <tr>\n",
       "      <th>2</th>\n",
       "      <td>[worth, for, the, money, awesome, product, and...</td>\n",
       "      <td>5</td>\n",
       "      <td>[worth, for, the, money, awesom, product, and,...</td>\n",
       "    </tr>\n",
       "    <tr>\n",
       "      <th>3</th>\n",
       "      <td>[i, m, quite, happy, with, the, product, a, li...</td>\n",
       "      <td>5</td>\n",
       "      <td>[quit, happi, with, the, product, littl, bite,...</td>\n",
       "    </tr>\n",
       "    <tr>\n",
       "      <th>4</th>\n",
       "      <td>[the, frame, is, good, looks, premium, but, i,...</td>\n",
       "      <td>4</td>\n",
       "      <td>[the, frame, good, look, premium, but, dont, k...</td>\n",
       "    </tr>\n",
       "    <tr>\n",
       "      <th>...</th>\n",
       "      <td>...</td>\n",
       "      <td>...</td>\n",
       "      <td>...</td>\n",
       "    </tr>\n",
       "    <tr>\n",
       "      <th>21828</th>\n",
       "      <td>[low, price, and, very, good, quality, i, m, v...</td>\n",
       "      <td>5</td>\n",
       "      <td>[low, price, and, veri, good, qualiti, veri, h...</td>\n",
       "    </tr>\n",
       "    <tr>\n",
       "      <th>21829</th>\n",
       "      <td>[great, experience, and, nice, shoes, it, s, a...</td>\n",
       "      <td>4</td>\n",
       "      <td>[great, experi, and, nice, shoe, awesom, love]</td>\n",
       "    </tr>\n",
       "    <tr>\n",
       "      <th>21830</th>\n",
       "      <td>[grt, product, only, little, size, issue]</td>\n",
       "      <td>5</td>\n",
       "      <td>[grt, product, onli, littl, size, issu]</td>\n",
       "    </tr>\n",
       "    <tr>\n",
       "      <th>21831</th>\n",
       "      <td>[very, nice, product, i, love, it]</td>\n",
       "      <td>5</td>\n",
       "      <td>[veri, nice, product, love]</td>\n",
       "    </tr>\n",
       "    <tr>\n",
       "      <th>21832</th>\n",
       "      <td>[excellent, fit, and, comfortable, as, well, a...</td>\n",
       "      <td>5</td>\n",
       "      <td>[excel, fit, and, comfort, well, stylish]</td>\n",
       "    </tr>\n",
       "  </tbody>\n",
       "</table>\n",
       "<p>21833 rows × 3 columns</p>\n",
       "</div>"
      ],
      "text/plain": [
       "                                          Product_Review  Ratings  \\\n",
       "0      [fantastic, stylish, and, comes, wd, super, qu...        5   \n",
       "1               [very, nice, can, wear, in, night, also]        5   \n",
       "2      [worth, for, the, money, awesome, product, and...        5   \n",
       "3      [i, m, quite, happy, with, the, product, a, li...        5   \n",
       "4      [the, frame, is, good, looks, premium, but, i,...        4   \n",
       "...                                                  ...      ...   \n",
       "21828  [low, price, and, very, good, quality, i, m, v...        5   \n",
       "21829  [great, experience, and, nice, shoes, it, s, a...        4   \n",
       "21830          [grt, product, only, little, size, issue]        5   \n",
       "21831                 [very, nice, product, i, love, it]        5   \n",
       "21832  [excellent, fit, and, comfortable, as, well, a...        5   \n",
       "\n",
       "                                            clean_review  \n",
       "0      [fantast, stylish, and, come, super, qualiti, ...  \n",
       "1                   [veri, nice, can, wear, night, also]  \n",
       "2      [worth, for, the, money, awesom, product, and,...  \n",
       "3      [quit, happi, with, the, product, littl, bite,...  \n",
       "4      [the, frame, good, look, premium, but, dont, k...  \n",
       "...                                                  ...  \n",
       "21828  [low, price, and, veri, good, qualiti, veri, h...  \n",
       "21829     [great, experi, and, nice, shoe, awesom, love]  \n",
       "21830            [grt, product, onli, littl, size, issu]  \n",
       "21831                        [veri, nice, product, love]  \n",
       "21832          [excel, fit, and, comfort, well, stylish]  \n",
       "\n",
       "[21833 rows x 3 columns]"
      ]
     },
     "execution_count": 43,
     "metadata": {},
     "output_type": "execute_result"
    }
   ],
   "source": [
    "df"
   ]
  },
  {
   "cell_type": "code",
   "execution_count": 44,
   "id": "7ff57619",
   "metadata": {},
   "outputs": [],
   "source": [
    "df['Product_Review'] = df['clean_review'].apply(lambda x:' '.join(y for y in x))"
   ]
  },
  {
   "cell_type": "code",
   "execution_count": 45,
   "id": "06c50fbe",
   "metadata": {},
   "outputs": [
    {
     "ename": "ValueError",
     "evalue": "We need at least 1 word to plot a word cloud, got 0.",
     "output_type": "error",
     "traceback": [
      "\u001b[1;31m---------------------------------------------------------------------------\u001b[0m",
      "\u001b[1;31mValueError\u001b[0m                                Traceback (most recent call last)",
      "\u001b[1;32m~\\AppData\\Local\\Temp/ipykernel_31040/4074906717.py\u001b[0m in \u001b[0;36m<module>\u001b[1;34m\u001b[0m\n\u001b[0;32m      1\u001b[0m \u001b[0mone\u001b[0m \u001b[1;33m=\u001b[0m \u001b[0mdf\u001b[0m\u001b[1;33m[\u001b[0m\u001b[1;34m'Product_Review'\u001b[0m\u001b[1;33m]\u001b[0m\u001b[1;33m[\u001b[0m\u001b[0mdf\u001b[0m\u001b[1;33m[\u001b[0m\u001b[1;34m'Ratings'\u001b[0m\u001b[1;33m]\u001b[0m\u001b[1;33m==\u001b[0m\u001b[1;36m1.0\u001b[0m\u001b[1;33m]\u001b[0m\u001b[1;33m\u001b[0m\u001b[1;33m\u001b[0m\u001b[0m\n\u001b[1;32m----> 2\u001b[1;33m \u001b[0mone_cloud\u001b[0m \u001b[1;33m=\u001b[0m \u001b[0mWordCloud\u001b[0m\u001b[1;33m(\u001b[0m\u001b[0mwidth\u001b[0m\u001b[1;33m=\u001b[0m\u001b[1;36m900\u001b[0m\u001b[1;33m,\u001b[0m\u001b[0mheight\u001b[0m\u001b[1;33m=\u001b[0m\u001b[1;36m600\u001b[0m\u001b[1;33m,\u001b[0m\u001b[0mbackground_color\u001b[0m\u001b[1;33m=\u001b[0m\u001b[1;34m'white'\u001b[0m\u001b[1;33m,\u001b[0m\u001b[0mmax_words\u001b[0m\u001b[1;33m=\u001b[0m\u001b[1;36m250\u001b[0m\u001b[1;33m)\u001b[0m\u001b[1;33m.\u001b[0m\u001b[0mgenerate\u001b[0m\u001b[1;33m(\u001b[0m\u001b[1;34m' '\u001b[0m\u001b[1;33m.\u001b[0m\u001b[0mjoin\u001b[0m\u001b[1;33m(\u001b[0m\u001b[0mone\u001b[0m\u001b[1;33m)\u001b[0m\u001b[1;33m)\u001b[0m\u001b[1;33m\u001b[0m\u001b[1;33m\u001b[0m\u001b[0m\n\u001b[0m\u001b[0;32m      3\u001b[0m \u001b[0mplt\u001b[0m\u001b[1;33m.\u001b[0m\u001b[0mfigure\u001b[0m\u001b[1;33m(\u001b[0m\u001b[0mfigsize\u001b[0m\u001b[1;33m=\u001b[0m\u001b[1;33m(\u001b[0m\u001b[1;36m12\u001b[0m\u001b[1;33m,\u001b[0m\u001b[1;36m9\u001b[0m\u001b[1;33m)\u001b[0m\u001b[1;33m,\u001b[0m\u001b[0mfacecolor\u001b[0m\u001b[1;33m=\u001b[0m\u001b[1;34m'r'\u001b[0m\u001b[1;33m)\u001b[0m\u001b[1;33m\u001b[0m\u001b[1;33m\u001b[0m\u001b[0m\n\u001b[0;32m      4\u001b[0m \u001b[0mplt\u001b[0m\u001b[1;33m.\u001b[0m\u001b[0mimshow\u001b[0m\u001b[1;33m(\u001b[0m\u001b[0mone_cloud\u001b[0m\u001b[1;33m)\u001b[0m\u001b[1;33m\u001b[0m\u001b[1;33m\u001b[0m\u001b[0m\n\u001b[0;32m      5\u001b[0m \u001b[0mplt\u001b[0m\u001b[1;33m.\u001b[0m\u001b[0maxis\u001b[0m\u001b[1;33m(\u001b[0m\u001b[1;34m'off'\u001b[0m\u001b[1;33m)\u001b[0m\u001b[1;33m\u001b[0m\u001b[1;33m\u001b[0m\u001b[0m\n",
      "\u001b[1;32m~\\anaconda3\\lib\\site-packages\\wordcloud\\wordcloud.py\u001b[0m in \u001b[0;36mgenerate\u001b[1;34m(self, text)\u001b[0m\n\u001b[0;32m    637\u001b[0m         \u001b[0mself\u001b[0m\u001b[1;33m\u001b[0m\u001b[1;33m\u001b[0m\u001b[0m\n\u001b[0;32m    638\u001b[0m         \"\"\"\n\u001b[1;32m--> 639\u001b[1;33m         \u001b[1;32mreturn\u001b[0m \u001b[0mself\u001b[0m\u001b[1;33m.\u001b[0m\u001b[0mgenerate_from_text\u001b[0m\u001b[1;33m(\u001b[0m\u001b[0mtext\u001b[0m\u001b[1;33m)\u001b[0m\u001b[1;33m\u001b[0m\u001b[1;33m\u001b[0m\u001b[0m\n\u001b[0m\u001b[0;32m    640\u001b[0m \u001b[1;33m\u001b[0m\u001b[0m\n\u001b[0;32m    641\u001b[0m     \u001b[1;32mdef\u001b[0m \u001b[0m_check_generated\u001b[0m\u001b[1;33m(\u001b[0m\u001b[0mself\u001b[0m\u001b[1;33m)\u001b[0m\u001b[1;33m:\u001b[0m\u001b[1;33m\u001b[0m\u001b[1;33m\u001b[0m\u001b[0m\n",
      "\u001b[1;32m~\\anaconda3\\lib\\site-packages\\wordcloud\\wordcloud.py\u001b[0m in \u001b[0;36mgenerate_from_text\u001b[1;34m(self, text)\u001b[0m\n\u001b[0;32m    619\u001b[0m         \"\"\"\n\u001b[0;32m    620\u001b[0m         \u001b[0mwords\u001b[0m \u001b[1;33m=\u001b[0m \u001b[0mself\u001b[0m\u001b[1;33m.\u001b[0m\u001b[0mprocess_text\u001b[0m\u001b[1;33m(\u001b[0m\u001b[0mtext\u001b[0m\u001b[1;33m)\u001b[0m\u001b[1;33m\u001b[0m\u001b[1;33m\u001b[0m\u001b[0m\n\u001b[1;32m--> 621\u001b[1;33m         \u001b[0mself\u001b[0m\u001b[1;33m.\u001b[0m\u001b[0mgenerate_from_frequencies\u001b[0m\u001b[1;33m(\u001b[0m\u001b[0mwords\u001b[0m\u001b[1;33m)\u001b[0m\u001b[1;33m\u001b[0m\u001b[1;33m\u001b[0m\u001b[0m\n\u001b[0m\u001b[0;32m    622\u001b[0m         \u001b[1;32mreturn\u001b[0m \u001b[0mself\u001b[0m\u001b[1;33m\u001b[0m\u001b[1;33m\u001b[0m\u001b[0m\n\u001b[0;32m    623\u001b[0m \u001b[1;33m\u001b[0m\u001b[0m\n",
      "\u001b[1;32m~\\anaconda3\\lib\\site-packages\\wordcloud\\wordcloud.py\u001b[0m in \u001b[0;36mgenerate_from_frequencies\u001b[1;34m(self, frequencies, max_font_size)\u001b[0m\n\u001b[0;32m    408\u001b[0m         \u001b[0mfrequencies\u001b[0m \u001b[1;33m=\u001b[0m \u001b[0msorted\u001b[0m\u001b[1;33m(\u001b[0m\u001b[0mfrequencies\u001b[0m\u001b[1;33m.\u001b[0m\u001b[0mitems\u001b[0m\u001b[1;33m(\u001b[0m\u001b[1;33m)\u001b[0m\u001b[1;33m,\u001b[0m \u001b[0mkey\u001b[0m\u001b[1;33m=\u001b[0m\u001b[0mitemgetter\u001b[0m\u001b[1;33m(\u001b[0m\u001b[1;36m1\u001b[0m\u001b[1;33m)\u001b[0m\u001b[1;33m,\u001b[0m \u001b[0mreverse\u001b[0m\u001b[1;33m=\u001b[0m\u001b[1;32mTrue\u001b[0m\u001b[1;33m)\u001b[0m\u001b[1;33m\u001b[0m\u001b[1;33m\u001b[0m\u001b[0m\n\u001b[0;32m    409\u001b[0m         \u001b[1;32mif\u001b[0m \u001b[0mlen\u001b[0m\u001b[1;33m(\u001b[0m\u001b[0mfrequencies\u001b[0m\u001b[1;33m)\u001b[0m \u001b[1;33m<=\u001b[0m \u001b[1;36m0\u001b[0m\u001b[1;33m:\u001b[0m\u001b[1;33m\u001b[0m\u001b[1;33m\u001b[0m\u001b[0m\n\u001b[1;32m--> 410\u001b[1;33m             raise ValueError(\"We need at least 1 word to plot a word cloud, \"\n\u001b[0m\u001b[0;32m    411\u001b[0m                              \"got %d.\" % len(frequencies))\n\u001b[0;32m    412\u001b[0m         \u001b[0mfrequencies\u001b[0m \u001b[1;33m=\u001b[0m \u001b[0mfrequencies\u001b[0m\u001b[1;33m[\u001b[0m\u001b[1;33m:\u001b[0m\u001b[0mself\u001b[0m\u001b[1;33m.\u001b[0m\u001b[0mmax_words\u001b[0m\u001b[1;33m]\u001b[0m\u001b[1;33m\u001b[0m\u001b[1;33m\u001b[0m\u001b[0m\n",
      "\u001b[1;31mValueError\u001b[0m: We need at least 1 word to plot a word cloud, got 0."
     ]
    }
   ],
   "source": [
    "one = df['Product_Review'][df['Ratings']==1.0]\n",
    "one_cloud = WordCloud(width=900,height=600,background_color='white',max_words=250).generate(' '.join(one))\n",
    "plt.figure(figsize=(12,9),facecolor='r')\n",
    "plt.imshow(one_cloud)\n",
    "plt.axis('off')\n",
    "plt.title('Word Cloud for Rating 1',fontsize=18,fontweight ='bold')\n",
    "plt.tight_layout(pad=0)\n",
    "plt.show()"
   ]
  },
  {
   "cell_type": "code",
   "execution_count": 46,
   "id": "9b4eaf45",
   "metadata": {},
   "outputs": [],
   "source": [
    "tf = TfidfVectorizer()\n",
    "features = tf.fit_transform(df['Product_Review'])\n",
    "X=features\n",
    "Y=df[['Ratings']]"
   ]
  },
  {
   "cell_type": "code",
   "execution_count": 47,
   "id": "af910f67",
   "metadata": {},
   "outputs": [
    {
     "data": {
      "text/plain": [
       "(21833, 5417)"
      ]
     },
     "execution_count": 47,
     "metadata": {},
     "output_type": "execute_result"
    }
   ],
   "source": [
    "X.shape"
   ]
  },
  {
   "cell_type": "code",
   "execution_count": 48,
   "id": "a68f9654",
   "metadata": {},
   "outputs": [
    {
     "data": {
      "text/plain": [
       "(21833, 1)"
      ]
     },
     "execution_count": 48,
     "metadata": {},
     "output_type": "execute_result"
    }
   ],
   "source": [
    "Y.shape"
   ]
  },
  {
   "cell_type": "markdown",
   "id": "e82ee376",
   "metadata": {},
   "source": [
    "# Let's do the Model Building part"
   ]
  },
  {
   "cell_type": "code",
   "execution_count": 49,
   "id": "3a4bb352",
   "metadata": {},
   "outputs": [],
   "source": [
    "from sklearn.linear_model import LogisticRegression\n",
    "from sklearn.naive_bayes import MultinomialNB\n",
    "from sklearn.tree import DecisionTreeClassifier\n",
    "from sklearn.neighbors import KNeighborsClassifier\n",
    "from sklearn.ensemble import RandomForestClassifier\n",
    "from sklearn.ensemble import AdaBoostClassifier\n",
    "from sklearn.ensemble import GradientBoostingClassifier\n",
    "from sklearn.model_selection import train_test_split,cross_val_score\n",
    "from sklearn.metrics import confusion_matrix,classification_report,accuracy_score"
   ]
  },
  {
   "cell_type": "code",
   "execution_count": 50,
   "id": "cc5f2b4d",
   "metadata": {},
   "outputs": [
    {
     "name": "stdout",
     "output_type": "stream",
     "text": [
      "Training feature matrix size: (15283, 5417)\n",
      "Training target vector size: (15283, 1)\n",
      "Test feature matrix size: (6550, 5417)\n",
      "Test target vector size: (6550, 1)\n"
     ]
    }
   ],
   "source": [
    "X_train, X_test, Y_train, Y_test = train_test_split(X, Y, random_state=67, test_size=.3)\n",
    "print('Training feature matrix size:',X_train.shape)\n",
    "print('Training target vector size:',Y_train.shape)\n",
    "print('Test feature matrix size:',X_test.shape)\n",
    "print('Test target vector size:',Y_test.shape)"
   ]
  },
  {
   "cell_type": "code",
   "execution_count": 51,
   "id": "665b72f4",
   "metadata": {},
   "outputs": [
    {
     "name": "stdout",
     "output_type": "stream",
     "text": [
      "Best accuracy is 0.7552671755725191 on Random_state 76\n"
     ]
    }
   ],
   "source": [
    "from sklearn.linear_model import LogisticRegression\n",
    "from sklearn.metrics import accuracy_score, confusion_matrix,classification_report,f1_score\n",
    "maxAccu=0\n",
    "maxRS=0\n",
    "for i in range(50,100):\n",
    "    X_train,X_test,Y_train,Y_test = train_test_split(X,Y,test_size = 0.3, random_state=i)\n",
    "    log_reg=LogisticRegression()\n",
    "    log_reg.fit(X_train,Y_train)\n",
    "    y_pred=log_reg.predict(X_test)\n",
    "    acc=accuracy_score(Y_test,y_pred)\n",
    "    if acc>maxAccu:\n",
    "        maxAccu=acc\n",
    "        maxRS=i\n",
    "print('Best accuracy is', maxAccu ,'on Random_state', maxRS)"
   ]
  },
  {
   "cell_type": "markdown",
   "id": "c38b82d9",
   "metadata": {},
   "source": [
    "# Logistics Regression"
   ]
  },
  {
   "cell_type": "code",
   "execution_count": 52,
   "id": "c0b47038",
   "metadata": {},
   "outputs": [],
   "source": [
    "X_train, X_test, Y_train, Y_test = train_test_split(X, Y, random_state=71, test_size=.3)"
   ]
  },
  {
   "cell_type": "code",
   "execution_count": 53,
   "id": "82a4fca8",
   "metadata": {},
   "outputs": [
    {
     "name": "stdout",
     "output_type": "stream",
     "text": [
      "\u001b[1mLogistics Regression Evaluation\u001b[0m\n",
      "\n",
      "\n",
      "\u001b[1mAccuracy Score of Logistics Regression :\u001b[0m 0.7476335877862595\n",
      "\n",
      "\n",
      "\u001b[1mConfusion matrix of Logistics Regression :\u001b[0m \n",
      " [[ 104   10  372]\n",
      " [   0  383 1215]\n",
      " [   3   53 4410]]\n",
      "\n",
      "\n",
      "\u001b[1mclassification Report of Logistics Regression\u001b[0m \n",
      "               precision    recall  f1-score   support\n",
      "\n",
      "           3       0.97      0.21      0.35       486\n",
      "           4       0.86      0.24      0.37      1598\n",
      "           5       0.74      0.99      0.84      4466\n",
      "\n",
      "    accuracy                           0.75      6550\n",
      "   macro avg       0.86      0.48      0.52      6550\n",
      "weighted avg       0.78      0.75      0.69      6550\n",
      "\n"
     ]
    }
   ],
   "source": [
    "X_train, X_test, Y_train, Y_test = train_test_split(X, Y, random_state=71, test_size=.3)\n",
    "log_reg=LogisticRegression()\n",
    "log_reg.fit(X_train,Y_train)\n",
    "y_pred=log_reg.predict(X_test)\n",
    "print('\\033[1m'+'Logistics Regression Evaluation'+'\\033[0m')\n",
    "print('\\n')\n",
    "print('\\033[1m'+'Accuracy Score of Logistics Regression :'+'\\033[0m', accuracy_score(Y_test, y_pred))\n",
    "print('\\n')\n",
    "print('\\033[1m'+'Confusion matrix of Logistics Regression :'+'\\033[0m \\n',confusion_matrix(Y_test, y_pred))\n",
    "print('\\n')\n",
    "print('\\033[1m'+'classification Report of Logistics Regression'+'\\033[0m \\n',classification_report(Y_test, y_pred))"
   ]
  },
  {
   "cell_type": "code",
   "execution_count": 54,
   "id": "4cdac293",
   "metadata": {},
   "outputs": [
    {
     "name": "stdout",
     "output_type": "stream",
     "text": [
      "\u001b[1mCross Validation Score LogisticRegression() :\u001b[0m\n",
      "\n",
      "CVScore : [0.68307763 0.67597893 0.64254637 0.59367842 0.57810353]\n",
      "Mean CV Score : 0.6346769765033864\n",
      "Std deviation : 0.04240716554783795\n"
     ]
    }
   ],
   "source": [
    "from sklearn.model_selection import cross_val_score\n",
    "CVscore = cross_val_score(log_reg, X, Y, cv =5)\n",
    "print('\\033[1m'+'Cross Validation Score', log_reg, ':'+'\\033[0m\\n')\n",
    "print(\"CVScore :\" ,CVscore)\n",
    "print(\"Mean CV Score :\",CVscore.mean())\n",
    "print(\"Std deviation :\",CVscore.std())"
   ]
  },
  {
   "cell_type": "markdown",
   "id": "7133ba8c",
   "metadata": {},
   "source": [
    "# Decision Tree Classifier"
   ]
  },
  {
   "cell_type": "code",
   "execution_count": 55,
   "id": "4b3e6422",
   "metadata": {},
   "outputs": [
    {
     "name": "stdout",
     "output_type": "stream",
     "text": [
      "\u001b[1mDecision Tree Classifier Evaluation\u001b[0m\n",
      "\n",
      "\n",
      "\u001b[1mAccuracy Score of Decision Tree Classifier :\u001b[0m 0.7409160305343512\n",
      "\n",
      "\n",
      "\u001b[1mConfusion matrix of Decision Tree Classifier :\u001b[0m \n",
      " [[ 155   45  286]\n",
      " [  36  645  917]\n",
      " [  95  318 4053]]\n",
      "\n",
      "\n",
      "\u001b[1mclassification Report of Decision Tree Classifier\u001b[0m \n",
      "               precision    recall  f1-score   support\n",
      "\n",
      "           3       0.54      0.32      0.40       486\n",
      "           4       0.64      0.40      0.50      1598\n",
      "           5       0.77      0.91      0.83      4466\n",
      "\n",
      "    accuracy                           0.74      6550\n",
      "   macro avg       0.65      0.54      0.58      6550\n",
      "weighted avg       0.72      0.74      0.72      6550\n",
      "\n"
     ]
    }
   ],
   "source": [
    "dtc=DecisionTreeClassifier()\n",
    "dtc.fit(X_train,Y_train)\n",
    "y_pred=dtc.predict(X_test)\n",
    "print('\\033[1m'+'Decision Tree Classifier Evaluation'+'\\033[0m')\n",
    "print('\\n')\n",
    "print('\\033[1m'+'Accuracy Score of Decision Tree Classifier :'+'\\033[0m', accuracy_score(Y_test, y_pred))\n",
    "print('\\n')\n",
    "print('\\033[1m'+'Confusion matrix of Decision Tree Classifier :'+'\\033[0m \\n',confusion_matrix(Y_test, y_pred))\n",
    "print('\\n')\n",
    "print('\\033[1m'+'classification Report of Decision Tree Classifier'+'\\033[0m \\n',classification_report(Y_test, y_pred))"
   ]
  },
  {
   "cell_type": "code",
   "execution_count": 56,
   "id": "934c8876",
   "metadata": {},
   "outputs": [
    {
     "name": "stdout",
     "output_type": "stream",
     "text": [
      "\u001b[1mCross Validation Score DecisionTreeClassifier() :\u001b[0m\n",
      "\n",
      "CVScore : [0.72544081 0.76414014 0.60590795 0.54374714 0.42166743]\n",
      "Mean CV Score : 0.6121806922174082\n",
      "Std deviation : 0.12404622494134794\n"
     ]
    }
   ],
   "source": [
    "from sklearn.model_selection import cross_val_score\n",
    "CVscore = cross_val_score(dtc, X, Y, cv =5)\n",
    "print('\\033[1m'+'Cross Validation Score', dtc, ':'+'\\033[0m\\n')\n",
    "print(\"CVScore :\" ,CVscore)\n",
    "print(\"Mean CV Score :\",CVscore.mean())\n",
    "print(\"Std deviation :\",CVscore.std())"
   ]
  },
  {
   "cell_type": "markdown",
   "id": "603abc0c",
   "metadata": {},
   "source": [
    "# AdaBoost Classifier"
   ]
  },
  {
   "cell_type": "code",
   "execution_count": 57,
   "id": "309b048f",
   "metadata": {},
   "outputs": [
    {
     "name": "stdout",
     "output_type": "stream",
     "text": [
      "\u001b[1mAdaBoost Classifier Evaluation\u001b[0m\n",
      "\n",
      "\n",
      "\u001b[1mAccuracy Score of AdaBoost Classifier :\u001b[0m 0.7331297709923664\n",
      "\n",
      "\n",
      "\u001b[1mConfusion matrix of AdaBoost Classifier :\u001b[0m \n",
      " [[ 106    4  376]\n",
      " [   5  320 1273]\n",
      " [  22   68 4376]]\n",
      "\n",
      "\n",
      "\u001b[1mclassification Report of AdaBoost Classifier\u001b[0m \n",
      "               precision    recall  f1-score   support\n",
      "\n",
      "           3       0.80      0.22      0.34       486\n",
      "           4       0.82      0.20      0.32      1598\n",
      "           5       0.73      0.98      0.83      4466\n",
      "\n",
      "    accuracy                           0.73      6550\n",
      "   macro avg       0.78      0.47      0.50      6550\n",
      "weighted avg       0.75      0.73      0.67      6550\n",
      "\n"
     ]
    }
   ],
   "source": [
    "adbc=AdaBoostClassifier()\n",
    "adbc.fit(X_train,Y_train)\n",
    "y_pred=adbc.predict(X_test)\n",
    "print('\\033[1m'+'AdaBoost Classifier Evaluation'+'\\033[0m')\n",
    "print('\\n')\n",
    "print('\\033[1m'+'Accuracy Score of AdaBoost Classifier :'+'\\033[0m', accuracy_score(Y_test, y_pred))\n",
    "print('\\n')\n",
    "print('\\033[1m'+'Confusion matrix of AdaBoost Classifier :'+'\\033[0m \\n',confusion_matrix(Y_test, y_pred))\n",
    "print('\\n')\n",
    "print('\\033[1m'+'classification Report of AdaBoost Classifier'+'\\033[0m \\n',classification_report(Y_test, y_pred))"
   ]
  },
  {
   "cell_type": "code",
   "execution_count": 59,
   "id": "1c515803",
   "metadata": {},
   "outputs": [
    {
     "name": "stdout",
     "output_type": "stream",
     "text": [
      "\u001b[1mCross Validation Score AdaBoostClassifier() :\u001b[0m\n",
      "\n",
      "CVScore : [0.64804213 0.67574994 0.64071445 0.5742098  0.48350893]\n",
      "Mean CV Score : 0.604445052380842\n",
      "Std deviation : 0.06905110779827907\n"
     ]
    }
   ],
   "source": [
    "from sklearn.model_selection import cross_val_score\n",
    "CVscore = cross_val_score(adbc, X, Y, cv =5)\n",
    "print('\\033[1m'+'Cross Validation Score',adbc, ':'+'\\033[0m\\n')\n",
    "print(\"CVScore :\" ,CVscore)\n",
    "print(\"Mean CV Score :\",CVscore.mean())\n",
    "print(\"Std deviation :\",CVscore.std())"
   ]
  },
  {
   "cell_type": "markdown",
   "id": "1b52b277",
   "metadata": {},
   "source": [
    "# Gradient Boosting Classifier"
   ]
  },
  {
   "cell_type": "code",
   "execution_count": 60,
   "id": "5df7c4f6",
   "metadata": {},
   "outputs": [
    {
     "name": "stdout",
     "output_type": "stream",
     "text": [
      "\u001b[1mGradient Boosting Classifier Evaluation\u001b[0m\n",
      "\n",
      "\n",
      "\u001b[1mAccuracy Score of Gradient Boosting Classifier :\u001b[0m 0.7506870229007634\n",
      "\n",
      "\n",
      "\u001b[1mConfusion matrix of Gradient Boosting Classifier :\u001b[0m \n",
      " [[ 103    1  382]\n",
      " [   1  365 1232]\n",
      " [   0   17 4449]]\n",
      "\n",
      "\n",
      "\u001b[1mclassification Report of Gradient Boosting Classifier\u001b[0m \n",
      "               precision    recall  f1-score   support\n",
      "\n",
      "           3       0.99      0.21      0.35       486\n",
      "           4       0.95      0.23      0.37      1598\n",
      "           5       0.73      1.00      0.85      4466\n",
      "\n",
      "    accuracy                           0.75      6550\n",
      "   macro avg       0.89      0.48      0.52      6550\n",
      "weighted avg       0.81      0.75      0.69      6550\n",
      "\n"
     ]
    }
   ],
   "source": [
    "grad_bc=GradientBoostingClassifier()\n",
    "grad_bc.fit(X_train,Y_train)\n",
    "y_pred=grad_bc.predict(X_test)\n",
    "print('\\033[1m'+'Gradient Boosting Classifier Evaluation'+'\\033[0m')\n",
    "print('\\n')\n",
    "print('\\033[1m'+'Accuracy Score of Gradient Boosting Classifier :'+'\\033[0m', accuracy_score(Y_test, y_pred))\n",
    "print('\\n')\n",
    "print('\\033[1m'+'Confusion matrix of Gradient Boosting Classifier :'+'\\033[0m \\n',confusion_matrix(Y_test, y_pred))\n",
    "print('\\n')\n",
    "print('\\033[1m'+'classification Report of Gradient Boosting Classifier'+'\\033[0m \\n',classification_report(Y_test, y_pred))"
   ]
  },
  {
   "cell_type": "code",
   "execution_count": 61,
   "id": "6c6feca0",
   "metadata": {},
   "outputs": [
    {
     "name": "stdout",
     "output_type": "stream",
     "text": [
      "\u001b[1mCross Validation Score GradientBoostingClassifier() :\u001b[0m\n",
      "\n",
      "CVScore : [0.68216167 0.68284864 0.66567438 0.63078333 0.54993129]\n",
      "Mean CV Score : 0.6422798586953478\n",
      "Std deviation : 0.04988810843576587\n"
     ]
    }
   ],
   "source": [
    "from sklearn.model_selection import cross_val_score\n",
    "CVscore = cross_val_score(grad_bc, X, Y, cv =5)\n",
    "print('\\033[1m'+'Cross Validation Score', grad_bc, ':'+'\\033[0m\\n')\n",
    "print(\"CVScore :\" ,CVscore)\n",
    "print(\"Mean CV Score :\",CVscore.mean())\n",
    "print(\"Std deviation :\",CVscore.std())"
   ]
  },
  {
   "cell_type": "markdown",
   "id": "2d3eb708",
   "metadata": {},
   "source": [
    "# GridSearchCV"
   ]
  },
  {
   "cell_type": "code",
   "execution_count": 62,
   "id": "10ff2c7c",
   "metadata": {},
   "outputs": [],
   "source": [
    "from sklearn.model_selection import GridSearchCV"
   ]
  },
  {
   "cell_type": "code",
   "execution_count": 63,
   "id": "681b5f69",
   "metadata": {},
   "outputs": [],
   "source": [
    "parameter = { 'max_features': ['auto', 'log2'], \n",
    "              'criterion':['gini','entropy'],\n",
    "              'n_estimators': [75,100,150]}"
   ]
  },
  {
   "cell_type": "code",
   "execution_count": 64,
   "id": "e0901cf7",
   "metadata": {},
   "outputs": [
    {
     "name": "stdout",
     "output_type": "stream",
     "text": [
      "Fitting 5 folds for each of 12 candidates, totalling 60 fits\n",
      "[CV 1/5; 1/12] START criterion=gini, max_features=auto, n_estimators=75.........\n",
      "[CV 1/5; 1/12] END criterion=gini, max_features=auto, n_estimators=75;, score=0.768 total time=  14.3s\n",
      "[CV 2/5; 1/12] START criterion=gini, max_features=auto, n_estimators=75.........\n",
      "[CV 2/5; 1/12] END criterion=gini, max_features=auto, n_estimators=75;, score=0.775 total time=  14.1s\n",
      "[CV 3/5; 1/12] START criterion=gini, max_features=auto, n_estimators=75.........\n",
      "[CV 3/5; 1/12] END criterion=gini, max_features=auto, n_estimators=75;, score=0.765 total time=  14.0s\n",
      "[CV 4/5; 1/12] START criterion=gini, max_features=auto, n_estimators=75.........\n",
      "[CV 4/5; 1/12] END criterion=gini, max_features=auto, n_estimators=75;, score=0.779 total time=  14.1s\n",
      "[CV 5/5; 1/12] START criterion=gini, max_features=auto, n_estimators=75.........\n",
      "[CV 5/5; 1/12] END criterion=gini, max_features=auto, n_estimators=75;, score=0.777 total time=  14.1s\n",
      "[CV 1/5; 2/12] START criterion=gini, max_features=auto, n_estimators=100........\n",
      "[CV 1/5; 2/12] END criterion=gini, max_features=auto, n_estimators=100;, score=0.769 total time=  18.7s\n",
      "[CV 2/5; 2/12] START criterion=gini, max_features=auto, n_estimators=100........\n",
      "[CV 2/5; 2/12] END criterion=gini, max_features=auto, n_estimators=100;, score=0.774 total time=  19.0s\n",
      "[CV 3/5; 2/12] START criterion=gini, max_features=auto, n_estimators=100........\n",
      "[CV 3/5; 2/12] END criterion=gini, max_features=auto, n_estimators=100;, score=0.764 total time=  18.9s\n",
      "[CV 4/5; 2/12] START criterion=gini, max_features=auto, n_estimators=100........\n",
      "[CV 4/5; 2/12] END criterion=gini, max_features=auto, n_estimators=100;, score=0.776 total time=  18.8s\n",
      "[CV 5/5; 2/12] START criterion=gini, max_features=auto, n_estimators=100........\n",
      "[CV 5/5; 2/12] END criterion=gini, max_features=auto, n_estimators=100;, score=0.777 total time=  19.0s\n",
      "[CV 1/5; 3/12] START criterion=gini, max_features=auto, n_estimators=150........\n",
      "[CV 1/5; 3/12] END criterion=gini, max_features=auto, n_estimators=150;, score=0.768 total time=  28.0s\n",
      "[CV 2/5; 3/12] START criterion=gini, max_features=auto, n_estimators=150........\n",
      "[CV 2/5; 3/12] END criterion=gini, max_features=auto, n_estimators=150;, score=0.775 total time=  28.4s\n",
      "[CV 3/5; 3/12] START criterion=gini, max_features=auto, n_estimators=150........\n",
      "[CV 3/5; 3/12] END criterion=gini, max_features=auto, n_estimators=150;, score=0.763 total time=  28.2s\n",
      "[CV 4/5; 3/12] START criterion=gini, max_features=auto, n_estimators=150........\n",
      "[CV 4/5; 3/12] END criterion=gini, max_features=auto, n_estimators=150;, score=0.776 total time=  28.4s\n",
      "[CV 5/5; 3/12] START criterion=gini, max_features=auto, n_estimators=150........\n",
      "[CV 5/5; 3/12] END criterion=gini, max_features=auto, n_estimators=150;, score=0.776 total time=  28.4s\n",
      "[CV 1/5; 4/12] START criterion=gini, max_features=log2, n_estimators=75.........\n",
      "[CV 1/5; 4/12] END criterion=gini, max_features=log2, n_estimators=75;, score=0.768 total time=  16.8s\n",
      "[CV 2/5; 4/12] START criterion=gini, max_features=log2, n_estimators=75.........\n",
      "[CV 2/5; 4/12] END criterion=gini, max_features=log2, n_estimators=75;, score=0.776 total time=  16.4s\n",
      "[CV 3/5; 4/12] START criterion=gini, max_features=log2, n_estimators=75.........\n",
      "[CV 3/5; 4/12] END criterion=gini, max_features=log2, n_estimators=75;, score=0.768 total time=  16.9s\n",
      "[CV 4/5; 4/12] START criterion=gini, max_features=log2, n_estimators=75.........\n",
      "[CV 4/5; 4/12] END criterion=gini, max_features=log2, n_estimators=75;, score=0.778 total time=  17.0s\n",
      "[CV 5/5; 4/12] START criterion=gini, max_features=log2, n_estimators=75.........\n",
      "[CV 5/5; 4/12] END criterion=gini, max_features=log2, n_estimators=75;, score=0.777 total time=  16.5s\n",
      "[CV 1/5; 5/12] START criterion=gini, max_features=log2, n_estimators=100........\n",
      "[CV 1/5; 5/12] END criterion=gini, max_features=log2, n_estimators=100;, score=0.767 total time=  22.4s\n",
      "[CV 2/5; 5/12] START criterion=gini, max_features=log2, n_estimators=100........\n",
      "[CV 2/5; 5/12] END criterion=gini, max_features=log2, n_estimators=100;, score=0.775 total time=  22.6s\n",
      "[CV 3/5; 5/12] START criterion=gini, max_features=log2, n_estimators=100........\n",
      "[CV 3/5; 5/12] END criterion=gini, max_features=log2, n_estimators=100;, score=0.765 total time=  22.4s\n",
      "[CV 4/5; 5/12] START criterion=gini, max_features=log2, n_estimators=100........\n",
      "[CV 4/5; 5/12] END criterion=gini, max_features=log2, n_estimators=100;, score=0.774 total time=  22.2s\n",
      "[CV 5/5; 5/12] START criterion=gini, max_features=log2, n_estimators=100........\n",
      "[CV 5/5; 5/12] END criterion=gini, max_features=log2, n_estimators=100;, score=0.777 total time=  21.9s\n",
      "[CV 1/5; 6/12] START criterion=gini, max_features=log2, n_estimators=150........\n",
      "[CV 1/5; 6/12] END criterion=gini, max_features=log2, n_estimators=150;, score=0.769 total time=  33.5s\n",
      "[CV 2/5; 6/12] START criterion=gini, max_features=log2, n_estimators=150........\n",
      "[CV 2/5; 6/12] END criterion=gini, max_features=log2, n_estimators=150;, score=0.776 total time=  33.7s\n",
      "[CV 3/5; 6/12] START criterion=gini, max_features=log2, n_estimators=150........\n",
      "[CV 3/5; 6/12] END criterion=gini, max_features=log2, n_estimators=150;, score=0.765 total time=  33.5s\n",
      "[CV 4/5; 6/12] START criterion=gini, max_features=log2, n_estimators=150........\n",
      "[CV 4/5; 6/12] END criterion=gini, max_features=log2, n_estimators=150;, score=0.777 total time=  33.8s\n",
      "[CV 5/5; 6/12] START criterion=gini, max_features=log2, n_estimators=150........\n",
      "[CV 5/5; 6/12] END criterion=gini, max_features=log2, n_estimators=150;, score=0.777 total time=  33.0s\n",
      "[CV 1/5; 7/12] START criterion=entropy, max_features=auto, n_estimators=75......\n",
      "[CV 1/5; 7/12] END criterion=entropy, max_features=auto, n_estimators=75;, score=0.768 total time=  13.8s\n",
      "[CV 2/5; 7/12] START criterion=entropy, max_features=auto, n_estimators=75......\n",
      "[CV 2/5; 7/12] END criterion=entropy, max_features=auto, n_estimators=75;, score=0.775 total time=  14.0s\n",
      "[CV 3/5; 7/12] START criterion=entropy, max_features=auto, n_estimators=75......\n",
      "[CV 3/5; 7/12] END criterion=entropy, max_features=auto, n_estimators=75;, score=0.766 total time=  13.8s\n",
      "[CV 4/5; 7/12] START criterion=entropy, max_features=auto, n_estimators=75......\n",
      "[CV 4/5; 7/12] END criterion=entropy, max_features=auto, n_estimators=75;, score=0.774 total time=  14.0s\n",
      "[CV 5/5; 7/12] START criterion=entropy, max_features=auto, n_estimators=75......\n",
      "[CV 5/5; 7/12] END criterion=entropy, max_features=auto, n_estimators=75;, score=0.775 total time=  13.9s\n",
      "[CV 1/5; 8/12] START criterion=entropy, max_features=auto, n_estimators=100.....\n",
      "[CV 1/5; 8/12] END criterion=entropy, max_features=auto, n_estimators=100;, score=0.768 total time=  18.4s\n",
      "[CV 2/5; 8/12] START criterion=entropy, max_features=auto, n_estimators=100.....\n",
      "[CV 2/5; 8/12] END criterion=entropy, max_features=auto, n_estimators=100;, score=0.775 total time=  18.5s\n",
      "[CV 3/5; 8/12] START criterion=entropy, max_features=auto, n_estimators=100.....\n",
      "[CV 3/5; 8/12] END criterion=entropy, max_features=auto, n_estimators=100;, score=0.764 total time=  18.3s\n",
      "[CV 4/5; 8/12] START criterion=entropy, max_features=auto, n_estimators=100.....\n",
      "[CV 4/5; 8/12] END criterion=entropy, max_features=auto, n_estimators=100;, score=0.777 total time=  18.5s\n",
      "[CV 5/5; 8/12] START criterion=entropy, max_features=auto, n_estimators=100.....\n",
      "[CV 5/5; 8/12] END criterion=entropy, max_features=auto, n_estimators=100;, score=0.775 total time=  18.5s\n",
      "[CV 1/5; 9/12] START criterion=entropy, max_features=auto, n_estimators=150.....\n",
      "[CV 1/5; 9/12] END criterion=entropy, max_features=auto, n_estimators=150;, score=0.769 total time=  27.4s\n",
      "[CV 2/5; 9/12] START criterion=entropy, max_features=auto, n_estimators=150.....\n",
      "[CV 2/5; 9/12] END criterion=entropy, max_features=auto, n_estimators=150;, score=0.775 total time=  27.8s\n",
      "[CV 3/5; 9/12] START criterion=entropy, max_features=auto, n_estimators=150.....\n",
      "[CV 3/5; 9/12] END criterion=entropy, max_features=auto, n_estimators=150;, score=0.767 total time=  27.4s\n",
      "[CV 4/5; 9/12] START criterion=entropy, max_features=auto, n_estimators=150.....\n",
      "[CV 4/5; 9/12] END criterion=entropy, max_features=auto, n_estimators=150;, score=0.775 total time=  27.9s\n",
      "[CV 5/5; 9/12] START criterion=entropy, max_features=auto, n_estimators=150.....\n"
     ]
    },
    {
     "name": "stdout",
     "output_type": "stream",
     "text": [
      "[CV 5/5; 9/12] END criterion=entropy, max_features=auto, n_estimators=150;, score=0.776 total time=  27.8s\n",
      "[CV 1/5; 10/12] START criterion=entropy, max_features=log2, n_estimators=75.....\n",
      "[CV 1/5; 10/12] END criterion=entropy, max_features=log2, n_estimators=75;, score=0.770 total time=  16.5s\n",
      "[CV 2/5; 10/12] START criterion=entropy, max_features=log2, n_estimators=75.....\n",
      "[CV 2/5; 10/12] END criterion=entropy, max_features=log2, n_estimators=75;, score=0.775 total time=  16.5s\n",
      "[CV 3/5; 10/12] START criterion=entropy, max_features=log2, n_estimators=75.....\n",
      "[CV 3/5; 10/12] END criterion=entropy, max_features=log2, n_estimators=75;, score=0.763 total time=  16.4s\n",
      "[CV 4/5; 10/12] START criterion=entropy, max_features=log2, n_estimators=75.....\n",
      "[CV 4/5; 10/12] END criterion=entropy, max_features=log2, n_estimators=75;, score=0.774 total time=  16.4s\n",
      "[CV 5/5; 10/12] START criterion=entropy, max_features=log2, n_estimators=75.....\n",
      "[CV 5/5; 10/12] END criterion=entropy, max_features=log2, n_estimators=75;, score=0.777 total time=  16.7s\n",
      "[CV 1/5; 11/12] START criterion=entropy, max_features=log2, n_estimators=100....\n",
      "[CV 1/5; 11/12] END criterion=entropy, max_features=log2, n_estimators=100;, score=0.767 total time=  22.0s\n",
      "[CV 2/5; 11/12] START criterion=entropy, max_features=log2, n_estimators=100....\n",
      "[CV 2/5; 11/12] END criterion=entropy, max_features=log2, n_estimators=100;, score=0.776 total time=  22.1s\n",
      "[CV 3/5; 11/12] START criterion=entropy, max_features=log2, n_estimators=100....\n",
      "[CV 3/5; 11/12] END criterion=entropy, max_features=log2, n_estimators=100;, score=0.765 total time=  21.8s\n",
      "[CV 4/5; 11/12] START criterion=entropy, max_features=log2, n_estimators=100....\n",
      "[CV 4/5; 11/12] END criterion=entropy, max_features=log2, n_estimators=100;, score=0.777 total time=  22.1s\n",
      "[CV 5/5; 11/12] START criterion=entropy, max_features=log2, n_estimators=100....\n",
      "[CV 5/5; 11/12] END criterion=entropy, max_features=log2, n_estimators=100;, score=0.775 total time=  21.7s\n",
      "[CV 1/5; 12/12] START criterion=entropy, max_features=log2, n_estimators=150....\n",
      "[CV 1/5; 12/12] END criterion=entropy, max_features=log2, n_estimators=150;, score=0.768 total time=  32.8s\n",
      "[CV 2/5; 12/12] START criterion=entropy, max_features=log2, n_estimators=150....\n",
      "[CV 2/5; 12/12] END criterion=entropy, max_features=log2, n_estimators=150;, score=0.776 total time=  33.0s\n",
      "[CV 3/5; 12/12] START criterion=entropy, max_features=log2, n_estimators=150....\n",
      "[CV 3/5; 12/12] END criterion=entropy, max_features=log2, n_estimators=150;, score=0.766 total time=  33.1s\n",
      "[CV 4/5; 12/12] START criterion=entropy, max_features=log2, n_estimators=150....\n",
      "[CV 4/5; 12/12] END criterion=entropy, max_features=log2, n_estimators=150;, score=0.775 total time=  33.0s\n",
      "[CV 5/5; 12/12] START criterion=entropy, max_features=log2, n_estimators=150....\n",
      "[CV 5/5; 12/12] END criterion=entropy, max_features=log2, n_estimators=150;, score=0.775 total time=  32.4s\n"
     ]
    },
    {
     "data": {
      "text/plain": [
       "GridSearchCV(estimator=RandomForestClassifier(),\n",
       "             param_grid={'criterion': ['gini', 'entropy'],\n",
       "                         'max_features': ['auto', 'log2'],\n",
       "                         'n_estimators': [75, 100, 150]},\n",
       "             verbose=10)"
      ]
     },
     "execution_count": 64,
     "metadata": {},
     "output_type": "execute_result"
    }
   ],
   "source": [
    "GCV = GridSearchCV(RandomForestClassifier(),parameter,verbose=10)\n",
    "GCV.fit(X_train,Y_train)"
   ]
  },
  {
   "cell_type": "code",
   "execution_count": 65,
   "id": "8e80a822",
   "metadata": {},
   "outputs": [
    {
     "data": {
      "text/plain": [
       "{'criterion': 'gini', 'max_features': 'log2', 'n_estimators': 75}"
      ]
     },
     "execution_count": 65,
     "metadata": {},
     "output_type": "execute_result"
    }
   ],
   "source": [
    "GCV.best_params_"
   ]
  },
  {
   "cell_type": "markdown",
   "id": "ef052761",
   "metadata": {},
   "source": [
    "# Result"
   ]
  },
  {
   "cell_type": "code",
   "execution_count": 66,
   "id": "0733b95b",
   "metadata": {},
   "outputs": [
    {
     "name": "stdout",
     "output_type": "stream",
     "text": [
      "\u001b[1mFinal Random Forest Classifier Model\u001b[0m\n",
      "\u001b[1mAccuracy Score :\u001b[0m\n",
      " 0.7819847328244275\n",
      "\n",
      "\n",
      "\u001b[1mConfusion matrix of Random Forest Classifier :\u001b[0m \n",
      " [[ 139    8  339]\n",
      " [   6  559 1033]\n",
      " [  14   28 4424]]\n",
      "\n",
      "\n",
      "\u001b[1mClassification Report of Random Forest Classifier\u001b[0m \n",
      "               precision    recall  f1-score   support\n",
      "\n",
      "           3       0.87      0.29      0.43       486\n",
      "           4       0.94      0.35      0.51      1598\n",
      "           5       0.76      0.99      0.86      4466\n",
      "\n",
      "    accuracy                           0.78      6550\n",
      "   macro avg       0.86      0.54      0.60      6550\n",
      "weighted avg       0.81      0.78      0.74      6550\n",
      "\n"
     ]
    }
   ],
   "source": [
    "Final_mod = RandomForestClassifier(criterion='entropy',n_estimators= 150,max_features='auto')\n",
    "Final_mod.fit(X_train,Y_train)\n",
    "y_pred=Final_mod.predict(X_test)\n",
    "print('\\033[1m'+'Final Random Forest Classifier Model'+'\\033[0m')\n",
    "print('\\033[1m'+'Accuracy Score :'+'\\033[0m\\n', accuracy_score(Y_test, y_pred))\n",
    "print('\\n')\n",
    "print('\\033[1m'+'Confusion matrix of Random Forest Classifier :'+'\\033[0m \\n',confusion_matrix(Y_test, y_pred))\n",
    "print('\\n')\n",
    "print('\\033[1m'+'Classification Report of Random Forest Classifier'+'\\033[0m \\n',classification_report(Y_test, y_pred))"
   ]
  },
  {
   "cell_type": "markdown",
   "id": "b7cbde19",
   "metadata": {},
   "source": [
    "# Saving model"
   ]
  },
  {
   "cell_type": "code",
   "execution_count": 67,
   "id": "099808bd",
   "metadata": {},
   "outputs": [
    {
     "data": {
      "text/plain": [
       "['Review_Rating_project.pkl']"
      ]
     },
     "execution_count": 67,
     "metadata": {},
     "output_type": "execute_result"
    }
   ],
   "source": [
    "import joblib\n",
    "joblib.dump(Final_mod,'Review_Rating_project.pkl')"
   ]
  },
  {
   "cell_type": "code",
   "execution_count": null,
   "id": "00c7259e",
   "metadata": {},
   "outputs": [],
   "source": []
  },
  {
   "cell_type": "code",
   "execution_count": null,
   "id": "2c2958cb",
   "metadata": {},
   "outputs": [],
   "source": []
  }
 ],
 "metadata": {
  "kernelspec": {
   "display_name": "Python 3 (ipykernel)",
   "language": "python",
   "name": "python3"
  },
  "language_info": {
   "codemirror_mode": {
    "name": "ipython",
    "version": 3
   },
   "file_extension": ".py",
   "mimetype": "text/x-python",
   "name": "python",
   "nbconvert_exporter": "python",
   "pygments_lexer": "ipython3",
   "version": "3.9.7"
  }
 },
 "nbformat": 4,
 "nbformat_minor": 5
}
