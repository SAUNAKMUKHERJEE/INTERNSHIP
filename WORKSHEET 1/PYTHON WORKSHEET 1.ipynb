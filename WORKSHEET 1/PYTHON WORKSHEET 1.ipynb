{
 "cells": [
  {
   "cell_type": "markdown",
   "id": "308a4c18",
   "metadata": {},
   "source": [
    "11--->"
   ]
  },
  {
   "cell_type": "code",
   "execution_count": 3,
   "id": "e00ec1fc",
   "metadata": {},
   "outputs": [
    {
     "name": "stdout",
     "output_type": "stream",
     "text": [
      "enter number4\n",
      "Factorial is24\n"
     ]
    }
   ],
   "source": [
    "n=int(input(\"enter number\"))\n",
    "fact=1\n",
    "for i in range(1,n+1):\n",
    "    fact=fact*i\n",
    "print(f\"Factorial is{fact}\")"
   ]
  },
  {
   "cell_type": "markdown",
   "id": "c154a445",
   "metadata": {},
   "source": [
    "12--->"
   ]
  },
  {
   "cell_type": "code",
   "execution_count": 5,
   "id": "be6c6ed7",
   "metadata": {},
   "outputs": [
    {
     "name": "stdout",
     "output_type": "stream",
     "text": [
      "enter any number13\n",
      "prime number\n"
     ]
    }
   ],
   "source": [
    "def checkprime(n):\n",
    "    f=0\n",
    "    for i in range(1,n+1):\n",
    "        if n%i==0:\n",
    "            f=f+1\n",
    "    if f==2:\n",
    "        print(\"prime number\")\n",
    "    else:\n",
    "        print(\"composite number\")\n",
    "        \n",
    "n=int(input(\"enter any number\"))\n",
    "checkprime(n)\n",
    "        \n"
   ]
  },
  {
   "cell_type": "markdown",
   "id": "d8f939a5",
   "metadata": {},
   "source": [
    "13--->"
   ]
  },
  {
   "cell_type": "code",
   "execution_count": 9,
   "id": "e4a8ef25",
   "metadata": {},
   "outputs": [
    {
     "name": "stdout",
     "output_type": "stream",
     "text": [
      "enter any stringSOUNAK\n",
      "Not a palindrome string\n"
     ]
    }
   ],
   "source": [
    "str=input(\"enter any string\")\n",
    "if str==str[::-1]:\n",
    "    print(\"palindrome string\")\n",
    "else:\n",
    "    print(\"Not a palindrome string\")"
   ]
  },
  {
   "cell_type": "markdown",
   "id": "2eb7742b",
   "metadata": {},
   "source": [
    "15--->"
   ]
  },
  {
   "cell_type": "code",
   "execution_count": 8,
   "id": "1680e6b1",
   "metadata": {},
   "outputs": [
    {
     "name": "stdout",
     "output_type": "stream",
     "text": [
      "enter any string5\n",
      "{'5': 1}\n"
     ]
    }
   ],
   "source": [
    "str=input(\"enter any string\")\n",
    "dict={}\n",
    "for i in str:\n",
    "    dict[i]=str.count(i)\n",
    "    print(dict)"
   ]
  },
  {
   "cell_type": "code",
   "execution_count": null,
   "id": "aa695381",
   "metadata": {},
   "outputs": [],
   "source": []
  }
 ],
 "metadata": {
  "kernelspec": {
   "display_name": "Python 3 (ipykernel)",
   "language": "python",
   "name": "python3"
  },
  "language_info": {
   "codemirror_mode": {
    "name": "ipython",
    "version": 3
   },
   "file_extension": ".py",
   "mimetype": "text/x-python",
   "name": "python",
   "nbconvert_exporter": "python",
   "pygments_lexer": "ipython3",
   "version": "3.9.7"
  }
 },
 "nbformat": 4,
 "nbformat_minor": 5
}
