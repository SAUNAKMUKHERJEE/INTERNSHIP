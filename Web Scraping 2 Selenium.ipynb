{
 "cells": [
  {
   "cell_type": "code",
   "execution_count": 1,
   "id": "eb9a49f8",
   "metadata": {},
   "outputs": [],
   "source": [
    "import selenium\n",
    "import pandas as pd\n",
    "from selenium import webdriver\n",
    "import warnings\n",
    "warnings.filterwarnings(\"ignore\")\n",
    "import time"
   ]
  },
  {
   "cell_type": "code",
   "execution_count": 19,
   "id": "6a4e0bfd",
   "metadata": {},
   "outputs": [],
   "source": [
    "driver=webdriver.Chrome(r\"C:\\Users\\91907\\chromedriver.exe\")"
   ]
  },
  {
   "cell_type": "code",
   "execution_count": 20,
   "id": "6bd6ea7f",
   "metadata": {},
   "outputs": [],
   "source": [
    "driver=webdriver.Chrome(\"chromedriver.exe\")\n",
    "time.sleep(2)"
   ]
  },
  {
   "cell_type": "code",
   "execution_count": 21,
   "id": "04033a05",
   "metadata": {},
   "outputs": [],
   "source": [
    "driver.get('https://www.naukri.com/')"
   ]
  },
  {
   "cell_type": "code",
   "execution_count": 22,
   "id": "33013f5f",
   "metadata": {},
   "outputs": [],
   "source": [
    "search_field_desingnation=driver.find_element_by_class_name(\"suggestor-input\")#job search bar\n",
    "search_field_desingnation.send_keys(\"Data Analyst\")"
   ]
  },
  {
   "cell_type": "code",
   "execution_count": 23,
   "id": "1ee9e9eb",
   "metadata": {},
   "outputs": [],
   "source": [
    "search_field_location=driver.find_element_by_xpath(\"/html/body/div/div[2]/div[3]/div/div/div[3]/div/div/div/input\")#job search bar\n",
    "search_field_location.send_keys(\"Bangalore\")"
   ]
  },
  {
   "cell_type": "code",
   "execution_count": 24,
   "id": "9208a816",
   "metadata": {},
   "outputs": [],
   "source": [
    "search_button=driver.find_element_by_xpath(\"/html/body/div/div[2]/div[3]/div/div/div[6]\")\n",
    "search_button.click()"
   ]
  },
  {
   "cell_type": "code",
   "execution_count": 25,
   "id": "3defd44f",
   "metadata": {},
   "outputs": [],
   "source": [
    "job_titles=[]\n",
    "company_names=[]\n",
    "locations_list=[]\n",
    "experience_list=[]"
   ]
  },
  {
   "cell_type": "code",
   "execution_count": 26,
   "id": "669fb6f6",
   "metadata": {},
   "outputs": [
    {
     "data": {
      "text/plain": [
       "[<selenium.webdriver.remote.webelement.WebElement (session=\"a4a715ab656ea0fe0481622aa437ce2e\", element=\"a05cddee-fcc5-4f83-9ac3-0f948c052dd0\")>,\n",
       " <selenium.webdriver.remote.webelement.WebElement (session=\"a4a715ab656ea0fe0481622aa437ce2e\", element=\"ac990ed0-5736-406f-aa9f-122bca97dbb4\")>,\n",
       " <selenium.webdriver.remote.webelement.WebElement (session=\"a4a715ab656ea0fe0481622aa437ce2e\", element=\"a4ab4631-29d5-483d-bd46-0757c5e04bef\")>,\n",
       " <selenium.webdriver.remote.webelement.WebElement (session=\"a4a715ab656ea0fe0481622aa437ce2e\", element=\"46db2088-15b9-4537-bbaf-a4d082c8dd95\")>,\n",
       " <selenium.webdriver.remote.webelement.WebElement (session=\"a4a715ab656ea0fe0481622aa437ce2e\", element=\"4cda87fb-367d-4653-b064-3780a90d7856\")>,\n",
       " <selenium.webdriver.remote.webelement.WebElement (session=\"a4a715ab656ea0fe0481622aa437ce2e\", element=\"4dff9f54-29f1-454c-ad7d-a3d28d735592\")>,\n",
       " <selenium.webdriver.remote.webelement.WebElement (session=\"a4a715ab656ea0fe0481622aa437ce2e\", element=\"8bb103bd-8a4b-4f69-beb7-ff3dbd69eef1\")>,\n",
       " <selenium.webdriver.remote.webelement.WebElement (session=\"a4a715ab656ea0fe0481622aa437ce2e\", element=\"84629b70-7b6b-408b-aa6c-d7ef4058f1ce\")>,\n",
       " <selenium.webdriver.remote.webelement.WebElement (session=\"a4a715ab656ea0fe0481622aa437ce2e\", element=\"88c3cdbc-dc6e-4429-96ad-8554c79bd8af\")>,\n",
       " <selenium.webdriver.remote.webelement.WebElement (session=\"a4a715ab656ea0fe0481622aa437ce2e\", element=\"7be7049c-8a82-473b-826a-12fff79c62cc\")>]"
      ]
     },
     "execution_count": 26,
     "metadata": {},
     "output_type": "execute_result"
    }
   ],
   "source": [
    "titles_tags=driver.find_elements_by_xpath(\"//a[@class='title fw500 ellipsis']\")\n",
    "titles_tags[0:10]"
   ]
  },
  {
   "cell_type": "code",
   "execution_count": 27,
   "id": "14848470",
   "metadata": {},
   "outputs": [
    {
     "data": {
      "text/plain": [
       "['Senior Data Analyst',\n",
       " 'Sr Data Analyst II',\n",
       " 'Business analyst + data Analysis',\n",
       " 'Consultant - Data Analyst',\n",
       " 'Hiring For Data Analyst with SAP ABAP & BW - C2H Wipro',\n",
       " 'Senior Business Analyst - Data Sciences and Advanced Analytics',\n",
       " 'Business and Data Analyst',\n",
       " 'Senior Data Analyst | Lululemon',\n",
       " 'Urgent hiring For Senior Data Analyst',\n",
       " 'Senior Data Analyst']"
      ]
     },
     "execution_count": 27,
     "metadata": {},
     "output_type": "execute_result"
    }
   ],
   "source": [
    "for i in titles_tags:\n",
    "    title=i.text\n",
    "    job_titles.append(title)\n",
    "job_titles[0:10]"
   ]
  },
  {
   "cell_type": "code",
   "execution_count": 28,
   "id": "bf193508",
   "metadata": {},
   "outputs": [
    {
     "data": {
      "text/plain": [
       "[<selenium.webdriver.remote.webelement.WebElement (session=\"a4a715ab656ea0fe0481622aa437ce2e\", element=\"2ce704bd-7242-44ce-86b8-88f9949c9e46\")>,\n",
       " <selenium.webdriver.remote.webelement.WebElement (session=\"a4a715ab656ea0fe0481622aa437ce2e\", element=\"b553c7d5-d436-41f6-9aef-6b70550c28c5\")>,\n",
       " <selenium.webdriver.remote.webelement.WebElement (session=\"a4a715ab656ea0fe0481622aa437ce2e\", element=\"02896178-2781-47a3-9509-d072b015ca78\")>,\n",
       " <selenium.webdriver.remote.webelement.WebElement (session=\"a4a715ab656ea0fe0481622aa437ce2e\", element=\"635ece68-c6cd-473d-afef-f9e67f4b70e0\")>,\n",
       " <selenium.webdriver.remote.webelement.WebElement (session=\"a4a715ab656ea0fe0481622aa437ce2e\", element=\"dce2799a-f5ab-422a-bf77-14ccd3aef425\")>,\n",
       " <selenium.webdriver.remote.webelement.WebElement (session=\"a4a715ab656ea0fe0481622aa437ce2e\", element=\"4cd8f60b-b64a-405d-8e0e-0be8b5c47b32\")>,\n",
       " <selenium.webdriver.remote.webelement.WebElement (session=\"a4a715ab656ea0fe0481622aa437ce2e\", element=\"9804681e-9c07-4269-8551-dbb386434d0d\")>,\n",
       " <selenium.webdriver.remote.webelement.WebElement (session=\"a4a715ab656ea0fe0481622aa437ce2e\", element=\"b61f16f4-50a4-4b9e-95c6-fccbe5037dee\")>,\n",
       " <selenium.webdriver.remote.webelement.WebElement (session=\"a4a715ab656ea0fe0481622aa437ce2e\", element=\"251254ee-4c27-4a00-b513-1399e525a1b5\")>,\n",
       " <selenium.webdriver.remote.webelement.WebElement (session=\"a4a715ab656ea0fe0481622aa437ce2e\", element=\"b0973fa4-195f-45c0-9943-4ec9226852bd\")>]"
      ]
     },
     "execution_count": 28,
     "metadata": {},
     "output_type": "execute_result"
    }
   ],
   "source": [
    "companies_tags=driver.find_elements_by_xpath(\"//a[@class='subTitle ellipsis fleft']\")\n",
    "companies_tags[0:10]"
   ]
  },
  {
   "cell_type": "code",
   "execution_count": 29,
   "id": "1919e940",
   "metadata": {},
   "outputs": [
    {
     "data": {
      "text/plain": [
       "['Flipkart',\n",
       " 'IHS Markit',\n",
       " 'Anlage Infotech (I) Pvt. Ltd.',\n",
       " 'Flipkart',\n",
       " 'MILLION MINDS INFOTECH PRIVATE LIMITED',\n",
       " 'Vmware',\n",
       " 'CAREERDOST ENTERPRISE',\n",
       " 'TALENT500 TECH (INDIA) PRIVATE LIMITED',\n",
       " 'upGrad',\n",
       " 'Thomson Reuters']"
      ]
     },
     "execution_count": 29,
     "metadata": {},
     "output_type": "execute_result"
    }
   ],
   "source": [
    "for i in companies_tags:\n",
    "    company_name=i.text\n",
    "    company_names.append(company_name)\n",
    "company_names[0:10]"
   ]
  },
  {
   "cell_type": "code",
   "execution_count": 30,
   "id": "ca51057f",
   "metadata": {},
   "outputs": [
    {
     "data": {
      "text/plain": [
       "[<selenium.webdriver.remote.webelement.WebElement (session=\"a4a715ab656ea0fe0481622aa437ce2e\", element=\"d25d97ae-6738-418f-8fc2-489e33069340\")>,\n",
       " <selenium.webdriver.remote.webelement.WebElement (session=\"a4a715ab656ea0fe0481622aa437ce2e\", element=\"6c8d2442-51de-4bc8-99bf-f661b5698121\")>,\n",
       " <selenium.webdriver.remote.webelement.WebElement (session=\"a4a715ab656ea0fe0481622aa437ce2e\", element=\"0ca7621b-9169-4e87-bee2-2afe4b3394e1\")>,\n",
       " <selenium.webdriver.remote.webelement.WebElement (session=\"a4a715ab656ea0fe0481622aa437ce2e\", element=\"0d5686a5-eb8a-4d3b-a3d6-cdf5bf369fe3\")>,\n",
       " <selenium.webdriver.remote.webelement.WebElement (session=\"a4a715ab656ea0fe0481622aa437ce2e\", element=\"7ac52ca5-76e9-4ca9-ae1f-71cb8d880170\")>,\n",
       " <selenium.webdriver.remote.webelement.WebElement (session=\"a4a715ab656ea0fe0481622aa437ce2e\", element=\"3be57d1a-cce3-4d31-bb73-1a4446894572\")>,\n",
       " <selenium.webdriver.remote.webelement.WebElement (session=\"a4a715ab656ea0fe0481622aa437ce2e\", element=\"e7467b8e-7ef2-4070-9151-b744a142efcb\")>,\n",
       " <selenium.webdriver.remote.webelement.WebElement (session=\"a4a715ab656ea0fe0481622aa437ce2e\", element=\"01f08b03-f105-447b-b096-4276f2c5c62f\")>,\n",
       " <selenium.webdriver.remote.webelement.WebElement (session=\"a4a715ab656ea0fe0481622aa437ce2e\", element=\"075dc111-122e-403d-8f87-c2de837b09c7\")>,\n",
       " <selenium.webdriver.remote.webelement.WebElement (session=\"a4a715ab656ea0fe0481622aa437ce2e\", element=\"ecb7d3c2-6213-4e1e-a676-4fc9c550bf55\")>]"
      ]
     },
     "execution_count": 30,
     "metadata": {},
     "output_type": "execute_result"
    }
   ],
   "source": [
    "experience_tags=driver.find_elements_by_xpath(\"//li[@class='fleft grey-text br2 placeHolderLi experience']/span\")\n",
    "experience_tags[0:10]"
   ]
  },
  {
   "cell_type": "code",
   "execution_count": 31,
   "id": "9262217a",
   "metadata": {},
   "outputs": [
    {
     "data": {
      "text/plain": [
       "['3-7 Yrs',\n",
       " '3-6 Yrs',\n",
       " '5-10 Yrs',\n",
       " '1-3 Yrs',\n",
       " '7-10 Yrs',\n",
       " '3-7 Yrs',\n",
       " '0-5 Yrs',\n",
       " '5-8 Yrs',\n",
       " '2-7 Yrs',\n",
       " '2-4 Yrs']"
      ]
     },
     "execution_count": 31,
     "metadata": {},
     "output_type": "execute_result"
    }
   ],
   "source": [
    "for i in experience_tags:\n",
    "    experience=i.text\n",
    "    experience_list.append(experience)\n",
    "experience_list[0:10]"
   ]
  },
  {
   "cell_type": "code",
   "execution_count": 32,
   "id": "1e4ca8aa",
   "metadata": {},
   "outputs": [
    {
     "data": {
      "text/plain": [
       "[<selenium.webdriver.remote.webelement.WebElement (session=\"a4a715ab656ea0fe0481622aa437ce2e\", element=\"dd570136-52ac-4375-911e-b86f5ca79e3c\")>,\n",
       " <selenium.webdriver.remote.webelement.WebElement (session=\"a4a715ab656ea0fe0481622aa437ce2e\", element=\"592fc646-e45b-479b-873b-496e9c8b0196\")>,\n",
       " <selenium.webdriver.remote.webelement.WebElement (session=\"a4a715ab656ea0fe0481622aa437ce2e\", element=\"8562e494-635c-4b6f-979e-3bcb883ee7a7\")>,\n",
       " <selenium.webdriver.remote.webelement.WebElement (session=\"a4a715ab656ea0fe0481622aa437ce2e\", element=\"f95eb421-29a7-41ca-a538-2f09662f796a\")>,\n",
       " <selenium.webdriver.remote.webelement.WebElement (session=\"a4a715ab656ea0fe0481622aa437ce2e\", element=\"256aa89e-415d-4e05-9c54-f861ddcc65b0\")>,\n",
       " <selenium.webdriver.remote.webelement.WebElement (session=\"a4a715ab656ea0fe0481622aa437ce2e\", element=\"66e99cb7-4dbe-4fc9-9b70-626bd2b2b2f6\")>,\n",
       " <selenium.webdriver.remote.webelement.WebElement (session=\"a4a715ab656ea0fe0481622aa437ce2e\", element=\"121ac7b4-baaa-4026-9ebc-f43e6ec41bfe\")>,\n",
       " <selenium.webdriver.remote.webelement.WebElement (session=\"a4a715ab656ea0fe0481622aa437ce2e\", element=\"63767e58-6560-4e71-85d8-f912ea15f037\")>,\n",
       " <selenium.webdriver.remote.webelement.WebElement (session=\"a4a715ab656ea0fe0481622aa437ce2e\", element=\"28dc698c-9f78-4c17-a174-91f0b255ad0d\")>,\n",
       " <selenium.webdriver.remote.webelement.WebElement (session=\"a4a715ab656ea0fe0481622aa437ce2e\", element=\"df1a07fc-4db4-44d7-a5cd-c37661f38a6a\")>]"
      ]
     },
     "execution_count": 32,
     "metadata": {},
     "output_type": "execute_result"
    }
   ],
   "source": [
    "job_location=driver.find_elements_by_xpath(\"//li[@class='fleft grey-text br2 placeHolderLi location']/span\")\n",
    "job_location[0:10]"
   ]
  },
  {
   "cell_type": "code",
   "execution_count": 33,
   "id": "03e27162",
   "metadata": {},
   "outputs": [
    {
     "data": {
      "text/plain": [
       "['Bangalore/Bengaluru',\n",
       " 'Gurgaon/Gurugram, Bangalore/Bengaluru',\n",
       " 'Hyderabad/Secunderabad, Bangalore/Bengaluru',\n",
       " 'Bangalore/Bengaluru',\n",
       " 'Bangalore/Bengaluru',\n",
       " '(WFH during Covid)',\n",
       " 'Bangalore/Bengaluru',\n",
       " 'Bangalore/Bengaluru',\n",
       " '(WFH during Covid)',\n",
       " 'Bangalore/Bengaluru']"
      ]
     },
     "execution_count": 33,
     "metadata": {},
     "output_type": "execute_result"
    }
   ],
   "source": [
    "for i in job_location:\n",
    "    location=i.text\n",
    "    locations_list.append(location)\n",
    "locations_list[0:10]"
   ]
  },
  {
   "cell_type": "code",
   "execution_count": 35,
   "id": "2b8a29c3",
   "metadata": {},
   "outputs": [],
   "source": [
    "jobs=pd.DataFrame({})\n",
    "jobs[\"titles\"]=job_titles\n",
    "jobs['company']=company_names\n",
    "jobs[\"experience_required\"]=experience_list"
   ]
  },
  {
   "cell_type": "code",
   "execution_count": 26,
   "id": "9480379b",
   "metadata": {},
   "outputs": [
    {
     "data": {
      "text/html": [
       "<div>\n",
       "<style scoped>\n",
       "    .dataframe tbody tr th:only-of-type {\n",
       "        vertical-align: middle;\n",
       "    }\n",
       "\n",
       "    .dataframe tbody tr th {\n",
       "        vertical-align: top;\n",
       "    }\n",
       "\n",
       "    .dataframe thead th {\n",
       "        text-align: right;\n",
       "    }\n",
       "</style>\n",
       "<table border=\"1\" class=\"dataframe\">\n",
       "  <thead>\n",
       "    <tr style=\"text-align: right;\">\n",
       "      <th></th>\n",
       "      <th>titles</th>\n",
       "      <th>company</th>\n",
       "      <th>experience_required</th>\n",
       "    </tr>\n",
       "  </thead>\n",
       "  <tbody>\n",
       "    <tr>\n",
       "      <th>0</th>\n",
       "      <td>Senior Business Analyst - Data Sciences and Ad...</td>\n",
       "      <td>Vmware</td>\n",
       "      <td>3-7 Yrs</td>\n",
       "    </tr>\n",
       "    <tr>\n",
       "      <th>1</th>\n",
       "      <td>Senior Data Analyst</td>\n",
       "      <td>Thomson Reuters</td>\n",
       "      <td>2-4 Yrs</td>\n",
       "    </tr>\n",
       "    <tr>\n",
       "      <th>2</th>\n",
       "      <td>Data Analyst- customer facing</td>\n",
       "      <td>Synamedia</td>\n",
       "      <td>0-3 Yrs</td>\n",
       "    </tr>\n",
       "    <tr>\n",
       "      <th>3</th>\n",
       "      <td>Sr Data Analyst II</td>\n",
       "      <td>IHS Markit</td>\n",
       "      <td>3-6 Yrs</td>\n",
       "    </tr>\n",
       "    <tr>\n",
       "      <th>4</th>\n",
       "      <td>Data Analyst</td>\n",
       "      <td>VOLVO ASSET FINANCE INDIA PRIVATE LIMITED</td>\n",
       "      <td>2-4 Yrs</td>\n",
       "    </tr>\n",
       "    <tr>\n",
       "      <th>5</th>\n",
       "      <td>Business and Data Analyst</td>\n",
       "      <td>CAREERDOST ENTERPRISE</td>\n",
       "      <td>0-5 Yrs</td>\n",
       "    </tr>\n",
       "    <tr>\n",
       "      <th>6</th>\n",
       "      <td>Senior Data Analyst</td>\n",
       "      <td>Capco</td>\n",
       "      <td>7-12 Yrs</td>\n",
       "    </tr>\n",
       "    <tr>\n",
       "      <th>7</th>\n",
       "      <td>Senior Data Analyst</td>\n",
       "      <td>Gsn Games India</td>\n",
       "      <td>3-7 Yrs</td>\n",
       "    </tr>\n",
       "    <tr>\n",
       "      <th>8</th>\n",
       "      <td>Jr . Data Analyst</td>\n",
       "      <td>Armorblox</td>\n",
       "      <td>0-2 Yrs</td>\n",
       "    </tr>\n",
       "    <tr>\n",
       "      <th>9</th>\n",
       "      <td>Data Analyst</td>\n",
       "      <td>G S E-COMMERCE PVT LTD</td>\n",
       "      <td>4-7 Yrs</td>\n",
       "    </tr>\n",
       "  </tbody>\n",
       "</table>\n",
       "</div>"
      ],
      "text/plain": [
       "                                              titles  \\\n",
       "0  Senior Business Analyst - Data Sciences and Ad...   \n",
       "1                                Senior Data Analyst   \n",
       "2                      Data Analyst- customer facing   \n",
       "3                                 Sr Data Analyst II   \n",
       "4                                       Data Analyst   \n",
       "5                          Business and Data Analyst   \n",
       "6                                Senior Data Analyst   \n",
       "7                                Senior Data Analyst   \n",
       "8                                  Jr . Data Analyst   \n",
       "9                                       Data Analyst   \n",
       "\n",
       "                                     company experience_required  \n",
       "0                                     Vmware             3-7 Yrs  \n",
       "1                            Thomson Reuters             2-4 Yrs  \n",
       "2                                  Synamedia             0-3 Yrs  \n",
       "3                                 IHS Markit             3-6 Yrs  \n",
       "4  VOLVO ASSET FINANCE INDIA PRIVATE LIMITED             2-4 Yrs  \n",
       "5                      CAREERDOST ENTERPRISE             0-5 Yrs  \n",
       "6                                      Capco            7-12 Yrs  \n",
       "7                            Gsn Games India             3-7 Yrs  \n",
       "8                                  Armorblox             0-2 Yrs  \n",
       "9                     G S E-COMMERCE PVT LTD             4-7 Yrs  "
      ]
     },
     "execution_count": 26,
     "metadata": {},
     "output_type": "execute_result"
    }
   ],
   "source": [
    "jobs.head(10)"
   ]
  },
  {
   "cell_type": "markdown",
   "id": "ed4f7487",
   "metadata": {},
   "source": [
    "2--->"
   ]
  },
  {
   "cell_type": "code",
   "execution_count": 3,
   "id": "a94d48b3",
   "metadata": {},
   "outputs": [],
   "source": [
    "driver22=webdriver.Chrome(r\"C:\\Users\\91907\\chromedriver.exe\")"
   ]
  },
  {
   "cell_type": "code",
   "execution_count": 4,
   "id": "e39e2e24",
   "metadata": {},
   "outputs": [],
   "source": [
    "driver22=webdriver.Chrome(\"chromedriver.exe\")\n",
    "time.sleep(2)"
   ]
  },
  {
   "cell_type": "code",
   "execution_count": 5,
   "id": "4932b7b5",
   "metadata": {},
   "outputs": [],
   "source": [
    "driver22.get('https://www.naukri.com/')"
   ]
  },
  {
   "cell_type": "code",
   "execution_count": 6,
   "id": "f084cd2a",
   "metadata": {},
   "outputs": [],
   "source": [
    "search_field_desingnation22=driver22.find_element_by_class_name(\"suggestor-input\")#job search bar\n",
    "search_field_desingnation22.send_keys(\"Data scientist\")"
   ]
  },
  {
   "cell_type": "code",
   "execution_count": 8,
   "id": "2d68c9bf",
   "metadata": {},
   "outputs": [],
   "source": [
    "search_field_location22=driver22.find_element_by_xpath(\"/html/body/div/div[2]/div[3]/div/div/div[3]/div/div/div/input\")#job search bar\n",
    "search_field_location22.send_keys(\"Bangalore\")"
   ]
  },
  {
   "cell_type": "code",
   "execution_count": 10,
   "id": "90a9e46b",
   "metadata": {},
   "outputs": [],
   "source": [
    "search_button=driver22.find_element_by_xpath(\"/html/body/div/div[2]/div[3]/div/div/div[6]\")\n",
    "search_button.click()"
   ]
  },
  {
   "cell_type": "code",
   "execution_count": 21,
   "id": "fec5ddaf",
   "metadata": {},
   "outputs": [],
   "source": [
    "job_titles22=[]\n",
    "company_names22=[]\n",
    "locations21=[]\n",
    "experience_list22=[]"
   ]
  },
  {
   "cell_type": "code",
   "execution_count": 14,
   "id": "a8b0475b",
   "metadata": {},
   "outputs": [
    {
     "data": {
      "text/plain": [
       "[<selenium.webdriver.remote.webelement.WebElement (session=\"bdfb0192010458d2cba1934fa41e0308\", element=\"f34f1acf-22e8-4944-9a35-2da78a0ba25f\")>,\n",
       " <selenium.webdriver.remote.webelement.WebElement (session=\"bdfb0192010458d2cba1934fa41e0308\", element=\"8e838825-5553-40d3-a000-0c58288eadcc\")>,\n",
       " <selenium.webdriver.remote.webelement.WebElement (session=\"bdfb0192010458d2cba1934fa41e0308\", element=\"86a304b1-4a8a-4413-8e74-0b9c6b89b575\")>,\n",
       " <selenium.webdriver.remote.webelement.WebElement (session=\"bdfb0192010458d2cba1934fa41e0308\", element=\"a95f1c45-613b-4782-b222-9031f09933f6\")>,\n",
       " <selenium.webdriver.remote.webelement.WebElement (session=\"bdfb0192010458d2cba1934fa41e0308\", element=\"9bf5025d-d140-44a4-b972-b10784c2cfd0\")>,\n",
       " <selenium.webdriver.remote.webelement.WebElement (session=\"bdfb0192010458d2cba1934fa41e0308\", element=\"547d9f2e-2874-4903-b5cf-ed632289b73e\")>,\n",
       " <selenium.webdriver.remote.webelement.WebElement (session=\"bdfb0192010458d2cba1934fa41e0308\", element=\"8b19ef9d-1a1b-45ef-842b-9743c6fcbe58\")>,\n",
       " <selenium.webdriver.remote.webelement.WebElement (session=\"bdfb0192010458d2cba1934fa41e0308\", element=\"c93b1bb1-cae9-469e-994b-b086b038481f\")>,\n",
       " <selenium.webdriver.remote.webelement.WebElement (session=\"bdfb0192010458d2cba1934fa41e0308\", element=\"50113c6d-3fa5-47d3-b41b-d62ef5f8268e\")>,\n",
       " <selenium.webdriver.remote.webelement.WebElement (session=\"bdfb0192010458d2cba1934fa41e0308\", element=\"9554c4d2-91ba-4a90-912c-ce829eaae8c5\")>]"
      ]
     },
     "execution_count": 14,
     "metadata": {},
     "output_type": "execute_result"
    }
   ],
   "source": [
    "titles_tags22=driver22.find_elements_by_xpath(\"//a[@class='title fw500 ellipsis']\")\n",
    "titles_tags22[0:10]"
   ]
  },
  {
   "cell_type": "code",
   "execution_count": 15,
   "id": "ea59efe6",
   "metadata": {},
   "outputs": [
    {
     "data": {
      "text/plain": [
       "['Senior Data Scientist',\n",
       " 'Sr. Analyst - Applied Data Scientist',\n",
       " 'Applied Data Scientist / ML Senior Engineer (Python / SQL)',\n",
       " 'Data Scientist',\n",
       " 'Expert Data Scientist',\n",
       " 'Principal Data Scientist',\n",
       " 'Analyst - Applied Data Scientist',\n",
       " 'Research Data Scientist',\n",
       " 'Senior Data Scientist Grade12',\n",
       " 'Senior Data Scientist Grade12']"
      ]
     },
     "execution_count": 15,
     "metadata": {},
     "output_type": "execute_result"
    }
   ],
   "source": [
    "for i in titles_tags22:\n",
    "    title22=i.text\n",
    "    job_titles22.append(title22)\n",
    "job_titles22[0:10]"
   ]
  },
  {
   "cell_type": "code",
   "execution_count": 16,
   "id": "6e57328e",
   "metadata": {},
   "outputs": [
    {
     "data": {
      "text/plain": [
       "[<selenium.webdriver.remote.webelement.WebElement (session=\"bdfb0192010458d2cba1934fa41e0308\", element=\"2a034d2b-8ef3-48df-94d8-9dd263e09de7\")>,\n",
       " <selenium.webdriver.remote.webelement.WebElement (session=\"bdfb0192010458d2cba1934fa41e0308\", element=\"512bfdb5-8f43-4be1-85a4-dd6c5142cf84\")>,\n",
       " <selenium.webdriver.remote.webelement.WebElement (session=\"bdfb0192010458d2cba1934fa41e0308\", element=\"92772542-ed03-4afe-8ac0-e98b3c74548d\")>,\n",
       " <selenium.webdriver.remote.webelement.WebElement (session=\"bdfb0192010458d2cba1934fa41e0308\", element=\"8d1c56f6-ec7f-4a70-8588-fc1d573cb6b5\")>,\n",
       " <selenium.webdriver.remote.webelement.WebElement (session=\"bdfb0192010458d2cba1934fa41e0308\", element=\"1444256f-c93d-40d3-bebd-700b333e4d17\")>,\n",
       " <selenium.webdriver.remote.webelement.WebElement (session=\"bdfb0192010458d2cba1934fa41e0308\", element=\"115ff720-2725-4ffc-aedc-3e44f9c4769c\")>,\n",
       " <selenium.webdriver.remote.webelement.WebElement (session=\"bdfb0192010458d2cba1934fa41e0308\", element=\"75f3bb33-8cc9-4da8-9ef9-0db6e72ef01a\")>,\n",
       " <selenium.webdriver.remote.webelement.WebElement (session=\"bdfb0192010458d2cba1934fa41e0308\", element=\"56309a4e-592f-4e04-94ee-e3ad1c7548c9\")>,\n",
       " <selenium.webdriver.remote.webelement.WebElement (session=\"bdfb0192010458d2cba1934fa41e0308\", element=\"2dfce773-d4f3-4d86-89ca-e230a90305f9\")>,\n",
       " <selenium.webdriver.remote.webelement.WebElement (session=\"bdfb0192010458d2cba1934fa41e0308\", element=\"3b38a6d4-84b3-4ebe-8ddd-5801f5b0a099\")>]"
      ]
     },
     "execution_count": 16,
     "metadata": {},
     "output_type": "execute_result"
    }
   ],
   "source": [
    "companies_tags22=driver22.find_elements_by_xpath(\"//a[@class='subTitle ellipsis fleft']\")\n",
    "companies_tags22[0:10]"
   ]
  },
  {
   "cell_type": "code",
   "execution_count": 17,
   "id": "77441c26",
   "metadata": {},
   "outputs": [
    {
     "data": {
      "text/plain": [
       "['UPL',\n",
       " 'Tesco',\n",
       " 'SAP India Pvt.Ltd',\n",
       " 'UPL',\n",
       " 'UPL',\n",
       " 'UPL',\n",
       " 'Tesco',\n",
       " 'Mavenir',\n",
       " 'Flipkart',\n",
       " 'Flipkart']"
      ]
     },
     "execution_count": 17,
     "metadata": {},
     "output_type": "execute_result"
    }
   ],
   "source": [
    "for i in companies_tags22:\n",
    "    company_name22=i.text\n",
    "    company_names22.append(company_name22)\n",
    "company_names22[0:10]"
   ]
  },
  {
   "cell_type": "code",
   "execution_count": 18,
   "id": "83fd99e7",
   "metadata": {},
   "outputs": [
    {
     "data": {
      "text/plain": [
       "[<selenium.webdriver.remote.webelement.WebElement (session=\"bdfb0192010458d2cba1934fa41e0308\", element=\"cb42fad7-d8c5-4bf0-a440-37434d455ea0\")>,\n",
       " <selenium.webdriver.remote.webelement.WebElement (session=\"bdfb0192010458d2cba1934fa41e0308\", element=\"d53be426-0174-4888-ba05-dacadb2c190c\")>,\n",
       " <selenium.webdriver.remote.webelement.WebElement (session=\"bdfb0192010458d2cba1934fa41e0308\", element=\"d43c2a35-1ab0-4ad9-b05f-1c63be450510\")>,\n",
       " <selenium.webdriver.remote.webelement.WebElement (session=\"bdfb0192010458d2cba1934fa41e0308\", element=\"22d188aa-fd0e-47b7-8bdc-6d9ab197038d\")>,\n",
       " <selenium.webdriver.remote.webelement.WebElement (session=\"bdfb0192010458d2cba1934fa41e0308\", element=\"f8ddbfce-a8f6-4848-8f87-d12bc45aab3f\")>,\n",
       " <selenium.webdriver.remote.webelement.WebElement (session=\"bdfb0192010458d2cba1934fa41e0308\", element=\"c75a573d-1098-485c-a765-e0f894d076fc\")>,\n",
       " <selenium.webdriver.remote.webelement.WebElement (session=\"bdfb0192010458d2cba1934fa41e0308\", element=\"2d2e5a6f-52f0-4b08-b40a-3b2114f8d4a3\")>,\n",
       " <selenium.webdriver.remote.webelement.WebElement (session=\"bdfb0192010458d2cba1934fa41e0308\", element=\"f2c26cd5-5f23-4816-88b6-2c1e9768f35b\")>,\n",
       " <selenium.webdriver.remote.webelement.WebElement (session=\"bdfb0192010458d2cba1934fa41e0308\", element=\"1b27dd9e-ad88-46bd-9126-fb8953f5a214\")>,\n",
       " <selenium.webdriver.remote.webelement.WebElement (session=\"bdfb0192010458d2cba1934fa41e0308\", element=\"91d6f7a9-d5bc-4db4-bc33-f8800884af09\")>]"
      ]
     },
     "execution_count": 18,
     "metadata": {},
     "output_type": "execute_result"
    }
   ],
   "source": [
    "experience_tags22=driver22.find_elements_by_xpath(\"//li[@class='fleft grey-text br2 placeHolderLi experience']/span\")\n",
    "experience_tags22[0:10]"
   ]
  },
  {
   "cell_type": "code",
   "execution_count": 19,
   "id": "edb08136",
   "metadata": {},
   "outputs": [
    {
     "data": {
      "text/plain": [
       "['3-6 Yrs',\n",
       " '3-5 Yrs',\n",
       " '5-10 Yrs',\n",
       " '1-4 Yrs',\n",
       " '6-9 Yrs',\n",
       " '12-16 Yrs',\n",
       " '1-2 Yrs',\n",
       " '4-9 Yrs',\n",
       " '5-10 Yrs',\n",
       " '5-7 Yrs']"
      ]
     },
     "execution_count": 19,
     "metadata": {},
     "output_type": "execute_result"
    }
   ],
   "source": [
    "for i in experience_tags22:\n",
    "    experience22=i.text\n",
    "    experience_list22.append(experience22)\n",
    "experience_list22[0:10]"
   ]
  },
  {
   "cell_type": "code",
   "execution_count": 20,
   "id": "52c77948",
   "metadata": {},
   "outputs": [
    {
     "data": {
      "text/plain": [
       "[<selenium.webdriver.remote.webelement.WebElement (session=\"bdfb0192010458d2cba1934fa41e0308\", element=\"42206741-c6b0-4092-9ab5-60c55d28e53a\")>,\n",
       " <selenium.webdriver.remote.webelement.WebElement (session=\"bdfb0192010458d2cba1934fa41e0308\", element=\"738a04f0-1eb1-426a-9bf8-e1b5e91dbef1\")>,\n",
       " <selenium.webdriver.remote.webelement.WebElement (session=\"bdfb0192010458d2cba1934fa41e0308\", element=\"30bcc1fe-4aa9-4fd1-ad8d-91c8edfc2af2\")>,\n",
       " <selenium.webdriver.remote.webelement.WebElement (session=\"bdfb0192010458d2cba1934fa41e0308\", element=\"365a5b88-8da4-4562-b921-487a266087a8\")>,\n",
       " <selenium.webdriver.remote.webelement.WebElement (session=\"bdfb0192010458d2cba1934fa41e0308\", element=\"cb0c6b25-514f-4534-8c81-292512cd2935\")>,\n",
       " <selenium.webdriver.remote.webelement.WebElement (session=\"bdfb0192010458d2cba1934fa41e0308\", element=\"3791cbb8-b39d-48b5-84b0-0cbe49796a87\")>,\n",
       " <selenium.webdriver.remote.webelement.WebElement (session=\"bdfb0192010458d2cba1934fa41e0308\", element=\"5fa3b3e1-1d44-4f8f-bb4c-206d2135982e\")>,\n",
       " <selenium.webdriver.remote.webelement.WebElement (session=\"bdfb0192010458d2cba1934fa41e0308\", element=\"a6c8b0eb-48d7-4058-8144-aaf1030481ab\")>,\n",
       " <selenium.webdriver.remote.webelement.WebElement (session=\"bdfb0192010458d2cba1934fa41e0308\", element=\"ee3ba3d1-d44c-462c-a16d-958d1b621770\")>,\n",
       " <selenium.webdriver.remote.webelement.WebElement (session=\"bdfb0192010458d2cba1934fa41e0308\", element=\"328179a1-0057-4c8c-b88e-9c18947186f8\")>]"
      ]
     },
     "execution_count": 20,
     "metadata": {},
     "output_type": "execute_result"
    }
   ],
   "source": [
    "location22=driver22.find_elements_by_xpath(\"//li[@class='fleft grey-text br2 placeHolderLi location']/span\")\n",
    "location22[0:10]"
   ]
  },
  {
   "cell_type": "code",
   "execution_count": 23,
   "id": "122b4e64",
   "metadata": {},
   "outputs": [
    {
     "ename": "TypeError",
     "evalue": "'list' object is not callable",
     "output_type": "error",
     "traceback": [
      "\u001b[1;31m---------------------------------------------------------------------------\u001b[0m",
      "\u001b[1;31mTypeError\u001b[0m                                 Traceback (most recent call last)",
      "\u001b[1;32m~\\AppData\\Local\\Temp/ipykernel_4212/3697602749.py\u001b[0m in \u001b[0;36m<module>\u001b[1;34m\u001b[0m\n\u001b[1;32m----> 1\u001b[1;33m \u001b[1;32mfor\u001b[0m \u001b[0mi\u001b[0m \u001b[1;32min\u001b[0m \u001b[0mlocation22\u001b[0m\u001b[1;33m(\u001b[0m\u001b[1;33m)\u001b[0m\u001b[1;33m:\u001b[0m\u001b[1;33m\u001b[0m\u001b[1;33m\u001b[0m\u001b[0m\n\u001b[0m\u001b[0;32m      2\u001b[0m     \u001b[0ml\u001b[0m\u001b[1;33m=\u001b[0m\u001b[0mi\u001b[0m\u001b[1;33m.\u001b[0m\u001b[0mtext\u001b[0m\u001b[1;33m\u001b[0m\u001b[1;33m\u001b[0m\u001b[0m\n\u001b[0;32m      3\u001b[0m     \u001b[0mlocations21\u001b[0m\u001b[1;33m.\u001b[0m\u001b[0mappend\u001b[0m\u001b[1;33m(\u001b[0m\u001b[0ml\u001b[0m\u001b[1;33m)\u001b[0m\u001b[1;33m\u001b[0m\u001b[1;33m\u001b[0m\u001b[0m\n\u001b[0;32m      4\u001b[0m \u001b[0mlocations21\u001b[0m\u001b[1;33m[\u001b[0m\u001b[1;36m0\u001b[0m\u001b[1;33m:\u001b[0m\u001b[1;36m10\u001b[0m\u001b[1;33m]\u001b[0m\u001b[1;33m\u001b[0m\u001b[1;33m\u001b[0m\u001b[0m\n",
      "\u001b[1;31mTypeError\u001b[0m: 'list' object is not callable"
     ]
    }
   ],
   "source": [
    "for i in location22():\n",
    "    l=i.text\n",
    "    locations21.append(l)\n",
    "locations21[0:10]"
   ]
  },
  {
   "cell_type": "code",
   "execution_count": 26,
   "id": "5f79f0f5",
   "metadata": {},
   "outputs": [],
   "source": [
    "jobs=pd.DataFrame({})\n",
    "jobs[\"titles\"]=job_titles22\n",
    "jobs['company']=company_names22\n",
    "jobs[\"experience_required\"]=experience_list22"
   ]
  },
  {
   "cell_type": "code",
   "execution_count": 27,
   "id": "66d413a6",
   "metadata": {},
   "outputs": [
    {
     "data": {
      "text/html": [
       "<div>\n",
       "<style scoped>\n",
       "    .dataframe tbody tr th:only-of-type {\n",
       "        vertical-align: middle;\n",
       "    }\n",
       "\n",
       "    .dataframe tbody tr th {\n",
       "        vertical-align: top;\n",
       "    }\n",
       "\n",
       "    .dataframe thead th {\n",
       "        text-align: right;\n",
       "    }\n",
       "</style>\n",
       "<table border=\"1\" class=\"dataframe\">\n",
       "  <thead>\n",
       "    <tr style=\"text-align: right;\">\n",
       "      <th></th>\n",
       "      <th>titles</th>\n",
       "      <th>company</th>\n",
       "      <th>experience_required</th>\n",
       "    </tr>\n",
       "  </thead>\n",
       "  <tbody>\n",
       "  </tbody>\n",
       "</table>\n",
       "</div>"
      ],
      "text/plain": [
       "Empty DataFrame\n",
       "Columns: [titles, company, experience_required]\n",
       "Index: []"
      ]
     },
     "execution_count": 27,
     "metadata": {},
     "output_type": "execute_result"
    }
   ],
   "source": [
    "jobs.head(10)"
   ]
  },
  {
   "cell_type": "markdown",
   "id": "c1737a2b",
   "metadata": {},
   "source": [
    "4---->"
   ]
  },
  {
   "cell_type": "code",
   "execution_count": 26,
   "id": "913574da",
   "metadata": {},
   "outputs": [],
   "source": [
    "driver1=webdriver.Chrome(r\"C:\\Users\\91907\\chromedriver.exe\")"
   ]
  },
  {
   "cell_type": "code",
   "execution_count": 27,
   "id": "d1e0ba29",
   "metadata": {},
   "outputs": [],
   "source": [
    "driver1=webdriver.Chrome(\"chromedriver.exe\")\n",
    "time.sleep(2)"
   ]
  },
  {
   "cell_type": "code",
   "execution_count": 28,
   "id": "cdb15443",
   "metadata": {},
   "outputs": [],
   "source": [
    "driver1.get('https://www.myntra.com/shoes')"
   ]
  },
  {
   "cell_type": "code",
   "execution_count": 30,
   "id": "e3986119",
   "metadata": {},
   "outputs": [],
   "source": [
    "brand_name=[]\n",
    "price_list=[]"
   ]
  },
  {
   "cell_type": "code",
   "execution_count": 31,
   "id": "a3673d85",
   "metadata": {},
   "outputs": [
    {
     "data": {
      "text/plain": [
       "[<selenium.webdriver.remote.webelement.WebElement (session=\"7a20d717a2cf7241da7995a144cff2dc\", element=\"22dde762-15de-484e-97e7-734d80d309f3\")>,\n",
       " <selenium.webdriver.remote.webelement.WebElement (session=\"7a20d717a2cf7241da7995a144cff2dc\", element=\"72851eed-230f-45ed-9209-29df40426b98\")>,\n",
       " <selenium.webdriver.remote.webelement.WebElement (session=\"7a20d717a2cf7241da7995a144cff2dc\", element=\"b94f33dd-c0f5-44bb-ab14-37478097ab83\")>,\n",
       " <selenium.webdriver.remote.webelement.WebElement (session=\"7a20d717a2cf7241da7995a144cff2dc\", element=\"613855e5-4877-4e97-ba6e-d99868285770\")>,\n",
       " <selenium.webdriver.remote.webelement.WebElement (session=\"7a20d717a2cf7241da7995a144cff2dc\", element=\"b07107d0-4a0c-434f-b2c7-f8cbb36671f1\")>,\n",
       " <selenium.webdriver.remote.webelement.WebElement (session=\"7a20d717a2cf7241da7995a144cff2dc\", element=\"306c4c74-75c0-4324-ac73-ee144b89d166\")>,\n",
       " <selenium.webdriver.remote.webelement.WebElement (session=\"7a20d717a2cf7241da7995a144cff2dc\", element=\"d0cbfc73-9762-45ed-9569-f2d856606333\")>,\n",
       " <selenium.webdriver.remote.webelement.WebElement (session=\"7a20d717a2cf7241da7995a144cff2dc\", element=\"605cdfcd-cc37-48c0-a2a6-a76a89a42568\")>,\n",
       " <selenium.webdriver.remote.webelement.WebElement (session=\"7a20d717a2cf7241da7995a144cff2dc\", element=\"e0aad2a2-d4ce-4b8a-a36d-c0af1102081f\")>,\n",
       " <selenium.webdriver.remote.webelement.WebElement (session=\"7a20d717a2cf7241da7995a144cff2dc\", element=\"c7d4a29e-fc31-4eae-9dc8-03e06201217e\")>,\n",
       " <selenium.webdriver.remote.webelement.WebElement (session=\"7a20d717a2cf7241da7995a144cff2dc\", element=\"548e887f-daef-40be-bde4-41aa16a4036f\")>,\n",
       " <selenium.webdriver.remote.webelement.WebElement (session=\"7a20d717a2cf7241da7995a144cff2dc\", element=\"45490981-966d-495b-ba55-3a7e01186535\")>,\n",
       " <selenium.webdriver.remote.webelement.WebElement (session=\"7a20d717a2cf7241da7995a144cff2dc\", element=\"3735f161-c9ea-47c9-adc4-d3056e3982d4\")>,\n",
       " <selenium.webdriver.remote.webelement.WebElement (session=\"7a20d717a2cf7241da7995a144cff2dc\", element=\"c869d116-0032-4c5c-a367-bfd1fad3df10\")>,\n",
       " <selenium.webdriver.remote.webelement.WebElement (session=\"7a20d717a2cf7241da7995a144cff2dc\", element=\"6ee2cdf0-b4ff-4310-84f8-34d0c022082b\")>,\n",
       " <selenium.webdriver.remote.webelement.WebElement (session=\"7a20d717a2cf7241da7995a144cff2dc\", element=\"0e6d4606-0b6d-4dd8-9e3f-f8e58d5e5f0b\")>,\n",
       " <selenium.webdriver.remote.webelement.WebElement (session=\"7a20d717a2cf7241da7995a144cff2dc\", element=\"aadfa0e4-f5a7-4b0a-a1f2-175739dd6ab0\")>,\n",
       " <selenium.webdriver.remote.webelement.WebElement (session=\"7a20d717a2cf7241da7995a144cff2dc\", element=\"4685ea23-814d-47b1-9b49-dd3726c933f0\")>,\n",
       " <selenium.webdriver.remote.webelement.WebElement (session=\"7a20d717a2cf7241da7995a144cff2dc\", element=\"2713658e-cacb-4a2f-8898-6abbc6a67446\")>,\n",
       " <selenium.webdriver.remote.webelement.WebElement (session=\"7a20d717a2cf7241da7995a144cff2dc\", element=\"903301f8-0dde-468a-950b-fa311bef4bff\")>,\n",
       " <selenium.webdriver.remote.webelement.WebElement (session=\"7a20d717a2cf7241da7995a144cff2dc\", element=\"93138af8-5a2c-4ca0-823c-5b4b3f9235d0\")>,\n",
       " <selenium.webdriver.remote.webelement.WebElement (session=\"7a20d717a2cf7241da7995a144cff2dc\", element=\"b1af4d4b-a01c-45ef-8588-31caa68b6e8f\")>,\n",
       " <selenium.webdriver.remote.webelement.WebElement (session=\"7a20d717a2cf7241da7995a144cff2dc\", element=\"ca25c8a3-e3c4-479e-ade7-b9fefc07d41b\")>,\n",
       " <selenium.webdriver.remote.webelement.WebElement (session=\"7a20d717a2cf7241da7995a144cff2dc\", element=\"b86aa716-277a-4581-898d-5ea220019fa3\")>,\n",
       " <selenium.webdriver.remote.webelement.WebElement (session=\"7a20d717a2cf7241da7995a144cff2dc\", element=\"d4d118a3-b9fb-4e6d-ac46-11de42d56e11\")>,\n",
       " <selenium.webdriver.remote.webelement.WebElement (session=\"7a20d717a2cf7241da7995a144cff2dc\", element=\"d3c28b8c-1a2f-48ca-bd50-59ddb6f1c030\")>,\n",
       " <selenium.webdriver.remote.webelement.WebElement (session=\"7a20d717a2cf7241da7995a144cff2dc\", element=\"27c5fad1-1147-4d50-8d69-957adb6cdda4\")>,\n",
       " <selenium.webdriver.remote.webelement.WebElement (session=\"7a20d717a2cf7241da7995a144cff2dc\", element=\"06838a08-29c8-4486-bf52-9a4e95739936\")>,\n",
       " <selenium.webdriver.remote.webelement.WebElement (session=\"7a20d717a2cf7241da7995a144cff2dc\", element=\"65b9f5c6-29ab-43a7-82cb-caafccab6dcb\")>,\n",
       " <selenium.webdriver.remote.webelement.WebElement (session=\"7a20d717a2cf7241da7995a144cff2dc\", element=\"7fc597be-7972-4dd1-9d0e-0d1bc7f8e565\")>,\n",
       " <selenium.webdriver.remote.webelement.WebElement (session=\"7a20d717a2cf7241da7995a144cff2dc\", element=\"f86da985-ad27-4529-8c18-a37f90412fdb\")>,\n",
       " <selenium.webdriver.remote.webelement.WebElement (session=\"7a20d717a2cf7241da7995a144cff2dc\", element=\"c921dfab-22b1-493c-903f-84854d12bda5\")>,\n",
       " <selenium.webdriver.remote.webelement.WebElement (session=\"7a20d717a2cf7241da7995a144cff2dc\", element=\"b341df3e-907d-42a2-afb6-91329efd6eab\")>,\n",
       " <selenium.webdriver.remote.webelement.WebElement (session=\"7a20d717a2cf7241da7995a144cff2dc\", element=\"9088d808-3450-443c-ace4-451e026d7c17\")>,\n",
       " <selenium.webdriver.remote.webelement.WebElement (session=\"7a20d717a2cf7241da7995a144cff2dc\", element=\"f5cf9d8a-f898-480a-bff7-3d50f97cda37\")>,\n",
       " <selenium.webdriver.remote.webelement.WebElement (session=\"7a20d717a2cf7241da7995a144cff2dc\", element=\"6881abc3-8de6-47d8-a727-6bf9d9488b9e\")>,\n",
       " <selenium.webdriver.remote.webelement.WebElement (session=\"7a20d717a2cf7241da7995a144cff2dc\", element=\"243214b3-f091-44d9-8a90-28c297b6d797\")>,\n",
       " <selenium.webdriver.remote.webelement.WebElement (session=\"7a20d717a2cf7241da7995a144cff2dc\", element=\"6e76d3d5-edec-4057-a90a-8e95912e0f39\")>,\n",
       " <selenium.webdriver.remote.webelement.WebElement (session=\"7a20d717a2cf7241da7995a144cff2dc\", element=\"a6bd065a-00b1-40cf-886b-327ee7f16640\")>,\n",
       " <selenium.webdriver.remote.webelement.WebElement (session=\"7a20d717a2cf7241da7995a144cff2dc\", element=\"cd5feac3-6dee-45b7-8273-0bcbb1858aae\")>,\n",
       " <selenium.webdriver.remote.webelement.WebElement (session=\"7a20d717a2cf7241da7995a144cff2dc\", element=\"fea3a766-3dfd-4b26-bb63-697e5047128e\")>,\n",
       " <selenium.webdriver.remote.webelement.WebElement (session=\"7a20d717a2cf7241da7995a144cff2dc\", element=\"862676e3-07f7-4553-8db1-dc8e32fc7309\")>,\n",
       " <selenium.webdriver.remote.webelement.WebElement (session=\"7a20d717a2cf7241da7995a144cff2dc\", element=\"32c4c9a2-d4fd-4c66-b1cc-506e1386f73e\")>,\n",
       " <selenium.webdriver.remote.webelement.WebElement (session=\"7a20d717a2cf7241da7995a144cff2dc\", element=\"e6b77d11-b18f-446e-afea-5e74e4215475\")>,\n",
       " <selenium.webdriver.remote.webelement.WebElement (session=\"7a20d717a2cf7241da7995a144cff2dc\", element=\"3943b35e-8c18-488b-8833-29be3b73b7b2\")>,\n",
       " <selenium.webdriver.remote.webelement.WebElement (session=\"7a20d717a2cf7241da7995a144cff2dc\", element=\"25aaf3ca-c43f-487e-88ae-653cddf0fd5d\")>,\n",
       " <selenium.webdriver.remote.webelement.WebElement (session=\"7a20d717a2cf7241da7995a144cff2dc\", element=\"7e63bf5c-3443-4450-a0ee-75feaec0beec\")>,\n",
       " <selenium.webdriver.remote.webelement.WebElement (session=\"7a20d717a2cf7241da7995a144cff2dc\", element=\"47fccf23-96f6-4ed6-a4ed-03fd7e00dd75\")>,\n",
       " <selenium.webdriver.remote.webelement.WebElement (session=\"7a20d717a2cf7241da7995a144cff2dc\", element=\"9a953d4e-6413-463c-9d6b-0568554174a1\")>,\n",
       " <selenium.webdriver.remote.webelement.WebElement (session=\"7a20d717a2cf7241da7995a144cff2dc\", element=\"14e78145-175f-487b-b26b-3d9aa56d8ed5\")>]"
      ]
     },
     "execution_count": 31,
     "metadata": {},
     "output_type": "execute_result"
    }
   ],
   "source": [
    "titles_tag=driver1.find_elements_by_xpath(\"//h3[@class='product-brand']\")\n",
    "titles_tag[0:100]"
   ]
  },
  {
   "cell_type": "code",
   "execution_count": 32,
   "id": "52892555",
   "metadata": {},
   "outputs": [
    {
     "data": {
      "text/plain": [
       "['Senior Data Analyst',\n",
       " 'Senior Data Analyst',\n",
       " 'Data Analyst- customer facing',\n",
       " 'Sr Data Analyst II',\n",
       " 'Business analyst + data Analysis',\n",
       " 'Consultant - Data Analyst',\n",
       " 'Data Analyst',\n",
       " 'Hiring For Data Analyst with SAP ABAP & BW - C2H Wipro',\n",
       " 'Senior Business Analyst - Data Sciences and Advanced Analytics',\n",
       " 'Business and Data Analyst',\n",
       " 'Senior Data Analyst | Lululemon',\n",
       " 'Urgent hiring For Senior Data Analyst',\n",
       " 'Senior Data Analyst',\n",
       " 'Senior Data Analyst',\n",
       " 'Jr . Data Analyst',\n",
       " 'Data Analyst',\n",
       " 'Data Analyst - IIM/ISB/MDI/FMS/SP Jain',\n",
       " 'SQL Data Analyst',\n",
       " 'SAS Analyst / data Analyst / Business analyst - Sas + SQL',\n",
       " 'Analyst, Item Data',\n",
       " 'Puma',\n",
       " 'Puma',\n",
       " 'ALDO',\n",
       " 'Puma',\n",
       " 'Denill',\n",
       " 'Woakers',\n",
       " 'Puma',\n",
       " 'Woakers',\n",
       " 'Denill',\n",
       " 'RINDAS',\n",
       " 'ASIAN',\n",
       " 'HIGHLANDER',\n",
       " 'Fentacia',\n",
       " 'HIGHLANDER',\n",
       " 'Woodland',\n",
       " 'CLYMB',\n",
       " 'ADIDAS',\n",
       " 'WROGN',\n",
       " 'HIGHLANDER',\n",
       " 'ASIAN',\n",
       " 'ASIAN',\n",
       " 'Power',\n",
       " 'HIGHLANDER',\n",
       " 'ADIDAS',\n",
       " 'Puma',\n",
       " 'ASIAN',\n",
       " 'HIGHLANDER',\n",
       " 'Campus',\n",
       " 'Denill',\n",
       " 'HIGHLANDER',\n",
       " 'HIGHLANDER',\n",
       " 'Roadster',\n",
       " 'max',\n",
       " 'HIGHLANDER',\n",
       " 'Duke',\n",
       " 'Mactree',\n",
       " 'Fentacia',\n",
       " 'Campus',\n",
       " 'RINDAS',\n",
       " 'HIGHLANDER',\n",
       " 'Liberty',\n",
       " 'HIGHLANDER',\n",
       " 'Fentacia',\n",
       " 'Fentacia',\n",
       " 'HIGHLANDER',\n",
       " 'ASIAN',\n",
       " 'RINDAS',\n",
       " 'Campus',\n",
       " 'Woodland',\n",
       " 'RINDAS']"
      ]
     },
     "execution_count": 32,
     "metadata": {},
     "output_type": "execute_result"
    }
   ],
   "source": [
    "for i in titles_tag:\n",
    "    title=i.text\n",
    "    job_titles.append(title)\n",
    "job_titles[0:100]"
   ]
  },
  {
   "cell_type": "code",
   "execution_count": 33,
   "id": "2c43e339",
   "metadata": {},
   "outputs": [
    {
     "data": {
      "text/plain": [
       "[<selenium.webdriver.remote.webelement.WebElement (session=\"7a20d717a2cf7241da7995a144cff2dc\", element=\"779284d2-33ae-41bd-b67a-4b3753ddadcb\")>,\n",
       " <selenium.webdriver.remote.webelement.WebElement (session=\"7a20d717a2cf7241da7995a144cff2dc\", element=\"aff500ad-dc9f-4dfc-8590-88a67c7d9887\")>,\n",
       " <selenium.webdriver.remote.webelement.WebElement (session=\"7a20d717a2cf7241da7995a144cff2dc\", element=\"d6056a6b-a41e-45c5-aa26-9eb169ab14c3\")>,\n",
       " <selenium.webdriver.remote.webelement.WebElement (session=\"7a20d717a2cf7241da7995a144cff2dc\", element=\"cb3fd94d-590b-4ce9-859e-f0f940b34e5d\")>,\n",
       " <selenium.webdriver.remote.webelement.WebElement (session=\"7a20d717a2cf7241da7995a144cff2dc\", element=\"54ff4025-889e-4975-b730-2e7d1635fc17\")>,\n",
       " <selenium.webdriver.remote.webelement.WebElement (session=\"7a20d717a2cf7241da7995a144cff2dc\", element=\"e6cd4f5c-6cc4-486f-b029-11c5ef120011\")>,\n",
       " <selenium.webdriver.remote.webelement.WebElement (session=\"7a20d717a2cf7241da7995a144cff2dc\", element=\"de67b26a-d85c-488f-833d-21c35ac16e24\")>,\n",
       " <selenium.webdriver.remote.webelement.WebElement (session=\"7a20d717a2cf7241da7995a144cff2dc\", element=\"974ccaae-4fbc-4113-aed0-c874e4c4914e\")>,\n",
       " <selenium.webdriver.remote.webelement.WebElement (session=\"7a20d717a2cf7241da7995a144cff2dc\", element=\"b698f557-4927-4e46-8183-1c0378f489f8\")>,\n",
       " <selenium.webdriver.remote.webelement.WebElement (session=\"7a20d717a2cf7241da7995a144cff2dc\", element=\"7201ed8f-38a0-4de2-b353-478f23d82351\")>,\n",
       " <selenium.webdriver.remote.webelement.WebElement (session=\"7a20d717a2cf7241da7995a144cff2dc\", element=\"2534fc28-d92a-453f-bdb1-487685a95974\")>,\n",
       " <selenium.webdriver.remote.webelement.WebElement (session=\"7a20d717a2cf7241da7995a144cff2dc\", element=\"d7882687-70fd-44c2-b00c-c4df830567cc\")>,\n",
       " <selenium.webdriver.remote.webelement.WebElement (session=\"7a20d717a2cf7241da7995a144cff2dc\", element=\"3d340b1c-532c-4adc-aec8-3a217c17a092\")>,\n",
       " <selenium.webdriver.remote.webelement.WebElement (session=\"7a20d717a2cf7241da7995a144cff2dc\", element=\"f48014b7-5c22-4f4b-95eb-95cd6848f9bd\")>,\n",
       " <selenium.webdriver.remote.webelement.WebElement (session=\"7a20d717a2cf7241da7995a144cff2dc\", element=\"3e101020-9a9e-4529-b84b-6d3e9b8b83d9\")>,\n",
       " <selenium.webdriver.remote.webelement.WebElement (session=\"7a20d717a2cf7241da7995a144cff2dc\", element=\"32c11825-d45a-44f1-8191-ad7a5ef3168d\")>,\n",
       " <selenium.webdriver.remote.webelement.WebElement (session=\"7a20d717a2cf7241da7995a144cff2dc\", element=\"49c29686-f949-4cb6-b67a-0a15904faf96\")>,\n",
       " <selenium.webdriver.remote.webelement.WebElement (session=\"7a20d717a2cf7241da7995a144cff2dc\", element=\"35e26937-4cd3-4348-b1d3-eb72fec0e9f1\")>,\n",
       " <selenium.webdriver.remote.webelement.WebElement (session=\"7a20d717a2cf7241da7995a144cff2dc\", element=\"249a7751-d5ae-43bb-a356-6db51a55578f\")>,\n",
       " <selenium.webdriver.remote.webelement.WebElement (session=\"7a20d717a2cf7241da7995a144cff2dc\", element=\"36fdac71-47b7-4299-a16f-958513b0b88b\")>,\n",
       " <selenium.webdriver.remote.webelement.WebElement (session=\"7a20d717a2cf7241da7995a144cff2dc\", element=\"7d567131-8c9d-4f5f-a6e2-77d543e5b9b0\")>,\n",
       " <selenium.webdriver.remote.webelement.WebElement (session=\"7a20d717a2cf7241da7995a144cff2dc\", element=\"c83bc613-00f2-4bcb-86e7-8a023830a22c\")>,\n",
       " <selenium.webdriver.remote.webelement.WebElement (session=\"7a20d717a2cf7241da7995a144cff2dc\", element=\"4609235d-0ed6-4ebb-8e05-3bf094aac35b\")>,\n",
       " <selenium.webdriver.remote.webelement.WebElement (session=\"7a20d717a2cf7241da7995a144cff2dc\", element=\"aa3c880a-ff50-4e29-817e-63a2d52e903f\")>,\n",
       " <selenium.webdriver.remote.webelement.WebElement (session=\"7a20d717a2cf7241da7995a144cff2dc\", element=\"691ca27a-6fb8-4e49-9475-c3138c76399d\")>,\n",
       " <selenium.webdriver.remote.webelement.WebElement (session=\"7a20d717a2cf7241da7995a144cff2dc\", element=\"285d3d6a-28dc-491d-9aa3-c371911c336f\")>,\n",
       " <selenium.webdriver.remote.webelement.WebElement (session=\"7a20d717a2cf7241da7995a144cff2dc\", element=\"fc3a3106-a3c6-49c9-81a6-af547f158918\")>,\n",
       " <selenium.webdriver.remote.webelement.WebElement (session=\"7a20d717a2cf7241da7995a144cff2dc\", element=\"0f13afa8-9eab-4546-87d1-9b797f4ecec2\")>,\n",
       " <selenium.webdriver.remote.webelement.WebElement (session=\"7a20d717a2cf7241da7995a144cff2dc\", element=\"73b10e7e-f8ed-4853-b023-2802bd6704e8\")>,\n",
       " <selenium.webdriver.remote.webelement.WebElement (session=\"7a20d717a2cf7241da7995a144cff2dc\", element=\"657edc93-ff03-4b82-84f7-20976e93a826\")>,\n",
       " <selenium.webdriver.remote.webelement.WebElement (session=\"7a20d717a2cf7241da7995a144cff2dc\", element=\"d4b6e011-41b9-457f-b2ba-cd14a5458f36\")>,\n",
       " <selenium.webdriver.remote.webelement.WebElement (session=\"7a20d717a2cf7241da7995a144cff2dc\", element=\"0b320578-aa92-414a-8ed3-6122ada2564a\")>,\n",
       " <selenium.webdriver.remote.webelement.WebElement (session=\"7a20d717a2cf7241da7995a144cff2dc\", element=\"f4b5bf60-d52c-46e3-a82a-fbb9b9acd60c\")>,\n",
       " <selenium.webdriver.remote.webelement.WebElement (session=\"7a20d717a2cf7241da7995a144cff2dc\", element=\"320a6ab1-93ff-4d31-bde2-e96fa6a2a863\")>,\n",
       " <selenium.webdriver.remote.webelement.WebElement (session=\"7a20d717a2cf7241da7995a144cff2dc\", element=\"4b0bcd1c-6b91-4ad2-97b9-5e7f34123d3e\")>,\n",
       " <selenium.webdriver.remote.webelement.WebElement (session=\"7a20d717a2cf7241da7995a144cff2dc\", element=\"3b708683-b6cb-4e71-adf1-ea7a7d26f91c\")>,\n",
       " <selenium.webdriver.remote.webelement.WebElement (session=\"7a20d717a2cf7241da7995a144cff2dc\", element=\"23308101-a531-484c-a97b-f466cabcd34b\")>,\n",
       " <selenium.webdriver.remote.webelement.WebElement (session=\"7a20d717a2cf7241da7995a144cff2dc\", element=\"17abde47-1648-4435-b032-a0d93cb3fbb6\")>,\n",
       " <selenium.webdriver.remote.webelement.WebElement (session=\"7a20d717a2cf7241da7995a144cff2dc\", element=\"c6ed3097-8d67-432e-a5c2-4f7e28b4568b\")>,\n",
       " <selenium.webdriver.remote.webelement.WebElement (session=\"7a20d717a2cf7241da7995a144cff2dc\", element=\"6a550d5f-71c6-4d60-8b22-aed2a92a13b3\")>,\n",
       " <selenium.webdriver.remote.webelement.WebElement (session=\"7a20d717a2cf7241da7995a144cff2dc\", element=\"8936471c-f30f-4a34-8cfe-6f594dd4cb6f\")>,\n",
       " <selenium.webdriver.remote.webelement.WebElement (session=\"7a20d717a2cf7241da7995a144cff2dc\", element=\"f3d2310c-69e3-428d-86f2-05ea46701d5f\")>,\n",
       " <selenium.webdriver.remote.webelement.WebElement (session=\"7a20d717a2cf7241da7995a144cff2dc\", element=\"83848e1a-a583-43cd-9015-1cc7d1b076e2\")>,\n",
       " <selenium.webdriver.remote.webelement.WebElement (session=\"7a20d717a2cf7241da7995a144cff2dc\", element=\"ce7b8be9-21f6-4e38-b9e8-048cfc9af71d\")>,\n",
       " <selenium.webdriver.remote.webelement.WebElement (session=\"7a20d717a2cf7241da7995a144cff2dc\", element=\"df95cc0e-0d12-4a4b-bf26-b07815d705c7\")>,\n",
       " <selenium.webdriver.remote.webelement.WebElement (session=\"7a20d717a2cf7241da7995a144cff2dc\", element=\"9cafccc2-5a4e-404b-a334-429a3691c5b3\")>,\n",
       " <selenium.webdriver.remote.webelement.WebElement (session=\"7a20d717a2cf7241da7995a144cff2dc\", element=\"67aca2b1-5388-4967-97fc-cd82f3e9dba9\")>,\n",
       " <selenium.webdriver.remote.webelement.WebElement (session=\"7a20d717a2cf7241da7995a144cff2dc\", element=\"12e27211-a7f0-4ebb-871c-c640f8f4656d\")>,\n",
       " <selenium.webdriver.remote.webelement.WebElement (session=\"7a20d717a2cf7241da7995a144cff2dc\", element=\"cebeb57a-dab3-46cf-a497-a63e7ccbfb0a\")>,\n",
       " <selenium.webdriver.remote.webelement.WebElement (session=\"7a20d717a2cf7241da7995a144cff2dc\", element=\"41166276-3752-493f-b486-b95e14f7ba29\")>]"
      ]
     },
     "execution_count": 33,
     "metadata": {},
     "output_type": "execute_result"
    }
   ],
   "source": [
    "brand_descriptions=driver1.find_elements_by_xpath(\"//h4[@class='product-product']\")\n",
    "brand_descriptions[0:100]"
   ]
  },
  {
   "cell_type": "code",
   "execution_count": 35,
   "id": "b958e482",
   "metadata": {},
   "outputs": [
    {
     "data": {
      "text/plain": [
       "['Men Running Shoes',\n",
       " 'Women Driving Shoes',\n",
       " 'Men Driving Shoes',\n",
       " 'Men Running Shoes',\n",
       " 'Women Running Shoes',\n",
       " 'Men Running Shoes',\n",
       " 'Men Emergence Sports Shoes',\n",
       " 'Men Solid Driving Shoes',\n",
       " 'Women Walking Shoes',\n",
       " 'Women Walking Shoes',\n",
       " 'Women Running Shoes',\n",
       " 'Men Driving Shoes',\n",
       " 'Men Driving Shoes',\n",
       " 'Men Driving Shoes',\n",
       " 'Casual Shoes',\n",
       " 'Men Running Shoes',\n",
       " 'Women Running Shoes',\n",
       " 'Men Woven Design Running Shoes',\n",
       " 'Men Driving Shoes',\n",
       " 'Women Running Shoes',\n",
       " 'Men Running Shoes',\n",
       " 'Women Walking Shoes',\n",
       " 'Men Driving Shoes',\n",
       " 'Men Running Shoes',\n",
       " 'Men Trekking Shoes',\n",
       " 'Women Running Shoes',\n",
       " 'Men Driving Shoes',\n",
       " 'Women Running Shoes',\n",
       " 'Women Walking Shoes',\n",
       " 'Men Driving Shoes',\n",
       " 'Men Solid Driving Shoes',\n",
       " 'Men Solid Running Shoes',\n",
       " 'Women Running Shoes',\n",
       " 'Men Solid Driving Shoes',\n",
       " 'Men Running Shoes',\n",
       " 'Men Walking Shoes',\n",
       " 'Men Driving Shoes',\n",
       " 'Men Running Shoes',\n",
       " 'Women Walking Shoes',\n",
       " 'Men Driving Shoes',\n",
       " 'Men Walking Shoes',\n",
       " 'Men Driving Shoes',\n",
       " 'Men Driving Shoes',\n",
       " 'Men Driving Shoes',\n",
       " 'Men Driving Shoes',\n",
       " 'Women Running Shoes',\n",
       " 'Women Walking Shoes',\n",
       " 'Men Running Shoes',\n",
       " 'Casual Shoes',\n",
       " 'Women Walking Shoes']"
      ]
     },
     "execution_count": 35,
     "metadata": {},
     "output_type": "execute_result"
    }
   ],
   "source": [
    "for i in brand_descriptions:\n",
    "    brand=i.text\n",
    "    brand_name.append(brand)\n",
    "brand_name[0:100]"
   ]
  },
  {
   "cell_type": "code",
   "execution_count": 36,
   "id": "33e2ba88",
   "metadata": {},
   "outputs": [
    {
     "data": {
      "text/plain": [
       "[<selenium.webdriver.remote.webelement.WebElement (session=\"7a20d717a2cf7241da7995a144cff2dc\", element=\"7b384921-afbd-48d5-843c-ca0de339c3d7\")>,\n",
       " <selenium.webdriver.remote.webelement.WebElement (session=\"7a20d717a2cf7241da7995a144cff2dc\", element=\"40be7d44-ab19-44c2-bd75-307fac87e7f8\")>,\n",
       " <selenium.webdriver.remote.webelement.WebElement (session=\"7a20d717a2cf7241da7995a144cff2dc\", element=\"f3997bc6-7575-48ef-989d-dba517873615\")>,\n",
       " <selenium.webdriver.remote.webelement.WebElement (session=\"7a20d717a2cf7241da7995a144cff2dc\", element=\"1b48a4f1-f8e9-45a3-8a81-4fef85556274\")>,\n",
       " <selenium.webdriver.remote.webelement.WebElement (session=\"7a20d717a2cf7241da7995a144cff2dc\", element=\"40e4ea16-c353-4212-bb84-34e69cb8c620\")>,\n",
       " <selenium.webdriver.remote.webelement.WebElement (session=\"7a20d717a2cf7241da7995a144cff2dc\", element=\"a7c76fe7-4672-405e-90da-e977eee83e32\")>,\n",
       " <selenium.webdriver.remote.webelement.WebElement (session=\"7a20d717a2cf7241da7995a144cff2dc\", element=\"d11c716c-5d6a-45aa-a3ee-93e39d7a9f19\")>,\n",
       " <selenium.webdriver.remote.webelement.WebElement (session=\"7a20d717a2cf7241da7995a144cff2dc\", element=\"02262997-6695-442e-b632-0fb186fe53d4\")>,\n",
       " <selenium.webdriver.remote.webelement.WebElement (session=\"7a20d717a2cf7241da7995a144cff2dc\", element=\"09b38756-e005-4a57-b972-42edb8449026\")>,\n",
       " <selenium.webdriver.remote.webelement.WebElement (session=\"7a20d717a2cf7241da7995a144cff2dc\", element=\"fec3f6a4-d6ea-4c12-a4c9-db6bc500026a\")>,\n",
       " <selenium.webdriver.remote.webelement.WebElement (session=\"7a20d717a2cf7241da7995a144cff2dc\", element=\"82926870-539f-48b4-8607-f8eb3f57dec6\")>,\n",
       " <selenium.webdriver.remote.webelement.WebElement (session=\"7a20d717a2cf7241da7995a144cff2dc\", element=\"5b432b0d-5359-4fc5-8eec-779a2c31d548\")>,\n",
       " <selenium.webdriver.remote.webelement.WebElement (session=\"7a20d717a2cf7241da7995a144cff2dc\", element=\"2a17ccb3-fbb3-4391-9032-97f1310bb685\")>,\n",
       " <selenium.webdriver.remote.webelement.WebElement (session=\"7a20d717a2cf7241da7995a144cff2dc\", element=\"32415709-cadf-435a-b102-399466f20cbd\")>,\n",
       " <selenium.webdriver.remote.webelement.WebElement (session=\"7a20d717a2cf7241da7995a144cff2dc\", element=\"6c154536-c8ce-4d82-abe7-71c72af3cfd9\")>,\n",
       " <selenium.webdriver.remote.webelement.WebElement (session=\"7a20d717a2cf7241da7995a144cff2dc\", element=\"8301cf64-13d9-4684-9b84-40cf05dbaa72\")>,\n",
       " <selenium.webdriver.remote.webelement.WebElement (session=\"7a20d717a2cf7241da7995a144cff2dc\", element=\"76ebb476-01a4-4cac-9551-f6d9fd84cda3\")>,\n",
       " <selenium.webdriver.remote.webelement.WebElement (session=\"7a20d717a2cf7241da7995a144cff2dc\", element=\"2187d905-c95e-45ae-a944-fef78a47fbe4\")>,\n",
       " <selenium.webdriver.remote.webelement.WebElement (session=\"7a20d717a2cf7241da7995a144cff2dc\", element=\"047693a1-8cef-4b04-874e-d8a334adfaa9\")>,\n",
       " <selenium.webdriver.remote.webelement.WebElement (session=\"7a20d717a2cf7241da7995a144cff2dc\", element=\"1abca0a2-6400-48bb-ab8d-31bf78079aad\")>,\n",
       " <selenium.webdriver.remote.webelement.WebElement (session=\"7a20d717a2cf7241da7995a144cff2dc\", element=\"83076bde-ebfc-4b9b-aa98-cd14be70e2fb\")>,\n",
       " <selenium.webdriver.remote.webelement.WebElement (session=\"7a20d717a2cf7241da7995a144cff2dc\", element=\"c634b397-36d0-4ac7-b48c-2de85c24387b\")>,\n",
       " <selenium.webdriver.remote.webelement.WebElement (session=\"7a20d717a2cf7241da7995a144cff2dc\", element=\"701115f9-0ae0-4768-b27f-fc2e819cdec1\")>,\n",
       " <selenium.webdriver.remote.webelement.WebElement (session=\"7a20d717a2cf7241da7995a144cff2dc\", element=\"f3958847-9339-436f-8c85-fc775337742c\")>,\n",
       " <selenium.webdriver.remote.webelement.WebElement (session=\"7a20d717a2cf7241da7995a144cff2dc\", element=\"fdcf471a-b0ba-45ea-9ada-e44ccbc12c08\")>,\n",
       " <selenium.webdriver.remote.webelement.WebElement (session=\"7a20d717a2cf7241da7995a144cff2dc\", element=\"3ac9a4ee-8b9b-4aee-b008-afc99ea0f512\")>,\n",
       " <selenium.webdriver.remote.webelement.WebElement (session=\"7a20d717a2cf7241da7995a144cff2dc\", element=\"876e7bfd-f423-4bde-b1e6-093022bffdfa\")>,\n",
       " <selenium.webdriver.remote.webelement.WebElement (session=\"7a20d717a2cf7241da7995a144cff2dc\", element=\"40cb2a86-e4e7-406a-aae5-d1f5aa6a899e\")>,\n",
       " <selenium.webdriver.remote.webelement.WebElement (session=\"7a20d717a2cf7241da7995a144cff2dc\", element=\"2a3bf089-5f69-457d-b985-f3d10e5ede15\")>,\n",
       " <selenium.webdriver.remote.webelement.WebElement (session=\"7a20d717a2cf7241da7995a144cff2dc\", element=\"e63e1353-2922-47f7-b2e0-6a34f3e4c805\")>,\n",
       " <selenium.webdriver.remote.webelement.WebElement (session=\"7a20d717a2cf7241da7995a144cff2dc\", element=\"ef93e5e1-d22b-4e19-bf6b-1b8066222ae6\")>,\n",
       " <selenium.webdriver.remote.webelement.WebElement (session=\"7a20d717a2cf7241da7995a144cff2dc\", element=\"ae9440e4-0f78-4498-86a8-43ba39ce3225\")>,\n",
       " <selenium.webdriver.remote.webelement.WebElement (session=\"7a20d717a2cf7241da7995a144cff2dc\", element=\"63837577-729f-4f2d-93b2-5cccd1972310\")>,\n",
       " <selenium.webdriver.remote.webelement.WebElement (session=\"7a20d717a2cf7241da7995a144cff2dc\", element=\"cd34ef4a-42f5-437f-aa93-7fe5d0fb03a9\")>,\n",
       " <selenium.webdriver.remote.webelement.WebElement (session=\"7a20d717a2cf7241da7995a144cff2dc\", element=\"40691223-4b3f-4f92-8802-0336dda6fa35\")>,\n",
       " <selenium.webdriver.remote.webelement.WebElement (session=\"7a20d717a2cf7241da7995a144cff2dc\", element=\"673105f6-2637-4a4e-a220-9f88c08c49b6\")>,\n",
       " <selenium.webdriver.remote.webelement.WebElement (session=\"7a20d717a2cf7241da7995a144cff2dc\", element=\"49b4889f-e0e6-4660-bedd-1c70fd8ec2fa\")>,\n",
       " <selenium.webdriver.remote.webelement.WebElement (session=\"7a20d717a2cf7241da7995a144cff2dc\", element=\"acbb87ca-430d-456e-af51-c39463b43ac9\")>,\n",
       " <selenium.webdriver.remote.webelement.WebElement (session=\"7a20d717a2cf7241da7995a144cff2dc\", element=\"3c8d1aeb-e45f-40b2-84d0-8cc79181abed\")>,\n",
       " <selenium.webdriver.remote.webelement.WebElement (session=\"7a20d717a2cf7241da7995a144cff2dc\", element=\"0f3d7205-557e-49ad-a158-173ff35bf493\")>,\n",
       " <selenium.webdriver.remote.webelement.WebElement (session=\"7a20d717a2cf7241da7995a144cff2dc\", element=\"f7f98353-5067-4e9e-91eb-c9a2079baaf2\")>,\n",
       " <selenium.webdriver.remote.webelement.WebElement (session=\"7a20d717a2cf7241da7995a144cff2dc\", element=\"b07ddee6-1a8f-43ae-b81f-3124679a051f\")>,\n",
       " <selenium.webdriver.remote.webelement.WebElement (session=\"7a20d717a2cf7241da7995a144cff2dc\", element=\"79c64678-8d6a-47ea-9ce2-032c8792e133\")>,\n",
       " <selenium.webdriver.remote.webelement.WebElement (session=\"7a20d717a2cf7241da7995a144cff2dc\", element=\"ff6ede36-3c4d-42b7-bddc-2fff3e48017c\")>,\n",
       " <selenium.webdriver.remote.webelement.WebElement (session=\"7a20d717a2cf7241da7995a144cff2dc\", element=\"d56a6264-cebc-4236-9533-c142703c54b4\")>,\n",
       " <selenium.webdriver.remote.webelement.WebElement (session=\"7a20d717a2cf7241da7995a144cff2dc\", element=\"ad77b6c6-eee1-41e1-80d6-8a5120f69d4e\")>,\n",
       " <selenium.webdriver.remote.webelement.WebElement (session=\"7a20d717a2cf7241da7995a144cff2dc\", element=\"6ad7f91b-77e0-4306-9e2d-c9bced6bd34f\")>,\n",
       " <selenium.webdriver.remote.webelement.WebElement (session=\"7a20d717a2cf7241da7995a144cff2dc\", element=\"8cc5cd7b-0a0e-4526-ad02-ca2a35582d36\")>,\n",
       " <selenium.webdriver.remote.webelement.WebElement (session=\"7a20d717a2cf7241da7995a144cff2dc\", element=\"5c4cc2cc-484a-4745-9033-8ead72b038a6\")>,\n",
       " <selenium.webdriver.remote.webelement.WebElement (session=\"7a20d717a2cf7241da7995a144cff2dc\", element=\"a0c7b487-dbaa-4f3d-9137-76191c422cd1\")>,\n",
       " <selenium.webdriver.remote.webelement.WebElement (session=\"7a20d717a2cf7241da7995a144cff2dc\", element=\"4b352007-3cbf-4fdf-88a9-678f5fddc0fb\")>,\n",
       " <selenium.webdriver.remote.webelement.WebElement (session=\"7a20d717a2cf7241da7995a144cff2dc\", element=\"6acbb5e8-7b1b-4b87-90bf-4752351ea98f\")>,\n",
       " <selenium.webdriver.remote.webelement.WebElement (session=\"7a20d717a2cf7241da7995a144cff2dc\", element=\"8facc733-cef4-42d7-b0a1-7186b424a50d\")>,\n",
       " <selenium.webdriver.remote.webelement.WebElement (session=\"7a20d717a2cf7241da7995a144cff2dc\", element=\"a238b4b7-337a-4b87-88db-03030a1b5d5c\")>,\n",
       " <selenium.webdriver.remote.webelement.WebElement (session=\"7a20d717a2cf7241da7995a144cff2dc\", element=\"4baa4bd3-bf38-4eb0-a4a0-6dff92c84f31\")>,\n",
       " <selenium.webdriver.remote.webelement.WebElement (session=\"7a20d717a2cf7241da7995a144cff2dc\", element=\"4714704c-5f59-41d5-b1c1-a4a29c4fa64e\")>,\n",
       " <selenium.webdriver.remote.webelement.WebElement (session=\"7a20d717a2cf7241da7995a144cff2dc\", element=\"82d3f871-7dd6-4abe-abc5-3112a87a78f9\")>,\n",
       " <selenium.webdriver.remote.webelement.WebElement (session=\"7a20d717a2cf7241da7995a144cff2dc\", element=\"625317b5-9583-4415-8b2e-e7da31c1a7ff\")>,\n",
       " <selenium.webdriver.remote.webelement.WebElement (session=\"7a20d717a2cf7241da7995a144cff2dc\", element=\"c693fa61-ea0b-4081-a0a7-2ef455cee1af\")>,\n",
       " <selenium.webdriver.remote.webelement.WebElement (session=\"7a20d717a2cf7241da7995a144cff2dc\", element=\"e9e44804-5613-409c-9c9c-0f9d8b146429\")>,\n",
       " <selenium.webdriver.remote.webelement.WebElement (session=\"7a20d717a2cf7241da7995a144cff2dc\", element=\"9cba4ecb-59bc-4aa9-94f8-22cb7b882a49\")>,\n",
       " <selenium.webdriver.remote.webelement.WebElement (session=\"7a20d717a2cf7241da7995a144cff2dc\", element=\"9f184a07-3e1c-4fb4-acfc-35b2cdcd1406\")>,\n",
       " <selenium.webdriver.remote.webelement.WebElement (session=\"7a20d717a2cf7241da7995a144cff2dc\", element=\"94b2dced-15e2-4713-a237-1408342349e7\")>,\n",
       " <selenium.webdriver.remote.webelement.WebElement (session=\"7a20d717a2cf7241da7995a144cff2dc\", element=\"1a27ab9b-b42f-44c4-80ee-31c0802581bc\")>,\n",
       " <selenium.webdriver.remote.webelement.WebElement (session=\"7a20d717a2cf7241da7995a144cff2dc\", element=\"3dc41051-cb75-418a-8474-8dc70a782b28\")>,\n",
       " <selenium.webdriver.remote.webelement.WebElement (session=\"7a20d717a2cf7241da7995a144cff2dc\", element=\"75865b2b-c82a-465c-9a7b-58f43b6464bb\")>,\n",
       " <selenium.webdriver.remote.webelement.WebElement (session=\"7a20d717a2cf7241da7995a144cff2dc\", element=\"7ffcf7d0-d608-4323-aa5c-b23cec39736e\")>,\n",
       " <selenium.webdriver.remote.webelement.WebElement (session=\"7a20d717a2cf7241da7995a144cff2dc\", element=\"4140b548-046e-4fb9-a3a3-5f366a56b747\")>,\n",
       " <selenium.webdriver.remote.webelement.WebElement (session=\"7a20d717a2cf7241da7995a144cff2dc\", element=\"8dc42160-7936-4681-9036-3c9f286d06fb\")>,\n",
       " <selenium.webdriver.remote.webelement.WebElement (session=\"7a20d717a2cf7241da7995a144cff2dc\", element=\"1589e3ad-8c71-425b-805c-1a6a52c5c643\")>,\n",
       " <selenium.webdriver.remote.webelement.WebElement (session=\"7a20d717a2cf7241da7995a144cff2dc\", element=\"003a52ec-51f8-4e98-ad73-5cab748cb60a\")>,\n",
       " <selenium.webdriver.remote.webelement.WebElement (session=\"7a20d717a2cf7241da7995a144cff2dc\", element=\"2e14143b-fddf-4a5b-8c25-07f7389d3b1d\")>,\n",
       " <selenium.webdriver.remote.webelement.WebElement (session=\"7a20d717a2cf7241da7995a144cff2dc\", element=\"8c8aec2e-0984-4082-b455-91f847267862\")>,\n",
       " <selenium.webdriver.remote.webelement.WebElement (session=\"7a20d717a2cf7241da7995a144cff2dc\", element=\"a7ff7955-2934-42eb-a943-384b5c4282c7\")>,\n",
       " <selenium.webdriver.remote.webelement.WebElement (session=\"7a20d717a2cf7241da7995a144cff2dc\", element=\"38386f54-4708-4d83-bb5f-b979638b9826\")>,\n",
       " <selenium.webdriver.remote.webelement.WebElement (session=\"7a20d717a2cf7241da7995a144cff2dc\", element=\"f9214eb3-4844-4bd9-89e2-638f1550e908\")>,\n",
       " <selenium.webdriver.remote.webelement.WebElement (session=\"7a20d717a2cf7241da7995a144cff2dc\", element=\"bc9f3d65-5918-4e96-91a4-dae36aa5d52c\")>,\n",
       " <selenium.webdriver.remote.webelement.WebElement (session=\"7a20d717a2cf7241da7995a144cff2dc\", element=\"99732170-7b4e-4895-afe7-e97ded1d57a6\")>,\n",
       " <selenium.webdriver.remote.webelement.WebElement (session=\"7a20d717a2cf7241da7995a144cff2dc\", element=\"821c7184-ba40-4e0c-a507-edd2cfb03c0a\")>,\n",
       " <selenium.webdriver.remote.webelement.WebElement (session=\"7a20d717a2cf7241da7995a144cff2dc\", element=\"618add3d-d1de-4c74-80bd-c632805869d5\")>,\n",
       " <selenium.webdriver.remote.webelement.WebElement (session=\"7a20d717a2cf7241da7995a144cff2dc\", element=\"f2913237-2a56-4989-b606-0bd66cb5c325\")>,\n",
       " <selenium.webdriver.remote.webelement.WebElement (session=\"7a20d717a2cf7241da7995a144cff2dc\", element=\"01c1865a-e700-4502-b8be-cd519f9b3479\")>,\n",
       " <selenium.webdriver.remote.webelement.WebElement (session=\"7a20d717a2cf7241da7995a144cff2dc\", element=\"6c7c6858-5ae6-418e-b581-490a46f5af9f\")>,\n",
       " <selenium.webdriver.remote.webelement.WebElement (session=\"7a20d717a2cf7241da7995a144cff2dc\", element=\"e3a87679-73b5-4599-a2c0-b4cff1e0419e\")>,\n",
       " <selenium.webdriver.remote.webelement.WebElement (session=\"7a20d717a2cf7241da7995a144cff2dc\", element=\"ec326af7-1bf3-46ed-b4cc-8372187b6047\")>,\n",
       " <selenium.webdriver.remote.webelement.WebElement (session=\"7a20d717a2cf7241da7995a144cff2dc\", element=\"4c6c000c-5c6b-4eaa-ae79-9defe2fea376\")>,\n",
       " <selenium.webdriver.remote.webelement.WebElement (session=\"7a20d717a2cf7241da7995a144cff2dc\", element=\"d1862e6a-7723-4093-ad5e-44ff968f4b24\")>,\n",
       " <selenium.webdriver.remote.webelement.WebElement (session=\"7a20d717a2cf7241da7995a144cff2dc\", element=\"b88d02aa-0487-46fa-bc1c-e84035efcba7\")>,\n",
       " <selenium.webdriver.remote.webelement.WebElement (session=\"7a20d717a2cf7241da7995a144cff2dc\", element=\"89fab201-3dba-4b07-a7c4-6411db1399d0\")>,\n",
       " <selenium.webdriver.remote.webelement.WebElement (session=\"7a20d717a2cf7241da7995a144cff2dc\", element=\"0791ebf9-ddac-46b9-96e6-41f84de770d2\")>,\n",
       " <selenium.webdriver.remote.webelement.WebElement (session=\"7a20d717a2cf7241da7995a144cff2dc\", element=\"f0ffb63e-2af7-48da-b17c-1ac09bccc38f\")>,\n",
       " <selenium.webdriver.remote.webelement.WebElement (session=\"7a20d717a2cf7241da7995a144cff2dc\", element=\"80c0ae5e-f469-4950-91f2-aa5a1eac5599\")>,\n",
       " <selenium.webdriver.remote.webelement.WebElement (session=\"7a20d717a2cf7241da7995a144cff2dc\", element=\"c5a3f99c-edb7-4795-8e40-8d496fc3d279\")>,\n",
       " <selenium.webdriver.remote.webelement.WebElement (session=\"7a20d717a2cf7241da7995a144cff2dc\", element=\"b5c6a9dc-0b91-4e6d-8ab1-e2e1e94d0788\")>]"
      ]
     },
     "execution_count": 36,
     "metadata": {},
     "output_type": "execute_result"
    }
   ],
   "source": [
    "prices=driver1.find_elements_by_xpath(\"//div[@class='product-price']/span\")\n",
    "prices[0:100]"
   ]
  },
  {
   "cell_type": "code",
   "execution_count": 37,
   "id": "82b19a3c",
   "metadata": {},
   "outputs": [
    {
     "data": {
      "text/plain": [
       "['Rs. 2849Rs. 3799',\n",
       " '(25% OFF)',\n",
       " 'Rs. 2149Rs. 4299',\n",
       " '(50% OFF)',\n",
       " 'Rs. 11999',\n",
       " 'Rs. 3299Rs. 5999',\n",
       " '(45% OFF)',\n",
       " 'Rs. 649Rs. 999',\n",
       " '(35% OFF)',\n",
       " 'Rs. 681Rs. 3405',\n",
       " '(80% OFF)',\n",
       " 'Rs. 2749Rs. 5499',\n",
       " '(50% OFF)',\n",
       " 'Rs. 688Rs. 2995',\n",
       " '(77% OFF)',\n",
       " 'Rs. 649Rs. 999',\n",
       " '(35% OFF)',\n",
       " 'Rs. 799Rs. 1999',\n",
       " '(Rs. 1200 OFF)',\n",
       " 'Rs. 539Rs. 599',\n",
       " '(10% OFF)',\n",
       " 'Rs. 1299Rs. 1548',\n",
       " '(Rs. 249 OFF)',\n",
       " 'Rs. 899Rs. 4499',\n",
       " '(80% OFF)',\n",
       " 'Rs. 851Rs. 1548',\n",
       " '(45% OFF)',\n",
       " 'Rs. 3116Rs. 3895',\n",
       " '(20% OFF)',\n",
       " 'Rs. 609Rs. 999',\n",
       " '(39% OFF)',\n",
       " 'Rs. 13999',\n",
       " 'Rs. 2249Rs. 4499',\n",
       " '(50% OFF)',\n",
       " 'Rs. 851Rs. 1548',\n",
       " '(45% OFF)',\n",
       " 'Rs. 794Rs. 1499',\n",
       " '(47% OFF)',\n",
       " 'Rs. 699Rs. 999',\n",
       " '(30% OFF)',\n",
       " 'Rs. 849Rs. 999',\n",
       " '(15% OFF)',\n",
       " 'Rs. 851Rs. 1548',\n",
       " '(45% OFF)',\n",
       " 'Rs. 2999Rs. 4999',\n",
       " '(40% OFF)',\n",
       " 'Rs. 2149Rs. 4299',\n",
       " '(50% OFF)',\n",
       " 'Rs. 649',\n",
       " 'Rs. 1299Rs. 1548',\n",
       " '(Rs. 249 OFF)',\n",
       " 'Rs. 1517Rs. 1799',\n",
       " '(Rs. 282 OFF)',\n",
       " 'Rs. 449Rs. 999',\n",
       " '(55% OFF)',\n",
       " 'Rs. 851Rs. 1548',\n",
       " '(45% OFF)',\n",
       " 'Rs. 796Rs. 1990',\n",
       " '(60% OFF)',\n",
       " 'Rs. 1664Rs. 3699',\n",
       " '(55% OFF)',\n",
       " 'Rs. 1499',\n",
       " 'Rs. 796Rs. 1990',\n",
       " '(60% OFF)',\n",
       " 'Rs. 1049Rs. 1399',\n",
       " '(25% OFF)',\n",
       " 'Rs. 744Rs. 3720',\n",
       " '(80% OFF)',\n",
       " 'Rs. 899Rs. 4499',\n",
       " '(80% OFF)',\n",
       " 'Rs. 1308Rs. 1499',\n",
       " '(Rs. 191 OFF)',\n",
       " 'Rs. 799Rs. 1999',\n",
       " '(Rs. 1200 OFF)',\n",
       " 'Rs. 1299Rs. 1690',\n",
       " '(Rs. 391 OFF)',\n",
       " 'Rs. 1299',\n",
       " 'Rs. 1299Rs. 1690',\n",
       " '(Rs. 391 OFF)',\n",
       " 'Rs. 899Rs. 4499',\n",
       " '(80% OFF)',\n",
       " 'Rs. 899Rs. 4499',\n",
       " '(80% OFF)',\n",
       " 'Rs. 1299Rs. 1548',\n",
       " '(Rs. 249 OFF)',\n",
       " 'Rs. 649',\n",
       " 'Rs. 499Rs. 1499',\n",
       " '(Rs. 1000 OFF)',\n",
       " 'Rs. 1003Rs. 1299',\n",
       " '(Rs. 296 OFF)',\n",
       " 'Rs. 2796Rs. 3495',\n",
       " '(20% OFF)',\n",
       " 'Rs. 799Rs. 1999',\n",
       " '(Rs. 1200 OFF)']"
      ]
     },
     "execution_count": 37,
     "metadata": {},
     "output_type": "execute_result"
    }
   ],
   "source": [
    "for i in prices:\n",
    "    price_tag=i.text\n",
    "    price_list.append(price_tag)\n",
    "price_list[0:100]"
   ]
  },
  {
   "cell_type": "markdown",
   "id": "bee923ef",
   "metadata": {},
   "source": [
    "8---->"
   ]
  },
  {
   "cell_type": "code",
   "execution_count": 38,
   "id": "3841fe7c",
   "metadata": {},
   "outputs": [],
   "source": [
    "driver2=webdriver.Chrome(r\"C:\\Users\\91907\\chromedriver.exe\")"
   ]
  },
  {
   "cell_type": "code",
   "execution_count": 39,
   "id": "9a5d204a",
   "metadata": {},
   "outputs": [],
   "source": [
    "driver2=webdriver.Chrome(\"chromedriver.exe\")\n",
    "time.sleep(2)"
   ]
  },
  {
   "cell_type": "code",
   "execution_count": 40,
   "id": "e869dd65",
   "metadata": {},
   "outputs": [],
   "source": [
    "driver2.get('https://www.amazon.in/')"
   ]
  },
  {
   "cell_type": "code",
   "execution_count": null,
   "id": "961c3a81",
   "metadata": {},
   "outputs": [],
   "source": []
  },
  {
   "cell_type": "code",
   "execution_count": 45,
   "id": "5d2403ce",
   "metadata": {},
   "outputs": [],
   "source": [
    "laptop=[]\n",
    "ratings_list=[]\n",
    "price=[]"
   ]
  },
  {
   "cell_type": "code",
   "execution_count": 46,
   "id": "f51e1bb3",
   "metadata": {},
   "outputs": [
    {
     "data": {
      "text/plain": [
       "[<selenium.webdriver.remote.webelement.WebElement (session=\"78371eb07ae741e0b2c5b1a62186bf0d\", element=\"796e66fa-6da4-432c-a75b-4d1a89d38067\")>,\n",
       " <selenium.webdriver.remote.webelement.WebElement (session=\"78371eb07ae741e0b2c5b1a62186bf0d\", element=\"47594e79-2c5a-40e2-ae49-c83c7629f026\")>,\n",
       " <selenium.webdriver.remote.webelement.WebElement (session=\"78371eb07ae741e0b2c5b1a62186bf0d\", element=\"59ae34ca-5cd5-4c46-847d-42979b164aa3\")>,\n",
       " <selenium.webdriver.remote.webelement.WebElement (session=\"78371eb07ae741e0b2c5b1a62186bf0d\", element=\"e0f6e39b-20fa-4f80-b240-8d3e616f99ce\")>,\n",
       " <selenium.webdriver.remote.webelement.WebElement (session=\"78371eb07ae741e0b2c5b1a62186bf0d\", element=\"fc2a9966-942e-4332-a58d-889fdd795d7c\")>,\n",
       " <selenium.webdriver.remote.webelement.WebElement (session=\"78371eb07ae741e0b2c5b1a62186bf0d\", element=\"c0fbd5c2-8cff-4655-b26a-deaaba003113\")>,\n",
       " <selenium.webdriver.remote.webelement.WebElement (session=\"78371eb07ae741e0b2c5b1a62186bf0d\", element=\"9651f951-a50e-4241-95fc-108f3915f8c8\")>,\n",
       " <selenium.webdriver.remote.webelement.WebElement (session=\"78371eb07ae741e0b2c5b1a62186bf0d\", element=\"a22d10f8-ac64-4fe7-a9d5-d66a4953fa17\")>,\n",
       " <selenium.webdriver.remote.webelement.WebElement (session=\"78371eb07ae741e0b2c5b1a62186bf0d\", element=\"a48a0793-d813-4e2a-8a3f-a6427513714f\")>,\n",
       " <selenium.webdriver.remote.webelement.WebElement (session=\"78371eb07ae741e0b2c5b1a62186bf0d\", element=\"3a2adda9-1280-4a61-b2a2-5be11ec3059d\")>,\n",
       " <selenium.webdriver.remote.webelement.WebElement (session=\"78371eb07ae741e0b2c5b1a62186bf0d\", element=\"882a366f-48f6-48b0-ae6d-1ed1cdd6832f\")>,\n",
       " <selenium.webdriver.remote.webelement.WebElement (session=\"78371eb07ae741e0b2c5b1a62186bf0d\", element=\"8073b8b4-0622-4ede-a141-9aabf96a4caa\")>,\n",
       " <selenium.webdriver.remote.webelement.WebElement (session=\"78371eb07ae741e0b2c5b1a62186bf0d\", element=\"1567840e-8866-45d9-b050-b341e8ede23e\")>,\n",
       " <selenium.webdriver.remote.webelement.WebElement (session=\"78371eb07ae741e0b2c5b1a62186bf0d\", element=\"cbb499d1-bda5-424c-bbeb-517b6b833b55\")>,\n",
       " <selenium.webdriver.remote.webelement.WebElement (session=\"78371eb07ae741e0b2c5b1a62186bf0d\", element=\"e2e796ae-ab51-467a-acfd-197edf640a0a\")>,\n",
       " <selenium.webdriver.remote.webelement.WebElement (session=\"78371eb07ae741e0b2c5b1a62186bf0d\", element=\"ecffd2f7-f970-4424-a7a6-7f627ca83009\")>,\n",
       " <selenium.webdriver.remote.webelement.WebElement (session=\"78371eb07ae741e0b2c5b1a62186bf0d\", element=\"1c5b22cd-3b0f-4e73-b5b6-5d78bb67551c\")>,\n",
       " <selenium.webdriver.remote.webelement.WebElement (session=\"78371eb07ae741e0b2c5b1a62186bf0d\", element=\"4969aac3-4709-43d1-9a8e-f5a43fa4952e\")>,\n",
       " <selenium.webdriver.remote.webelement.WebElement (session=\"78371eb07ae741e0b2c5b1a62186bf0d\", element=\"ad1f0f31-e664-45d5-9c7e-8231117774e2\")>,\n",
       " <selenium.webdriver.remote.webelement.WebElement (session=\"78371eb07ae741e0b2c5b1a62186bf0d\", element=\"50b6d180-bbf2-43df-89a1-8036e81ef2fd\")>,\n",
       " <selenium.webdriver.remote.webelement.WebElement (session=\"78371eb07ae741e0b2c5b1a62186bf0d\", element=\"13243b65-cf1c-4fb2-9d94-4e31a8c8f757\")>,\n",
       " <selenium.webdriver.remote.webelement.WebElement (session=\"78371eb07ae741e0b2c5b1a62186bf0d\", element=\"25937ff5-b32a-4c87-94b6-e3ad1d9b6e3c\")>,\n",
       " <selenium.webdriver.remote.webelement.WebElement (session=\"78371eb07ae741e0b2c5b1a62186bf0d\", element=\"cac5ce37-e678-4c28-b4fe-7f1c22fffbcf\")>]"
      ]
     },
     "execution_count": 46,
     "metadata": {},
     "output_type": "execute_result"
    }
   ],
   "source": [
    "titles=driver2.find_elements_by_xpath(\"//span[@class='a-size-medium a-color-base a-text-normal']\")#for intel i7\n",
    "titles[0:30]"
   ]
  },
  {
   "cell_type": "code",
   "execution_count": 48,
   "id": "afb72591",
   "metadata": {},
   "outputs": [
    {
     "data": {
      "text/plain": [
       "['MSI GF75 Thin, Intel i5-10300H, 17.3\" FHD IPS-Level 144Hz Panel Laptop (8GB/512GB NVMe SSD/Windows 10 Home/Nvidia GTX1650 4GB GDDR6/Black/2.2Kg), 10SC-095IN',\n",
       " 'MSI Modern 14, Intel i3-10110U, 14\" FHD IPS-Level Panel Laptop (4GB/256GB NVMe SSD/Windows 10 Home/Intel UHD Graphics/Carbon Grey/1.3Kg), B10MW-660IN',\n",
       " 'ASUS VivoBook 15 (2021), 15.6-inch (39.62 cm) HD, Dual Core Intel Celeron N4020, Thin and Light Laptop (4GB RAM/256GB SSD/Integrated Graphics/Windows 11 Home/Transparent Silver/1.8 Kg), X515MA-BR011W',\n",
       " 'Asus VivoBook 14 X415FA-BV311W I3-10110U/8G/1TB HDD/Slate GREY/14\"HD/1Y International Warranty + McAfee/Finger Print/WIN11',\n",
       " \"Lenovo IdeaPad 3 Intel Celeron N4020 14'' HD Thin & Light Laptop (4GB/256GB SSD/Windows 11/MS Office 2021/Platinum Grey/1.5Kg), 81WH007KIN\",\n",
       " 'LG Gram 16 inches Intel Evo 11th Gen Core i7 Ultra-Light Laptop (16 GB RAM, 512 GB SSD, New Windows 11 Home Preload, Iris Xe Graphics, USC -C x 2 (with Power), 1.19 kg, 16Z90P-G.AH85A2, Black)',\n",
       " 'HP 247 G8 Laptop (Athlon P-3045B HD/ 14\" HD (35.56 cms) /8GB RAM DDR4 /1TB HDD / W11 SL)One Year Warranty, Black, 67U77PA)',\n",
       " 'HP Chromebook 14 Intel Celeron N4020-4GB SDRAM/64GB eMMC + 256GB Expandable Storage 14inch(35.6 cm) Thin & Light Touchscreen Laptop (Chrome OS/B&O/Google Assistant/BL Keyboard/1.46 kg),14a-na0003TU',\n",
       " 'Lenovo IdeaPad 3 11th Gen Intel i3 15.6\" FHD Thin & Light Laptop (8GB/512GB SDD/Windows 11/MS Office 2021/2 Yr Warranty/Arctic Grey/1.65Kg), 82H801L7IN',\n",
       " 'Lenovo ThinkBook 14 Intel Core i5 11th Gen 14\" (35.56cm) FHD IPS Thin & Light Laptop (16GB RAM/512GB SSD/Windows 11 Home/MS Office 2021/FPR/Intel Iris Xe Graphics Mineral Grey/1.4 kg), 20VDA0TLIH',\n",
       " 'Dell New Inspiron 3515 Laptop, AMD Ryzen 5-3450U, Win11 + MSO\\'21, 8GB GDDR4, 512GB SSD, Vega Graphics, 15.6\" (39.62Cms) FHD AG, Carbon Black (D560790WIN9BE, 1.8Kgs)',\n",
       " 'MSI Modern 14, Intel i5-10210U, 14\" FHD IPS-Level 60Hz Panel Laptop (8GB/512GB NVMe SSD/Windows 10 Home/Intel UHD Graphics/Carbon Grey/1.3Kg), B10MW-639IN',\n",
       " 'MSI GP66 Leopard Gaming, Intel i7-11800H, 15.6\" FHD IPS-Level 240Hz, Close to 100%sRGB Panel Laptop (16GB/1TB NVMe SSD/Windows 10 Home/Nvidia GeForce RTX 3070/GDDR6 8GB/Black/2.38Kg), 11UG-418IN',\n",
       " 'HP 14s 11th Gen Intel Core i3- 8GB RAM/256GB SSD 14 inch(35.6cm) FHD,Micro-Edge,Anti-Glare,IPS Display/UHD Graphics/ Win 11/ MS Office/ Alexa Built-in/ 1.46kg/ Natural Silver - 14s-dy2506TU',\n",
       " '(Refurbished) Dell Latitude Intel 2nd Gen Core i5 14 inches 1366x768 Business Laptop (4GB/250GB/Windows 7 Professional OEM COA/HD Graphics 3000/Greyish Silver/1.80Kg), E6420',\n",
       " 'Lenovo IdeaPad Slim 3 11th Gen Intel Core i3 14\" (35.56cm) FHD IPS Laptop (8GB/512GB SSD/Win 11/Office 2021/Backlit KB/Fingerprint/2 Year Warranty/3 Month Game Pass/Arctic Grey/1.41Kg), 82H701DKIN',\n",
       " 'ASUS VivoBook 14 (2021), 14\" (35.56 cm) FHD, Intel Core i3-1115G4 11th Gen, Thin and Light Laptop (8GB/1TB HDD + 256GB SSD/Windows 11/Office 2021/Integrated Graphics/Silver/1.6 Kg), X415EA-EK372WS',\n",
       " 'ASUS VivoBook 14 (2021), 14-inch (35.56 cms) FHD, Intel Core i7-1065G7 10th Gen, Thin and Light Laptop (16GB/512GB SSD/Integrated Graphics/Office 2021/Windows 11/Silver/1.6 Kg), X415JA-EK701WS',\n",
       " 'Lenovo V14-IGL Intel Celeron N4020 4M Cache, up to 2.80 GHz Laptop with 4 GB Ram, 256 SSD, Windows 11 Home ,14\" Full HD(1920x1080) Display, 1 Year Onsite Warranty',\n",
       " \"Lenovo IdeaPad 3 Chromebook Intel Celeron N4020 11.6'' HD Laptop (4GB/64GB eMMC/Chrome OS/Upto 10hr Battery/2W HD Speaker/Platinum Grey/1.12Kg), 82BA001PHA\",\n",
       " 'Lenovo IdeaPad 3 10th Gen Intel Core i3 15.6\" FHD Thin & Light Laptop (8GB/512GB SSD/Windows 11/Office 2021/2 Yr Warranty/Platinum Grey/1.7Kg), 81WB01B0IN',\n",
       " 'MSI Modern 14, AMD Ryzen 5-5500U, 14\" FHD IPS-Level Panel Laptop (8GB/256GB NVMe SSD/Windows 10 Home/Radeon Graphics/Carbon Grey/1.3Kg), B5M-045IN',\n",
       " 'Acer Travelmate Business Laptop Intel Pentium N5030 Quad-core Processor ( 4GB DDR4/ 128GB SSD /UHD Graphics/ Windows 11 Home/Spill Resistant Keyboard) TMB311-31 with 29.4 cm (11.6 Inches) HD Display']"
      ]
     },
     "execution_count": 48,
     "metadata": {},
     "output_type": "execute_result"
    }
   ],
   "source": [
    "for i in titles:\n",
    "    title=i.text\n",
    "    laptop.append(title)\n",
    "laptop[0:30]"
   ]
  },
  {
   "cell_type": "code",
   "execution_count": 51,
   "id": "a11df77f",
   "metadata": {},
   "outputs": [
    {
     "data": {
      "text/plain": [
       "[<selenium.webdriver.remote.webelement.WebElement (session=\"78371eb07ae741e0b2c5b1a62186bf0d\", element=\"904ff506-650d-4f55-8977-47727ae7141c\")>,\n",
       " <selenium.webdriver.remote.webelement.WebElement (session=\"78371eb07ae741e0b2c5b1a62186bf0d\", element=\"72e19405-b647-4d0f-9181-382582cddaf6\")>]"
      ]
     },
     "execution_count": 51,
     "metadata": {},
     "output_type": "execute_result"
    }
   ],
   "source": [
    "ratings=driver2.find_elements_by_xpath(\"//i[@class='a-icon a-icon-star-small a-star-small-5 aok-align-bottom']\")\n",
    "ratings[0:30]"
   ]
  },
  {
   "cell_type": "code",
   "execution_count": 52,
   "id": "5d6ce2b7",
   "metadata": {},
   "outputs": [
    {
     "data": {
      "text/plain": [
       "['', '']"
      ]
     },
     "execution_count": 52,
     "metadata": {},
     "output_type": "execute_result"
    }
   ],
   "source": [
    "for i in ratings:\n",
    "    company_name=i.text\n",
    "    ratings_list.append(company_name)\n",
    "ratings_list[0:3]"
   ]
  },
  {
   "cell_type": "code",
   "execution_count": 53,
   "id": "6203b4aa",
   "metadata": {},
   "outputs": [
    {
     "data": {
      "text/plain": [
       "[<selenium.webdriver.remote.webelement.WebElement (session=\"78371eb07ae741e0b2c5b1a62186bf0d\", element=\"babc5d97-59c2-4e91-ac78-9948df459577\")>,\n",
       " <selenium.webdriver.remote.webelement.WebElement (session=\"78371eb07ae741e0b2c5b1a62186bf0d\", element=\"2e17ccb2-38bc-4613-9954-1dacda25c630\")>,\n",
       " <selenium.webdriver.remote.webelement.WebElement (session=\"78371eb07ae741e0b2c5b1a62186bf0d\", element=\"49d2ef9c-8e49-43d4-b8a8-d946b3985931\")>,\n",
       " <selenium.webdriver.remote.webelement.WebElement (session=\"78371eb07ae741e0b2c5b1a62186bf0d\", element=\"a1f9d245-e92a-4b53-8d3b-b2b0b9c63bfa\")>,\n",
       " <selenium.webdriver.remote.webelement.WebElement (session=\"78371eb07ae741e0b2c5b1a62186bf0d\", element=\"9c000223-8fcf-4d4b-9e53-060cf434e2e9\")>,\n",
       " <selenium.webdriver.remote.webelement.WebElement (session=\"78371eb07ae741e0b2c5b1a62186bf0d\", element=\"bf719205-77ab-447f-92bf-fe092e59302b\")>,\n",
       " <selenium.webdriver.remote.webelement.WebElement (session=\"78371eb07ae741e0b2c5b1a62186bf0d\", element=\"081204fd-7651-47fb-93f4-96858966dbd1\")>,\n",
       " <selenium.webdriver.remote.webelement.WebElement (session=\"78371eb07ae741e0b2c5b1a62186bf0d\", element=\"34acbedf-e4c6-4e3b-8983-9d9e3412f66f\")>,\n",
       " <selenium.webdriver.remote.webelement.WebElement (session=\"78371eb07ae741e0b2c5b1a62186bf0d\", element=\"159b5e9f-385d-4c86-a0dd-8bc9edf0d676\")>,\n",
       " <selenium.webdriver.remote.webelement.WebElement (session=\"78371eb07ae741e0b2c5b1a62186bf0d\", element=\"3bc80e1b-30d9-4723-a2e7-f26736d62d0e\")>,\n",
       " <selenium.webdriver.remote.webelement.WebElement (session=\"78371eb07ae741e0b2c5b1a62186bf0d\", element=\"8c3a8b2a-d822-4795-a05d-8e6f7a5fa4c1\")>,\n",
       " <selenium.webdriver.remote.webelement.WebElement (session=\"78371eb07ae741e0b2c5b1a62186bf0d\", element=\"710d5ed0-f31c-4124-ac31-9a672b8046ca\")>,\n",
       " <selenium.webdriver.remote.webelement.WebElement (session=\"78371eb07ae741e0b2c5b1a62186bf0d\", element=\"e3279010-3dce-441b-8ffa-5c410f5658ec\")>,\n",
       " <selenium.webdriver.remote.webelement.WebElement (session=\"78371eb07ae741e0b2c5b1a62186bf0d\", element=\"855f6124-5e48-4760-b744-30415e5f15ca\")>,\n",
       " <selenium.webdriver.remote.webelement.WebElement (session=\"78371eb07ae741e0b2c5b1a62186bf0d\", element=\"2cde43e8-4c29-49a1-b903-3c2ab8b6192a\")>,\n",
       " <selenium.webdriver.remote.webelement.WebElement (session=\"78371eb07ae741e0b2c5b1a62186bf0d\", element=\"6e36df54-41c0-40df-b9cb-f14779f52f74\")>,\n",
       " <selenium.webdriver.remote.webelement.WebElement (session=\"78371eb07ae741e0b2c5b1a62186bf0d\", element=\"a6ce130d-2aa6-423b-ba97-12ef65429748\")>,\n",
       " <selenium.webdriver.remote.webelement.WebElement (session=\"78371eb07ae741e0b2c5b1a62186bf0d\", element=\"21aeb9a6-e91a-4d5d-b9c3-f8b9a25c3e81\")>,\n",
       " <selenium.webdriver.remote.webelement.WebElement (session=\"78371eb07ae741e0b2c5b1a62186bf0d\", element=\"8688a7e8-a986-48d3-ad4a-40732809e8ee\")>,\n",
       " <selenium.webdriver.remote.webelement.WebElement (session=\"78371eb07ae741e0b2c5b1a62186bf0d\", element=\"155e30b3-295b-41ec-9ea4-5b6f30e086af\")>,\n",
       " <selenium.webdriver.remote.webelement.WebElement (session=\"78371eb07ae741e0b2c5b1a62186bf0d\", element=\"be2f6e6b-0d21-4bfc-8528-82a456db7aeb\")>,\n",
       " <selenium.webdriver.remote.webelement.WebElement (session=\"78371eb07ae741e0b2c5b1a62186bf0d\", element=\"ab3f3b4f-6d4f-42d3-967c-71f32b602840\")>,\n",
       " <selenium.webdriver.remote.webelement.WebElement (session=\"78371eb07ae741e0b2c5b1a62186bf0d\", element=\"4a7c4030-5a15-445f-988b-9ba41bb20c43\")>,\n",
       " <selenium.webdriver.remote.webelement.WebElement (session=\"78371eb07ae741e0b2c5b1a62186bf0d\", element=\"045f19c2-cc8c-4d76-a62c-b66cc5f1454a\")>,\n",
       " <selenium.webdriver.remote.webelement.WebElement (session=\"78371eb07ae741e0b2c5b1a62186bf0d\", element=\"66afb110-583f-404b-8362-d56c265997ab\")>,\n",
       " <selenium.webdriver.remote.webelement.WebElement (session=\"78371eb07ae741e0b2c5b1a62186bf0d\", element=\"9e88b3ef-f905-4d6b-aa4e-f1060003c624\")>,\n",
       " <selenium.webdriver.remote.webelement.WebElement (session=\"78371eb07ae741e0b2c5b1a62186bf0d\", element=\"3f8aa5da-930e-4486-9483-631ee3449989\")>,\n",
       " <selenium.webdriver.remote.webelement.WebElement (session=\"78371eb07ae741e0b2c5b1a62186bf0d\", element=\"6cda1672-c4f6-466f-95f3-76399c239bca\")>,\n",
       " <selenium.webdriver.remote.webelement.WebElement (session=\"78371eb07ae741e0b2c5b1a62186bf0d\", element=\"853012a8-8aa4-454e-9958-c56dad598c41\")>,\n",
       " <selenium.webdriver.remote.webelement.WebElement (session=\"78371eb07ae741e0b2c5b1a62186bf0d\", element=\"edc0f7bb-1f04-4505-b2c8-7b02498dcf0b\")>]"
      ]
     },
     "execution_count": 53,
     "metadata": {},
     "output_type": "execute_result"
    }
   ],
   "source": [
    "price=driver2.find_elements_by_xpath(\"//span[@class='a-price-whole']\")\n",
    "price[0:30]"
   ]
  },
  {
   "cell_type": "code",
   "execution_count": 54,
   "id": "73f1a469",
   "metadata": {},
   "outputs": [
    {
     "ename": "AttributeError",
     "evalue": "'str' object has no attribute 'text'",
     "output_type": "error",
     "traceback": [
      "\u001b[1;31m---------------------------------------------------------------------------\u001b[0m",
      "\u001b[1;31mAttributeError\u001b[0m                            Traceback (most recent call last)",
      "\u001b[1;32m~\\AppData\\Local\\Temp/ipykernel_9828/2163968095.py\u001b[0m in \u001b[0;36m<module>\u001b[1;34m\u001b[0m\n\u001b[0;32m      1\u001b[0m \u001b[1;32mfor\u001b[0m \u001b[0mi\u001b[0m \u001b[1;32min\u001b[0m \u001b[0mprice\u001b[0m\u001b[1;33m:\u001b[0m\u001b[1;33m\u001b[0m\u001b[1;33m\u001b[0m\u001b[0m\n\u001b[1;32m----> 2\u001b[1;33m     \u001b[0mprice_list\u001b[0m\u001b[1;33m=\u001b[0m\u001b[0mi\u001b[0m\u001b[1;33m.\u001b[0m\u001b[0mtext\u001b[0m\u001b[1;33m\u001b[0m\u001b[1;33m\u001b[0m\u001b[0m\n\u001b[0m\u001b[0;32m      3\u001b[0m     \u001b[0mprice\u001b[0m\u001b[1;33m.\u001b[0m\u001b[0mappend\u001b[0m\u001b[1;33m(\u001b[0m\u001b[0mprice_list\u001b[0m\u001b[1;33m)\u001b[0m\u001b[1;33m\u001b[0m\u001b[1;33m\u001b[0m\u001b[0m\n\u001b[0;32m      4\u001b[0m \u001b[0mprice\u001b[0m\u001b[1;33m[\u001b[0m\u001b[1;36m0\u001b[0m\u001b[1;33m:\u001b[0m\u001b[1;36m30\u001b[0m\u001b[1;33m]\u001b[0m\u001b[1;33m\u001b[0m\u001b[1;33m\u001b[0m\u001b[0m\n",
      "\u001b[1;31mAttributeError\u001b[0m: 'str' object has no attribute 'text'"
     ]
    }
   ],
   "source": [
    "for i in price:\n",
    "    price_list=i.text\n",
    "    price.append(price_list)\n",
    "price[0:30]"
   ]
  },
  {
   "cell_type": "code",
   "execution_count": 55,
   "id": "44293ef0",
   "metadata": {},
   "outputs": [],
   "source": [
    "titles=[]"
   ]
  },
  {
   "cell_type": "code",
   "execution_count": 56,
   "id": "d0922636",
   "metadata": {},
   "outputs": [
    {
     "data": {
      "text/plain": [
       "[<selenium.webdriver.remote.webelement.WebElement (session=\"78371eb07ae741e0b2c5b1a62186bf0d\", element=\"98e37307-51ff-4c3d-8fda-743aee2c977d\")>,\n",
       " <selenium.webdriver.remote.webelement.WebElement (session=\"78371eb07ae741e0b2c5b1a62186bf0d\", element=\"a2b65dd2-e675-493e-9e5a-641aea6ac51e\")>,\n",
       " <selenium.webdriver.remote.webelement.WebElement (session=\"78371eb07ae741e0b2c5b1a62186bf0d\", element=\"738981e0-60f8-4322-ae6f-ef583815cb33\")>,\n",
       " <selenium.webdriver.remote.webelement.WebElement (session=\"78371eb07ae741e0b2c5b1a62186bf0d\", element=\"0ff66e31-c651-4d84-aea4-1f538f3d79e4\")>,\n",
       " <selenium.webdriver.remote.webelement.WebElement (session=\"78371eb07ae741e0b2c5b1a62186bf0d\", element=\"95b5dbe2-0669-4c20-bdcc-eef8e55df06e\")>,\n",
       " <selenium.webdriver.remote.webelement.WebElement (session=\"78371eb07ae741e0b2c5b1a62186bf0d\", element=\"87cf23e5-d12c-4f21-95f6-f1ab31668509\")>,\n",
       " <selenium.webdriver.remote.webelement.WebElement (session=\"78371eb07ae741e0b2c5b1a62186bf0d\", element=\"9b920fe9-dfb8-4d2d-9dff-e9e33797ae62\")>,\n",
       " <selenium.webdriver.remote.webelement.WebElement (session=\"78371eb07ae741e0b2c5b1a62186bf0d\", element=\"e1158053-9eec-4f73-990d-757f2618fd67\")>,\n",
       " <selenium.webdriver.remote.webelement.WebElement (session=\"78371eb07ae741e0b2c5b1a62186bf0d\", element=\"a70b53dc-b738-4ad2-9380-d33714c99dd0\")>,\n",
       " <selenium.webdriver.remote.webelement.WebElement (session=\"78371eb07ae741e0b2c5b1a62186bf0d\", element=\"2ef190bf-9f40-4f4e-ab4c-14be86f047ba\")>,\n",
       " <selenium.webdriver.remote.webelement.WebElement (session=\"78371eb07ae741e0b2c5b1a62186bf0d\", element=\"b46c627b-f37e-40d7-84ac-c6083f8064f4\")>,\n",
       " <selenium.webdriver.remote.webelement.WebElement (session=\"78371eb07ae741e0b2c5b1a62186bf0d\", element=\"7d4fe2df-8df2-44f3-896d-4d100d0586e7\")>,\n",
       " <selenium.webdriver.remote.webelement.WebElement (session=\"78371eb07ae741e0b2c5b1a62186bf0d\", element=\"70d53c68-cc25-460d-93fd-a150fc42fa69\")>,\n",
       " <selenium.webdriver.remote.webelement.WebElement (session=\"78371eb07ae741e0b2c5b1a62186bf0d\", element=\"221cf8f4-50a5-48fd-88b6-c5c82a8d6f6e\")>,\n",
       " <selenium.webdriver.remote.webelement.WebElement (session=\"78371eb07ae741e0b2c5b1a62186bf0d\", element=\"17c17d4d-1635-4e2b-815f-be5a322fb000\")>,\n",
       " <selenium.webdriver.remote.webelement.WebElement (session=\"78371eb07ae741e0b2c5b1a62186bf0d\", element=\"ad786231-21f1-4b59-94f0-0b3bb3cd6d0c\")>,\n",
       " <selenium.webdriver.remote.webelement.WebElement (session=\"78371eb07ae741e0b2c5b1a62186bf0d\", element=\"a2203021-d636-4dac-b940-2e50a3b84b5a\")>,\n",
       " <selenium.webdriver.remote.webelement.WebElement (session=\"78371eb07ae741e0b2c5b1a62186bf0d\", element=\"7034cbd7-8b7e-43d2-8ccc-8082366e1eea\")>,\n",
       " <selenium.webdriver.remote.webelement.WebElement (session=\"78371eb07ae741e0b2c5b1a62186bf0d\", element=\"aa813411-6fdd-4569-94ef-bea216f4057a\")>,\n",
       " <selenium.webdriver.remote.webelement.WebElement (session=\"78371eb07ae741e0b2c5b1a62186bf0d\", element=\"4a0a14d3-ceb1-4424-b1a1-46eb28b59452\")>,\n",
       " <selenium.webdriver.remote.webelement.WebElement (session=\"78371eb07ae741e0b2c5b1a62186bf0d\", element=\"2a6fe187-4d10-466b-a390-b980ca69fb73\")>,\n",
       " <selenium.webdriver.remote.webelement.WebElement (session=\"78371eb07ae741e0b2c5b1a62186bf0d\", element=\"7dd1c551-8f21-4f27-b616-a1ae66c0b881\")>,\n",
       " <selenium.webdriver.remote.webelement.WebElement (session=\"78371eb07ae741e0b2c5b1a62186bf0d\", element=\"196f4ed7-79af-4aec-8a74-1876ab40425f\")>,\n",
       " <selenium.webdriver.remote.webelement.WebElement (session=\"78371eb07ae741e0b2c5b1a62186bf0d\", element=\"41f3dd50-c203-4086-a1b3-a7fce2b71012\")>,\n",
       " <selenium.webdriver.remote.webelement.WebElement (session=\"78371eb07ae741e0b2c5b1a62186bf0d\", element=\"74a89f0b-6019-4fe3-80d2-9c15a9984d98\")>,\n",
       " <selenium.webdriver.remote.webelement.WebElement (session=\"78371eb07ae741e0b2c5b1a62186bf0d\", element=\"f61443b0-33bc-4828-bb3f-db9c3ca9fa18\")>,\n",
       " <selenium.webdriver.remote.webelement.WebElement (session=\"78371eb07ae741e0b2c5b1a62186bf0d\", element=\"c9b5847f-3f13-49a5-a226-f782928ada32\")>,\n",
       " <selenium.webdriver.remote.webelement.WebElement (session=\"78371eb07ae741e0b2c5b1a62186bf0d\", element=\"6a340413-f06e-41f1-853b-9722284169b4\")>,\n",
       " <selenium.webdriver.remote.webelement.WebElement (session=\"78371eb07ae741e0b2c5b1a62186bf0d\", element=\"1fddb014-4c22-4350-ba2c-843fe5865fc0\")>,\n",
       " <selenium.webdriver.remote.webelement.WebElement (session=\"78371eb07ae741e0b2c5b1a62186bf0d\", element=\"2fc37d34-9b87-4dcd-b81b-fafcc0cc4439\")>]"
      ]
     },
     "execution_count": 56,
     "metadata": {},
     "output_type": "execute_result"
    }
   ],
   "source": [
    "titles_tag=driver2.find_elements_by_xpath(\"//a[@class='a-link-normal s-underline-text s-underline-link-text s-link-style a-text-normal']\")#for intel i9\n",
    "titles_tag[0:30]"
   ]
  },
  {
   "cell_type": "code",
   "execution_count": 57,
   "id": "555368e3",
   "metadata": {},
   "outputs": [
    {
     "data": {
      "text/plain": [
       "[]"
      ]
     },
     "execution_count": 57,
     "metadata": {},
     "output_type": "execute_result"
    }
   ],
   "source": [
    "for i in titles_tag:\n",
    "    title=i.text\n",
    "    job_titles.append(title)\n",
    "titles[0:30]"
   ]
  },
  {
   "cell_type": "code",
   "execution_count": 58,
   "id": "fad86430",
   "metadata": {},
   "outputs": [
    {
     "data": {
      "text/plain": [
       "[<selenium.webdriver.remote.webelement.WebElement (session=\"78371eb07ae741e0b2c5b1a62186bf0d\", element=\"e6466438-bd0f-46a1-a33e-67b2f42035c4\")>,\n",
       " <selenium.webdriver.remote.webelement.WebElement (session=\"78371eb07ae741e0b2c5b1a62186bf0d\", element=\"24f8d082-25b5-44a0-9a87-18426e2ae8b8\")>,\n",
       " <selenium.webdriver.remote.webelement.WebElement (session=\"78371eb07ae741e0b2c5b1a62186bf0d\", element=\"1eeb3b6a-70bb-48ef-a6ef-ee1949f88bf3\")>,\n",
       " <selenium.webdriver.remote.webelement.WebElement (session=\"78371eb07ae741e0b2c5b1a62186bf0d\", element=\"86203e0a-6cc4-410a-9f07-deebc1aabd5e\")>,\n",
       " <selenium.webdriver.remote.webelement.WebElement (session=\"78371eb07ae741e0b2c5b1a62186bf0d\", element=\"c28b6666-4418-46fb-8713-ca841f8f5014\")>,\n",
       " <selenium.webdriver.remote.webelement.WebElement (session=\"78371eb07ae741e0b2c5b1a62186bf0d\", element=\"b446c5eb-4ceb-4b71-8d7b-a18af9ec4846\")>,\n",
       " <selenium.webdriver.remote.webelement.WebElement (session=\"78371eb07ae741e0b2c5b1a62186bf0d\", element=\"64dcd2ea-8fd3-4452-a572-d4f691e9e30b\")>,\n",
       " <selenium.webdriver.remote.webelement.WebElement (session=\"78371eb07ae741e0b2c5b1a62186bf0d\", element=\"f41bdad2-4f9d-4dfe-b02c-5f256a45145b\")>,\n",
       " <selenium.webdriver.remote.webelement.WebElement (session=\"78371eb07ae741e0b2c5b1a62186bf0d\", element=\"1487b685-eacf-4c58-a3b8-0f7439e77233\")>,\n",
       " <selenium.webdriver.remote.webelement.WebElement (session=\"78371eb07ae741e0b2c5b1a62186bf0d\", element=\"58d642d9-69cf-45c1-bccb-b8957f48491f\")>,\n",
       " <selenium.webdriver.remote.webelement.WebElement (session=\"78371eb07ae741e0b2c5b1a62186bf0d\", element=\"5c801aeb-7c56-4cd5-aacf-71d87f5b0ae1\")>,\n",
       " <selenium.webdriver.remote.webelement.WebElement (session=\"78371eb07ae741e0b2c5b1a62186bf0d\", element=\"c9775c37-6290-40f2-a056-44a2e6ddbbd8\")>,\n",
       " <selenium.webdriver.remote.webelement.WebElement (session=\"78371eb07ae741e0b2c5b1a62186bf0d\", element=\"73cc41a0-8499-47a2-99fa-cc80e9a42509\")>,\n",
       " <selenium.webdriver.remote.webelement.WebElement (session=\"78371eb07ae741e0b2c5b1a62186bf0d\", element=\"606c1430-9507-4f11-ad3c-a0c95044fcaf\")>,\n",
       " <selenium.webdriver.remote.webelement.WebElement (session=\"78371eb07ae741e0b2c5b1a62186bf0d\", element=\"72281a17-782f-4fb3-944d-ccd8b2d7d7a8\")>,\n",
       " <selenium.webdriver.remote.webelement.WebElement (session=\"78371eb07ae741e0b2c5b1a62186bf0d\", element=\"dd9a3f46-0ad9-4528-a908-0285d55ab429\")>,\n",
       " <selenium.webdriver.remote.webelement.WebElement (session=\"78371eb07ae741e0b2c5b1a62186bf0d\", element=\"d052bb18-0c7f-4327-bcd6-8c124b67f319\")>,\n",
       " <selenium.webdriver.remote.webelement.WebElement (session=\"78371eb07ae741e0b2c5b1a62186bf0d\", element=\"2eef5ed8-574a-4df2-83c8-8e73b6ba1a12\")>,\n",
       " <selenium.webdriver.remote.webelement.WebElement (session=\"78371eb07ae741e0b2c5b1a62186bf0d\", element=\"cf32e204-c26e-4d59-a649-7af818870094\")>,\n",
       " <selenium.webdriver.remote.webelement.WebElement (session=\"78371eb07ae741e0b2c5b1a62186bf0d\", element=\"4bf78396-dcae-42e0-a262-f09be42638ab\")>,\n",
       " <selenium.webdriver.remote.webelement.WebElement (session=\"78371eb07ae741e0b2c5b1a62186bf0d\", element=\"c4b92901-e934-442a-9a20-40ffc9e43989\")>,\n",
       " <selenium.webdriver.remote.webelement.WebElement (session=\"78371eb07ae741e0b2c5b1a62186bf0d\", element=\"3ae783c6-1c77-4b2b-a8d4-6da3a47460d5\")>,\n",
       " <selenium.webdriver.remote.webelement.WebElement (session=\"78371eb07ae741e0b2c5b1a62186bf0d\", element=\"fb6129ef-308b-43f4-b9f3-85b15b5e6d27\")>,\n",
       " <selenium.webdriver.remote.webelement.WebElement (session=\"78371eb07ae741e0b2c5b1a62186bf0d\", element=\"1bb09631-3e6f-4d03-b339-1a951453baab\")>,\n",
       " <selenium.webdriver.remote.webelement.WebElement (session=\"78371eb07ae741e0b2c5b1a62186bf0d\", element=\"a0de1dc2-45a9-4eae-a92d-bd5b7ec251fb\")>,\n",
       " <selenium.webdriver.remote.webelement.WebElement (session=\"78371eb07ae741e0b2c5b1a62186bf0d\", element=\"3075b1b2-9e78-4dec-8abc-f7f1882a449b\")>,\n",
       " <selenium.webdriver.remote.webelement.WebElement (session=\"78371eb07ae741e0b2c5b1a62186bf0d\", element=\"2f8678a1-eed0-4824-afef-a0972ee8a808\")>,\n",
       " <selenium.webdriver.remote.webelement.WebElement (session=\"78371eb07ae741e0b2c5b1a62186bf0d\", element=\"fe2d705d-cd9f-4226-a8c5-7e64dcceea4e\")>,\n",
       " <selenium.webdriver.remote.webelement.WebElement (session=\"78371eb07ae741e0b2c5b1a62186bf0d\", element=\"14c3c80f-2946-4f34-bd2e-12a390e1b489\")>,\n",
       " <selenium.webdriver.remote.webelement.WebElement (session=\"78371eb07ae741e0b2c5b1a62186bf0d\", element=\"75ead89d-3092-4b6d-99fc-1d337a4271e6\")>]"
      ]
     },
     "execution_count": 58,
     "metadata": {},
     "output_type": "execute_result"
    }
   ],
   "source": [
    "ratings=driver2.find_elements_by_xpath(\"//span[@class='a-declarative']\")\n",
    "ratings[0:30]"
   ]
  },
  {
   "cell_type": "code",
   "execution_count": 59,
   "id": "361953fd",
   "metadata": {},
   "outputs": [
    {
     "data": {
      "text/plain": [
       "[<selenium.webdriver.remote.webelement.WebElement (session=\"78371eb07ae741e0b2c5b1a62186bf0d\", element=\"babc5d97-59c2-4e91-ac78-9948df459577\")>,\n",
       " <selenium.webdriver.remote.webelement.WebElement (session=\"78371eb07ae741e0b2c5b1a62186bf0d\", element=\"2e17ccb2-38bc-4613-9954-1dacda25c630\")>,\n",
       " <selenium.webdriver.remote.webelement.WebElement (session=\"78371eb07ae741e0b2c5b1a62186bf0d\", element=\"49d2ef9c-8e49-43d4-b8a8-d946b3985931\")>,\n",
       " <selenium.webdriver.remote.webelement.WebElement (session=\"78371eb07ae741e0b2c5b1a62186bf0d\", element=\"a1f9d245-e92a-4b53-8d3b-b2b0b9c63bfa\")>,\n",
       " <selenium.webdriver.remote.webelement.WebElement (session=\"78371eb07ae741e0b2c5b1a62186bf0d\", element=\"9c000223-8fcf-4d4b-9e53-060cf434e2e9\")>,\n",
       " <selenium.webdriver.remote.webelement.WebElement (session=\"78371eb07ae741e0b2c5b1a62186bf0d\", element=\"bf719205-77ab-447f-92bf-fe092e59302b\")>,\n",
       " <selenium.webdriver.remote.webelement.WebElement (session=\"78371eb07ae741e0b2c5b1a62186bf0d\", element=\"081204fd-7651-47fb-93f4-96858966dbd1\")>,\n",
       " <selenium.webdriver.remote.webelement.WebElement (session=\"78371eb07ae741e0b2c5b1a62186bf0d\", element=\"34acbedf-e4c6-4e3b-8983-9d9e3412f66f\")>,\n",
       " <selenium.webdriver.remote.webelement.WebElement (session=\"78371eb07ae741e0b2c5b1a62186bf0d\", element=\"159b5e9f-385d-4c86-a0dd-8bc9edf0d676\")>,\n",
       " <selenium.webdriver.remote.webelement.WebElement (session=\"78371eb07ae741e0b2c5b1a62186bf0d\", element=\"3bc80e1b-30d9-4723-a2e7-f26736d62d0e\")>,\n",
       " <selenium.webdriver.remote.webelement.WebElement (session=\"78371eb07ae741e0b2c5b1a62186bf0d\", element=\"8c3a8b2a-d822-4795-a05d-8e6f7a5fa4c1\")>,\n",
       " <selenium.webdriver.remote.webelement.WebElement (session=\"78371eb07ae741e0b2c5b1a62186bf0d\", element=\"710d5ed0-f31c-4124-ac31-9a672b8046ca\")>,\n",
       " <selenium.webdriver.remote.webelement.WebElement (session=\"78371eb07ae741e0b2c5b1a62186bf0d\", element=\"e3279010-3dce-441b-8ffa-5c410f5658ec\")>,\n",
       " <selenium.webdriver.remote.webelement.WebElement (session=\"78371eb07ae741e0b2c5b1a62186bf0d\", element=\"855f6124-5e48-4760-b744-30415e5f15ca\")>,\n",
       " <selenium.webdriver.remote.webelement.WebElement (session=\"78371eb07ae741e0b2c5b1a62186bf0d\", element=\"2cde43e8-4c29-49a1-b903-3c2ab8b6192a\")>,\n",
       " <selenium.webdriver.remote.webelement.WebElement (session=\"78371eb07ae741e0b2c5b1a62186bf0d\", element=\"6e36df54-41c0-40df-b9cb-f14779f52f74\")>,\n",
       " <selenium.webdriver.remote.webelement.WebElement (session=\"78371eb07ae741e0b2c5b1a62186bf0d\", element=\"a6ce130d-2aa6-423b-ba97-12ef65429748\")>,\n",
       " <selenium.webdriver.remote.webelement.WebElement (session=\"78371eb07ae741e0b2c5b1a62186bf0d\", element=\"21aeb9a6-e91a-4d5d-b9c3-f8b9a25c3e81\")>,\n",
       " <selenium.webdriver.remote.webelement.WebElement (session=\"78371eb07ae741e0b2c5b1a62186bf0d\", element=\"8688a7e8-a986-48d3-ad4a-40732809e8ee\")>,\n",
       " <selenium.webdriver.remote.webelement.WebElement (session=\"78371eb07ae741e0b2c5b1a62186bf0d\", element=\"155e30b3-295b-41ec-9ea4-5b6f30e086af\")>,\n",
       " <selenium.webdriver.remote.webelement.WebElement (session=\"78371eb07ae741e0b2c5b1a62186bf0d\", element=\"be2f6e6b-0d21-4bfc-8528-82a456db7aeb\")>,\n",
       " <selenium.webdriver.remote.webelement.WebElement (session=\"78371eb07ae741e0b2c5b1a62186bf0d\", element=\"ab3f3b4f-6d4f-42d3-967c-71f32b602840\")>,\n",
       " <selenium.webdriver.remote.webelement.WebElement (session=\"78371eb07ae741e0b2c5b1a62186bf0d\", element=\"4a7c4030-5a15-445f-988b-9ba41bb20c43\")>,\n",
       " <selenium.webdriver.remote.webelement.WebElement (session=\"78371eb07ae741e0b2c5b1a62186bf0d\", element=\"045f19c2-cc8c-4d76-a62c-b66cc5f1454a\")>,\n",
       " <selenium.webdriver.remote.webelement.WebElement (session=\"78371eb07ae741e0b2c5b1a62186bf0d\", element=\"66afb110-583f-404b-8362-d56c265997ab\")>,\n",
       " <selenium.webdriver.remote.webelement.WebElement (session=\"78371eb07ae741e0b2c5b1a62186bf0d\", element=\"9e88b3ef-f905-4d6b-aa4e-f1060003c624\")>,\n",
       " <selenium.webdriver.remote.webelement.WebElement (session=\"78371eb07ae741e0b2c5b1a62186bf0d\", element=\"3f8aa5da-930e-4486-9483-631ee3449989\")>,\n",
       " <selenium.webdriver.remote.webelement.WebElement (session=\"78371eb07ae741e0b2c5b1a62186bf0d\", element=\"6cda1672-c4f6-466f-95f3-76399c239bca\")>,\n",
       " <selenium.webdriver.remote.webelement.WebElement (session=\"78371eb07ae741e0b2c5b1a62186bf0d\", element=\"853012a8-8aa4-454e-9958-c56dad598c41\")>,\n",
       " <selenium.webdriver.remote.webelement.WebElement (session=\"78371eb07ae741e0b2c5b1a62186bf0d\", element=\"edc0f7bb-1f04-4505-b2c8-7b02498dcf0b\")>]"
      ]
     },
     "execution_count": 59,
     "metadata": {},
     "output_type": "execute_result"
    }
   ],
   "source": [
    "price=driver2.find_elements_by_xpath(\"//span[@class='a-price-whole']\")\n",
    "price[0:30]"
   ]
  },
  {
   "cell_type": "markdown",
   "id": "ff61314e",
   "metadata": {},
   "source": [
    "4---->"
   ]
  },
  {
   "cell_type": "markdown",
   "id": "9e675558",
   "metadata": {},
   "source": [
    "driver5=webdriver.Chrome(r\"C:\\Users\\91907\\chromedriver.exe\")"
   ]
  },
  {
   "cell_type": "code",
   "execution_count": 60,
   "id": "80506c05",
   "metadata": {},
   "outputs": [],
   "source": [
    "driver5=webdriver.Chrome(\"chromedriver.exe\")\n",
    "time.sleep(2)"
   ]
  },
  {
   "cell_type": "code",
   "execution_count": 61,
   "id": "5f7ebf42",
   "metadata": {},
   "outputs": [],
   "source": [
    "driver5.get('https://www.flipkart.com/')"
   ]
  },
  {
   "cell_type": "code",
   "execution_count": 62,
   "id": "551ff5bb",
   "metadata": {},
   "outputs": [],
   "source": [
    "search_field=driver5.find_element_by_class_name(\"_3704LK\")#job search bar\n",
    "search_field.send_keys(\"Sunglasses\")"
   ]
  },
  {
   "cell_type": "code",
   "execution_count": 66,
   "id": "8a8560fe",
   "metadata": {},
   "outputs": [],
   "source": [
    "search_button1=driver5.find_element_by_xpath(\"/html/body/div[1]/div/div[1]/div[1]/div[2]/div[2]/form/div/button\")\n",
    "search_button1.click()"
   ]
  },
  {
   "cell_type": "code",
   "execution_count": 67,
   "id": "485bb091",
   "metadata": {},
   "outputs": [],
   "source": [
    "sunglasses_name=[]\n",
    "name=[]\n",
    "brand=[]"
   ]
  },
  {
   "cell_type": "code",
   "execution_count": 72,
   "id": "af43629d",
   "metadata": {},
   "outputs": [
    {
     "data": {
      "text/plain": [
       "[<selenium.webdriver.remote.webelement.WebElement (session=\"6fc0b242d315215d1104c07d2ae8445c\", element=\"58e20559-e826-437b-b661-d046d3cf3d0a\")>,\n",
       " <selenium.webdriver.remote.webelement.WebElement (session=\"6fc0b242d315215d1104c07d2ae8445c\", element=\"ed3409be-ecc6-460f-a023-475b7172026b\")>,\n",
       " <selenium.webdriver.remote.webelement.WebElement (session=\"6fc0b242d315215d1104c07d2ae8445c\", element=\"14b91112-ccd6-4997-a980-5fc126d33a53\")>,\n",
       " <selenium.webdriver.remote.webelement.WebElement (session=\"6fc0b242d315215d1104c07d2ae8445c\", element=\"eca9becc-8bb5-422d-a358-70f862315b11\")>,\n",
       " <selenium.webdriver.remote.webelement.WebElement (session=\"6fc0b242d315215d1104c07d2ae8445c\", element=\"66586fa0-d366-491d-b8e6-053176527688\")>,\n",
       " <selenium.webdriver.remote.webelement.WebElement (session=\"6fc0b242d315215d1104c07d2ae8445c\", element=\"21096a03-0d5e-4221-98e6-437882291284\")>,\n",
       " <selenium.webdriver.remote.webelement.WebElement (session=\"6fc0b242d315215d1104c07d2ae8445c\", element=\"9b7681ee-bc0a-4169-942e-22ba7456e9f9\")>,\n",
       " <selenium.webdriver.remote.webelement.WebElement (session=\"6fc0b242d315215d1104c07d2ae8445c\", element=\"58136b84-6e58-4692-adad-798b851dce1e\")>,\n",
       " <selenium.webdriver.remote.webelement.WebElement (session=\"6fc0b242d315215d1104c07d2ae8445c\", element=\"bea69991-4056-4dd9-ba7d-153d18075f48\")>,\n",
       " <selenium.webdriver.remote.webelement.WebElement (session=\"6fc0b242d315215d1104c07d2ae8445c\", element=\"a6290ea2-9847-4b57-a033-fff7aeb7b9be\")>,\n",
       " <selenium.webdriver.remote.webelement.WebElement (session=\"6fc0b242d315215d1104c07d2ae8445c\", element=\"37cee2ca-413e-4652-b66e-9c0e57e0936e\")>,\n",
       " <selenium.webdriver.remote.webelement.WebElement (session=\"6fc0b242d315215d1104c07d2ae8445c\", element=\"bab4eb83-140a-432f-bbf5-8f275d260074\")>,\n",
       " <selenium.webdriver.remote.webelement.WebElement (session=\"6fc0b242d315215d1104c07d2ae8445c\", element=\"d8fe027a-540a-4c9e-a153-ecdb15ba30bf\")>,\n",
       " <selenium.webdriver.remote.webelement.WebElement (session=\"6fc0b242d315215d1104c07d2ae8445c\", element=\"ba917c39-ef99-415c-a6b3-aae04dc19306\")>,\n",
       " <selenium.webdriver.remote.webelement.WebElement (session=\"6fc0b242d315215d1104c07d2ae8445c\", element=\"5fd2337b-6e41-4c4f-868c-1d258be9cc8e\")>,\n",
       " <selenium.webdriver.remote.webelement.WebElement (session=\"6fc0b242d315215d1104c07d2ae8445c\", element=\"36bbbd44-24f5-4d15-9317-f8ed71d379e1\")>,\n",
       " <selenium.webdriver.remote.webelement.WebElement (session=\"6fc0b242d315215d1104c07d2ae8445c\", element=\"50de4597-3a79-45a5-b711-af2d0e016cb6\")>,\n",
       " <selenium.webdriver.remote.webelement.WebElement (session=\"6fc0b242d315215d1104c07d2ae8445c\", element=\"0b50f93c-1e31-478c-987b-e6fa21e34b00\")>,\n",
       " <selenium.webdriver.remote.webelement.WebElement (session=\"6fc0b242d315215d1104c07d2ae8445c\", element=\"06257fd8-6b58-4ca9-a960-a14257269b1b\")>,\n",
       " <selenium.webdriver.remote.webelement.WebElement (session=\"6fc0b242d315215d1104c07d2ae8445c\", element=\"4a4a06a9-41e4-40d3-a611-1edab9715206\")>,\n",
       " <selenium.webdriver.remote.webelement.WebElement (session=\"6fc0b242d315215d1104c07d2ae8445c\", element=\"a7a7c8e7-1cf3-46c0-b371-6456260e09f2\")>,\n",
       " <selenium.webdriver.remote.webelement.WebElement (session=\"6fc0b242d315215d1104c07d2ae8445c\", element=\"fda4b05c-77b3-43d5-bd41-78f7d25d9631\")>,\n",
       " <selenium.webdriver.remote.webelement.WebElement (session=\"6fc0b242d315215d1104c07d2ae8445c\", element=\"83d36bf6-6857-46d6-acf6-ca210862f97d\")>,\n",
       " <selenium.webdriver.remote.webelement.WebElement (session=\"6fc0b242d315215d1104c07d2ae8445c\", element=\"8a470ad6-eeff-4e88-a94c-3021686505c1\")>,\n",
       " <selenium.webdriver.remote.webelement.WebElement (session=\"6fc0b242d315215d1104c07d2ae8445c\", element=\"f3a2292d-a092-4f9a-8b9e-7bf99945292a\")>,\n",
       " <selenium.webdriver.remote.webelement.WebElement (session=\"6fc0b242d315215d1104c07d2ae8445c\", element=\"aac21201-8ff2-445a-962b-1186f4b1a1d7\")>,\n",
       " <selenium.webdriver.remote.webelement.WebElement (session=\"6fc0b242d315215d1104c07d2ae8445c\", element=\"a271f7b3-161a-48e5-a8c4-76667238ee1e\")>,\n",
       " <selenium.webdriver.remote.webelement.WebElement (session=\"6fc0b242d315215d1104c07d2ae8445c\", element=\"578a1674-130c-4151-b0f9-28d30732f1d9\")>,\n",
       " <selenium.webdriver.remote.webelement.WebElement (session=\"6fc0b242d315215d1104c07d2ae8445c\", element=\"fafc70d7-b18d-48ca-8f23-aae5e73d63a7\")>,\n",
       " <selenium.webdriver.remote.webelement.WebElement (session=\"6fc0b242d315215d1104c07d2ae8445c\", element=\"d89151a4-7a91-49d7-9dac-236b80e3af61\")>,\n",
       " <selenium.webdriver.remote.webelement.WebElement (session=\"6fc0b242d315215d1104c07d2ae8445c\", element=\"d8497a25-0194-40ec-98fd-f23a8e62e565\")>,\n",
       " <selenium.webdriver.remote.webelement.WebElement (session=\"6fc0b242d315215d1104c07d2ae8445c\", element=\"4f38dde6-a8d6-4c91-a196-30c949ec30cf\")>,\n",
       " <selenium.webdriver.remote.webelement.WebElement (session=\"6fc0b242d315215d1104c07d2ae8445c\", element=\"d65048b5-90e4-4e7a-9372-264a5e9e6e4f\")>,\n",
       " <selenium.webdriver.remote.webelement.WebElement (session=\"6fc0b242d315215d1104c07d2ae8445c\", element=\"5cdbd6e2-6f24-4dee-9927-a95c79138546\")>,\n",
       " <selenium.webdriver.remote.webelement.WebElement (session=\"6fc0b242d315215d1104c07d2ae8445c\", element=\"c726c138-c5cb-4b67-b769-f58dbb36a532\")>,\n",
       " <selenium.webdriver.remote.webelement.WebElement (session=\"6fc0b242d315215d1104c07d2ae8445c\", element=\"2ad9224d-a134-436f-9c36-856b2690fb7e\")>,\n",
       " <selenium.webdriver.remote.webelement.WebElement (session=\"6fc0b242d315215d1104c07d2ae8445c\", element=\"55a41182-d361-42e0-aedf-d988981881ce\")>,\n",
       " <selenium.webdriver.remote.webelement.WebElement (session=\"6fc0b242d315215d1104c07d2ae8445c\", element=\"182789af-8a34-46e2-ba55-d3a2089f59a6\")>,\n",
       " <selenium.webdriver.remote.webelement.WebElement (session=\"6fc0b242d315215d1104c07d2ae8445c\", element=\"69d0b91d-2365-4f5b-af7d-150ee427a350\")>,\n",
       " <selenium.webdriver.remote.webelement.WebElement (session=\"6fc0b242d315215d1104c07d2ae8445c\", element=\"e52dcef9-d62f-4d86-b65c-cde2930c5d08\")>]"
      ]
     },
     "execution_count": 72,
     "metadata": {},
     "output_type": "execute_result"
    }
   ],
   "source": [
    "sunglasses_tag=driver5.find_elements_by_xpath(\"//a[@class='IRpwTa']\")\n",
    "sunglasses_tag[0:100]"
   ]
  },
  {
   "cell_type": "code",
   "execution_count": 74,
   "id": "f21e1753",
   "metadata": {},
   "outputs": [
    {
     "ename": "AttributeError",
     "evalue": "'str' object has no attribute 'append'",
     "output_type": "error",
     "traceback": [
      "\u001b[1;31m---------------------------------------------------------------------------\u001b[0m",
      "\u001b[1;31mAttributeError\u001b[0m                            Traceback (most recent call last)",
      "\u001b[1;32m~\\AppData\\Local\\Temp/ipykernel_9828/466746765.py\u001b[0m in \u001b[0;36m<module>\u001b[1;34m\u001b[0m\n\u001b[0;32m      1\u001b[0m \u001b[1;32mfor\u001b[0m \u001b[0mi\u001b[0m \u001b[1;32min\u001b[0m \u001b[0msunglasses_tag\u001b[0m\u001b[1;33m:\u001b[0m\u001b[1;33m\u001b[0m\u001b[1;33m\u001b[0m\u001b[0m\n\u001b[0;32m      2\u001b[0m     \u001b[0msunglasses\u001b[0m\u001b[1;33m=\u001b[0m\u001b[0mi\u001b[0m\u001b[1;33m.\u001b[0m\u001b[0mtext\u001b[0m\u001b[1;33m\u001b[0m\u001b[1;33m\u001b[0m\u001b[0m\n\u001b[1;32m----> 3\u001b[1;33m     \u001b[0msunglasses_name\u001b[0m\u001b[1;33m.\u001b[0m\u001b[0mappend\u001b[0m\u001b[1;33m(\u001b[0m\u001b[0msunglasses\u001b[0m\u001b[1;33m)\u001b[0m\u001b[1;33m\u001b[0m\u001b[1;33m\u001b[0m\u001b[0m\n\u001b[0m\u001b[0;32m      4\u001b[0m \u001b[0msunglasses_name\u001b[0m\u001b[1;33m[\u001b[0m\u001b[1;36m0\u001b[0m\u001b[1;33m:\u001b[0m\u001b[1;36m100\u001b[0m\u001b[1;33m]\u001b[0m\u001b[1;33m\u001b[0m\u001b[1;33m\u001b[0m\u001b[0m\n",
      "\u001b[1;31mAttributeError\u001b[0m: 'str' object has no attribute 'append'"
     ]
    }
   ],
   "source": [
    "for i in sunglasses_tag:\n",
    "    sunglasses=i.text\n",
    "    sunglasses_name.append(sunglasses)\n",
    "sunglasses_name[0:100]"
   ]
  },
  {
   "cell_type": "code",
   "execution_count": 75,
   "id": "daec13d8",
   "metadata": {},
   "outputs": [
    {
     "data": {
      "text/plain": [
       "[<selenium.webdriver.remote.webelement.WebElement (session=\"6fc0b242d315215d1104c07d2ae8445c\", element=\"9a4bf897-1412-400f-89a3-9fb1b4a3ada7\")>,\n",
       " <selenium.webdriver.remote.webelement.WebElement (session=\"6fc0b242d315215d1104c07d2ae8445c\", element=\"0820db81-684d-4833-8b8e-4ebdbeee0b9d\")>,\n",
       " <selenium.webdriver.remote.webelement.WebElement (session=\"6fc0b242d315215d1104c07d2ae8445c\", element=\"176fb76a-42aa-41fb-b73d-5bd3ac6bfb44\")>,\n",
       " <selenium.webdriver.remote.webelement.WebElement (session=\"6fc0b242d315215d1104c07d2ae8445c\", element=\"145aa268-d197-4786-92a5-589efd98f1d5\")>,\n",
       " <selenium.webdriver.remote.webelement.WebElement (session=\"6fc0b242d315215d1104c07d2ae8445c\", element=\"7e11da20-a6fa-4c8a-bb4f-d800daacf298\")>,\n",
       " <selenium.webdriver.remote.webelement.WebElement (session=\"6fc0b242d315215d1104c07d2ae8445c\", element=\"5852e936-fa30-4c5e-b81d-bf411d66eb8c\")>,\n",
       " <selenium.webdriver.remote.webelement.WebElement (session=\"6fc0b242d315215d1104c07d2ae8445c\", element=\"6d5d2da1-9413-45d5-9e04-29cebd2a7fb3\")>,\n",
       " <selenium.webdriver.remote.webelement.WebElement (session=\"6fc0b242d315215d1104c07d2ae8445c\", element=\"2c08f89c-6d25-48e4-a64e-1617be7f503e\")>,\n",
       " <selenium.webdriver.remote.webelement.WebElement (session=\"6fc0b242d315215d1104c07d2ae8445c\", element=\"fa25bd8d-5286-4570-9339-4bb36361f652\")>,\n",
       " <selenium.webdriver.remote.webelement.WebElement (session=\"6fc0b242d315215d1104c07d2ae8445c\", element=\"b2821748-dc31-409f-81e7-383d7f583620\")>,\n",
       " <selenium.webdriver.remote.webelement.WebElement (session=\"6fc0b242d315215d1104c07d2ae8445c\", element=\"e06485b7-0690-4b5f-8b7b-3dfea241db53\")>,\n",
       " <selenium.webdriver.remote.webelement.WebElement (session=\"6fc0b242d315215d1104c07d2ae8445c\", element=\"aef807fc-87f7-4789-9bfd-3ebe0c623eeb\")>,\n",
       " <selenium.webdriver.remote.webelement.WebElement (session=\"6fc0b242d315215d1104c07d2ae8445c\", element=\"1738dfd3-70ef-4bb8-b6ab-12b7a2b45fa8\")>,\n",
       " <selenium.webdriver.remote.webelement.WebElement (session=\"6fc0b242d315215d1104c07d2ae8445c\", element=\"6af9040a-d14b-4e53-937f-9b7ac67cc9c3\")>,\n",
       " <selenium.webdriver.remote.webelement.WebElement (session=\"6fc0b242d315215d1104c07d2ae8445c\", element=\"0d3dba1d-df86-47c4-b015-9a38bf432cfa\")>,\n",
       " <selenium.webdriver.remote.webelement.WebElement (session=\"6fc0b242d315215d1104c07d2ae8445c\", element=\"3cc58295-feaa-41a5-9cd2-b8e137b02ba9\")>,\n",
       " <selenium.webdriver.remote.webelement.WebElement (session=\"6fc0b242d315215d1104c07d2ae8445c\", element=\"3da7039d-8d26-43c7-acf2-19b978e25b0f\")>,\n",
       " <selenium.webdriver.remote.webelement.WebElement (session=\"6fc0b242d315215d1104c07d2ae8445c\", element=\"81951bf1-b220-48a0-bf04-c5266ae6b195\")>,\n",
       " <selenium.webdriver.remote.webelement.WebElement (session=\"6fc0b242d315215d1104c07d2ae8445c\", element=\"a7ca12bc-6cbe-4072-a4ba-4c34b593c470\")>,\n",
       " <selenium.webdriver.remote.webelement.WebElement (session=\"6fc0b242d315215d1104c07d2ae8445c\", element=\"650bd15a-9b23-4a4d-96c6-f85039d177fe\")>,\n",
       " <selenium.webdriver.remote.webelement.WebElement (session=\"6fc0b242d315215d1104c07d2ae8445c\", element=\"27d768c1-3823-4103-91af-eb217a49f063\")>,\n",
       " <selenium.webdriver.remote.webelement.WebElement (session=\"6fc0b242d315215d1104c07d2ae8445c\", element=\"a26e0be0-b593-45d5-82d4-91c892d0b173\")>,\n",
       " <selenium.webdriver.remote.webelement.WebElement (session=\"6fc0b242d315215d1104c07d2ae8445c\", element=\"49123edc-a890-423d-85ec-68de92292019\")>,\n",
       " <selenium.webdriver.remote.webelement.WebElement (session=\"6fc0b242d315215d1104c07d2ae8445c\", element=\"119d0ea4-6a4e-4901-9fcf-dc6386ac50b7\")>,\n",
       " <selenium.webdriver.remote.webelement.WebElement (session=\"6fc0b242d315215d1104c07d2ae8445c\", element=\"5495a14d-1b3a-40a8-86dd-166aeb9afcfb\")>,\n",
       " <selenium.webdriver.remote.webelement.WebElement (session=\"6fc0b242d315215d1104c07d2ae8445c\", element=\"796be3af-6bf3-4818-9690-8af9955b43ea\")>,\n",
       " <selenium.webdriver.remote.webelement.WebElement (session=\"6fc0b242d315215d1104c07d2ae8445c\", element=\"1f5f712e-1308-4ba7-8f7f-169488af4d93\")>,\n",
       " <selenium.webdriver.remote.webelement.WebElement (session=\"6fc0b242d315215d1104c07d2ae8445c\", element=\"9596cd1b-b6a4-4a71-aa81-db7f63e169f1\")>,\n",
       " <selenium.webdriver.remote.webelement.WebElement (session=\"6fc0b242d315215d1104c07d2ae8445c\", element=\"129471c5-282a-47a9-a42f-8155380d3de7\")>,\n",
       " <selenium.webdriver.remote.webelement.WebElement (session=\"6fc0b242d315215d1104c07d2ae8445c\", element=\"580498c2-eb2c-46bd-831e-1ad4bef9ce94\")>,\n",
       " <selenium.webdriver.remote.webelement.WebElement (session=\"6fc0b242d315215d1104c07d2ae8445c\", element=\"7f7eceab-c287-4d85-be5d-eff82c2c2432\")>,\n",
       " <selenium.webdriver.remote.webelement.WebElement (session=\"6fc0b242d315215d1104c07d2ae8445c\", element=\"978c710d-15a8-4d06-9211-990cebfa198f\")>,\n",
       " <selenium.webdriver.remote.webelement.WebElement (session=\"6fc0b242d315215d1104c07d2ae8445c\", element=\"ed1de2cb-318e-486b-9717-23d4bd7411cf\")>,\n",
       " <selenium.webdriver.remote.webelement.WebElement (session=\"6fc0b242d315215d1104c07d2ae8445c\", element=\"2c8fe0e6-cc16-461e-8285-1f43f8d120d3\")>,\n",
       " <selenium.webdriver.remote.webelement.WebElement (session=\"6fc0b242d315215d1104c07d2ae8445c\", element=\"9f580fe0-0b9a-490f-86bf-2d8be06dae68\")>,\n",
       " <selenium.webdriver.remote.webelement.WebElement (session=\"6fc0b242d315215d1104c07d2ae8445c\", element=\"390b3ba7-7ead-4b61-8f97-2c1e5351ecda\")>,\n",
       " <selenium.webdriver.remote.webelement.WebElement (session=\"6fc0b242d315215d1104c07d2ae8445c\", element=\"5080cd39-ba1d-4166-b3fd-6c22566173dd\")>,\n",
       " <selenium.webdriver.remote.webelement.WebElement (session=\"6fc0b242d315215d1104c07d2ae8445c\", element=\"d7c6d872-e509-40a4-ab92-1d94cb3c25ea\")>,\n",
       " <selenium.webdriver.remote.webelement.WebElement (session=\"6fc0b242d315215d1104c07d2ae8445c\", element=\"82998411-3149-4922-81cd-116575b751ab\")>,\n",
       " <selenium.webdriver.remote.webelement.WebElement (session=\"6fc0b242d315215d1104c07d2ae8445c\", element=\"03e81dc7-7a23-45a4-8169-6c4d73bc7648\")>]"
      ]
     },
     "execution_count": 75,
     "metadata": {},
     "output_type": "execute_result"
    }
   ],
   "source": [
    "brand=driver5.find_elements_by_xpath(\"//div[@class='_2WkVRV']\")\n",
    "brand[0:100]"
   ]
  },
  {
   "cell_type": "code",
   "execution_count": 76,
   "id": "4e941042",
   "metadata": {},
   "outputs": [
    {
     "data": {
      "text/plain": [
       "['VINCENT CHASE',\n",
       " 'VINCENT CHASE',\n",
       " 'Fastrack',\n",
       " 'SUNBEE',\n",
       " 'Fastrack',\n",
       " 'PIRASO',\n",
       " 'Lee Topper',\n",
       " 'Singco India',\n",
       " 'New Specs',\n",
       " 'Elligator',\n",
       " 'PIRASO',\n",
       " 'Singco India',\n",
       " 'SHAAH COLLECTIONS',\n",
       " 'SRPM',\n",
       " 'Fastrack',\n",
       " 'VINCENT CHASE',\n",
       " 'PIRASO',\n",
       " 'PIRASO',\n",
       " 'kingsunglasses',\n",
       " 'VINCENT CHASE',\n",
       " 'hipe',\n",
       " 'Fastrack',\n",
       " 'SUNBEE',\n",
       " 'NuVew',\n",
       " 'ROZZETTA CRAFT',\n",
       " 'New Specs',\n",
       " 'DEIXELS',\n",
       " 'VINCENT CHASE',\n",
       " 'Lee Topper',\n",
       " 'ROZZETTA CRAFT',\n",
       " 'ROZZETTA CRAFT',\n",
       " 'Roadster',\n",
       " 'Mi',\n",
       " 'HIPPON',\n",
       " 'Mi',\n",
       " 'Resist',\n",
       " 'ROZZETTA CRAFT',\n",
       " 'SRPM',\n",
       " 'Mi',\n",
       " 'VINCENT CHASE']"
      ]
     },
     "execution_count": 76,
     "metadata": {},
     "output_type": "execute_result"
    }
   ],
   "source": [
    "for i in brand:\n",
    "    s=i.text\n",
    "    name.append(s)\n",
    "name[0:100]"
   ]
  },
  {
   "cell_type": "code",
   "execution_count": 80,
   "id": "2673df63",
   "metadata": {},
   "outputs": [
    {
     "data": {
      "text/plain": [
       "[<selenium.webdriver.remote.webelement.WebElement (session=\"6fc0b242d315215d1104c07d2ae8445c\", element=\"aea77ab2-f29c-4527-bf72-b2646fe343f0\")>,\n",
       " <selenium.webdriver.remote.webelement.WebElement (session=\"6fc0b242d315215d1104c07d2ae8445c\", element=\"f230a450-31b6-46e5-b584-262137ae222e\")>,\n",
       " <selenium.webdriver.remote.webelement.WebElement (session=\"6fc0b242d315215d1104c07d2ae8445c\", element=\"ce9e7b81-1e11-46ca-8a91-5a25dbfc58e0\")>,\n",
       " <selenium.webdriver.remote.webelement.WebElement (session=\"6fc0b242d315215d1104c07d2ae8445c\", element=\"f8468adf-7ac2-4f06-be44-f1fd77f4e56f\")>,\n",
       " <selenium.webdriver.remote.webelement.WebElement (session=\"6fc0b242d315215d1104c07d2ae8445c\", element=\"6c7bebd6-e03e-4236-839a-b6578fb7a46a\")>,\n",
       " <selenium.webdriver.remote.webelement.WebElement (session=\"6fc0b242d315215d1104c07d2ae8445c\", element=\"c949dc53-e236-473c-b570-9d96e4cc4366\")>,\n",
       " <selenium.webdriver.remote.webelement.WebElement (session=\"6fc0b242d315215d1104c07d2ae8445c\", element=\"5a84dbf4-2c24-4412-a1af-dd562a7f5125\")>,\n",
       " <selenium.webdriver.remote.webelement.WebElement (session=\"6fc0b242d315215d1104c07d2ae8445c\", element=\"09f6f61a-fe6a-4557-bee4-ffa1f4f9bba0\")>,\n",
       " <selenium.webdriver.remote.webelement.WebElement (session=\"6fc0b242d315215d1104c07d2ae8445c\", element=\"92ed3707-cb6e-4ad2-b9d6-796cd9d91ed9\")>,\n",
       " <selenium.webdriver.remote.webelement.WebElement (session=\"6fc0b242d315215d1104c07d2ae8445c\", element=\"90aa5e4b-268a-4afa-9845-309d9325d338\")>,\n",
       " <selenium.webdriver.remote.webelement.WebElement (session=\"6fc0b242d315215d1104c07d2ae8445c\", element=\"13db5983-ad87-4b36-af4f-667c87066352\")>,\n",
       " <selenium.webdriver.remote.webelement.WebElement (session=\"6fc0b242d315215d1104c07d2ae8445c\", element=\"efc7ba36-848d-4188-9aa6-0dd4e23752e9\")>,\n",
       " <selenium.webdriver.remote.webelement.WebElement (session=\"6fc0b242d315215d1104c07d2ae8445c\", element=\"05189074-05d3-48da-b1d7-9784bc04cbdb\")>,\n",
       " <selenium.webdriver.remote.webelement.WebElement (session=\"6fc0b242d315215d1104c07d2ae8445c\", element=\"cf0417c7-4987-48c5-9eb1-e486b0cf777b\")>,\n",
       " <selenium.webdriver.remote.webelement.WebElement (session=\"6fc0b242d315215d1104c07d2ae8445c\", element=\"2516de7f-4443-4e59-a114-94e859e1dd4e\")>,\n",
       " <selenium.webdriver.remote.webelement.WebElement (session=\"6fc0b242d315215d1104c07d2ae8445c\", element=\"e0bc16c2-55bf-43e3-aa88-39b0a8603aa0\")>,\n",
       " <selenium.webdriver.remote.webelement.WebElement (session=\"6fc0b242d315215d1104c07d2ae8445c\", element=\"9e593eb8-33f9-4815-beb4-160298d90561\")>,\n",
       " <selenium.webdriver.remote.webelement.WebElement (session=\"6fc0b242d315215d1104c07d2ae8445c\", element=\"245c2ec0-0dca-475b-89e9-91b7b2e1f65e\")>,\n",
       " <selenium.webdriver.remote.webelement.WebElement (session=\"6fc0b242d315215d1104c07d2ae8445c\", element=\"62e5bbbe-f596-45d4-9e01-abb27a777ff1\")>,\n",
       " <selenium.webdriver.remote.webelement.WebElement (session=\"6fc0b242d315215d1104c07d2ae8445c\", element=\"29d23900-e0de-47f5-ab0e-e432e86fec17\")>,\n",
       " <selenium.webdriver.remote.webelement.WebElement (session=\"6fc0b242d315215d1104c07d2ae8445c\", element=\"092d25d8-44d3-45e7-8438-970db87eefaf\")>,\n",
       " <selenium.webdriver.remote.webelement.WebElement (session=\"6fc0b242d315215d1104c07d2ae8445c\", element=\"c1039f03-ab2c-4c97-bb22-b1ef8da5b160\")>,\n",
       " <selenium.webdriver.remote.webelement.WebElement (session=\"6fc0b242d315215d1104c07d2ae8445c\", element=\"d6ac758f-5eed-4e50-808d-e9cdadf2b3cf\")>,\n",
       " <selenium.webdriver.remote.webelement.WebElement (session=\"6fc0b242d315215d1104c07d2ae8445c\", element=\"861e3f08-bc72-4fa1-a012-a8485ab53f63\")>,\n",
       " <selenium.webdriver.remote.webelement.WebElement (session=\"6fc0b242d315215d1104c07d2ae8445c\", element=\"f19877ba-ed6b-4988-93e8-c4ade07bd34c\")>,\n",
       " <selenium.webdriver.remote.webelement.WebElement (session=\"6fc0b242d315215d1104c07d2ae8445c\", element=\"71a807ee-f679-482d-9d24-287ba50a92ca\")>,\n",
       " <selenium.webdriver.remote.webelement.WebElement (session=\"6fc0b242d315215d1104c07d2ae8445c\", element=\"0488a0b4-1c9e-4dd1-a12a-361dd9c571f7\")>,\n",
       " <selenium.webdriver.remote.webelement.WebElement (session=\"6fc0b242d315215d1104c07d2ae8445c\", element=\"b8efece5-671a-46b7-80a9-0e4f3210900e\")>,\n",
       " <selenium.webdriver.remote.webelement.WebElement (session=\"6fc0b242d315215d1104c07d2ae8445c\", element=\"debbdeda-62dc-4c84-b11a-6287cf671f41\")>,\n",
       " <selenium.webdriver.remote.webelement.WebElement (session=\"6fc0b242d315215d1104c07d2ae8445c\", element=\"b4b2a5cf-f345-4651-ac2f-3a33288c56ff\")>,\n",
       " <selenium.webdriver.remote.webelement.WebElement (session=\"6fc0b242d315215d1104c07d2ae8445c\", element=\"01bf3888-49e9-4700-8e47-7a2da5e4d697\")>,\n",
       " <selenium.webdriver.remote.webelement.WebElement (session=\"6fc0b242d315215d1104c07d2ae8445c\", element=\"8b27bfeb-eb62-4955-bc59-aed193ef68e3\")>,\n",
       " <selenium.webdriver.remote.webelement.WebElement (session=\"6fc0b242d315215d1104c07d2ae8445c\", element=\"64fe4e90-7a73-46e7-bf4b-3211133036b9\")>,\n",
       " <selenium.webdriver.remote.webelement.WebElement (session=\"6fc0b242d315215d1104c07d2ae8445c\", element=\"0d39b839-55b0-47ae-a794-969b47297379\")>,\n",
       " <selenium.webdriver.remote.webelement.WebElement (session=\"6fc0b242d315215d1104c07d2ae8445c\", element=\"1e04bb73-b83a-48ee-b18c-3356a1b7873a\")>,\n",
       " <selenium.webdriver.remote.webelement.WebElement (session=\"6fc0b242d315215d1104c07d2ae8445c\", element=\"d5ba2b0a-dfdf-4525-9c72-9c08930abe15\")>,\n",
       " <selenium.webdriver.remote.webelement.WebElement (session=\"6fc0b242d315215d1104c07d2ae8445c\", element=\"aeb24514-ba83-4c84-986a-98284ec43de3\")>,\n",
       " <selenium.webdriver.remote.webelement.WebElement (session=\"6fc0b242d315215d1104c07d2ae8445c\", element=\"103e4160-d5cc-499a-8c7e-b1e6e5fc4591\")>,\n",
       " <selenium.webdriver.remote.webelement.WebElement (session=\"6fc0b242d315215d1104c07d2ae8445c\", element=\"44c3557b-2463-483a-8acb-bb6edd420679\")>,\n",
       " <selenium.webdriver.remote.webelement.WebElement (session=\"6fc0b242d315215d1104c07d2ae8445c\", element=\"7d9facf0-a3b7-40ef-b8aa-ce4fbc172f47\")>]"
      ]
     },
     "execution_count": 80,
     "metadata": {},
     "output_type": "execute_result"
    }
   ],
   "source": [
    "pr=driver5.find_elements_by_xpath(\"//div[@class='_30jeq3']\")\n",
    "pr[0:100]"
   ]
  },
  {
   "cell_type": "code",
   "execution_count": 81,
   "id": "4c1f6d9c",
   "metadata": {},
   "outputs": [
    {
     "ename": "TypeError",
     "evalue": "'list' object is not callable",
     "output_type": "error",
     "traceback": [
      "\u001b[1;31m---------------------------------------------------------------------------\u001b[0m",
      "\u001b[1;31mTypeError\u001b[0m                                 Traceback (most recent call last)",
      "\u001b[1;32m~\\AppData\\Local\\Temp/ipykernel_9828/3204261840.py\u001b[0m in \u001b[0;36m<module>\u001b[1;34m\u001b[0m\n\u001b[1;32m----> 1\u001b[1;33m \u001b[1;32mfor\u001b[0m \u001b[0mi\u001b[0m \u001b[1;32min\u001b[0m \u001b[0mpr\u001b[0m\u001b[1;33m(\u001b[0m\u001b[1;33m)\u001b[0m\u001b[1;33m:\u001b[0m\u001b[1;33m\u001b[0m\u001b[1;33m\u001b[0m\u001b[0m\n\u001b[0m\u001b[0;32m      2\u001b[0m     \u001b[0ms\u001b[0m\u001b[1;33m=\u001b[0m\u001b[0mi\u001b[0m\u001b[1;33m.\u001b[0m\u001b[0mtext\u001b[0m\u001b[1;33m\u001b[0m\u001b[1;33m\u001b[0m\u001b[0m\n\u001b[0;32m      3\u001b[0m     \u001b[0mprice\u001b[0m\u001b[1;33m.\u001b[0m\u001b[0mappend\u001b[0m\u001b[1;33m(\u001b[0m\u001b[0ms\u001b[0m\u001b[1;33m)\u001b[0m\u001b[1;33m\u001b[0m\u001b[1;33m\u001b[0m\u001b[0m\n\u001b[0;32m      4\u001b[0m \u001b[0mprice\u001b[0m\u001b[1;33m[\u001b[0m\u001b[1;36m0\u001b[0m\u001b[1;33m:\u001b[0m\u001b[1;36m100\u001b[0m\u001b[1;33m]\u001b[0m\u001b[1;33m\u001b[0m\u001b[1;33m\u001b[0m\u001b[0m\n",
      "\u001b[1;31mTypeError\u001b[0m: 'list' object is not callable"
     ]
    }
   ],
   "source": [
    "for i in pr():\n",
    "    s=i.text\n",
    "    price.append(s)\n",
    "price[0:100]"
   ]
  },
  {
   "cell_type": "code",
   "execution_count": 82,
   "id": "b599f9f1",
   "metadata": {},
   "outputs": [],
   "source": [
    "driver33=webdriver.Chrome(r\"C:\\Users\\91907\\chromedriver.exe\")"
   ]
  },
  {
   "cell_type": "code",
   "execution_count": 83,
   "id": "ed4d4dfd",
   "metadata": {},
   "outputs": [],
   "source": [
    "driver33=webdriver.Chrome(\"chromedriver.exe\")\n",
    "time.sleep(2)"
   ]
  },
  {
   "cell_type": "code",
   "execution_count": 84,
   "id": "48454aac",
   "metadata": {},
   "outputs": [],
   "source": [
    "driver33.get('https://www.naukri.com/')"
   ]
  },
  {
   "cell_type": "code",
   "execution_count": 85,
   "id": "5751951e",
   "metadata": {},
   "outputs": [],
   "source": [
    "search_field33=driver33.find_element_by_class_name(\"suggestor-input\")#job search bar\n",
    "search_field33.send_keys(\"Data scientist\")"
   ]
  },
  {
   "cell_type": "code",
   "execution_count": 86,
   "id": "dd973a48",
   "metadata": {},
   "outputs": [],
   "source": [
    "search_field_loc33=driver33.find_element_by_class_name(\"suggestor-input\")#job search bar\n",
    "search_field_loc33.send_keys(\"Delhi\")"
   ]
  },
  {
   "cell_type": "code",
   "execution_count": 87,
   "id": "48dec90e",
   "metadata": {},
   "outputs": [],
   "source": [
    "search_field_location33=driver33.find_element_by_xpath(\"/html/body/div/div[2]/div[3]/div/div/div[3]/div/div/div/input\")#job search bar\n",
    "search_field_location33.send_keys(\"Delhi/NCR\")"
   ]
  },
  {
   "cell_type": "code",
   "execution_count": 88,
   "id": "2b40d863",
   "metadata": {},
   "outputs": [],
   "source": [
    "search_button33=driver33.find_element_by_xpath(\"/html/body/div/div[2]/div[3]/div/div/div[6]\")\n",
    "search_button33.click()"
   ]
  },
  {
   "cell_type": "code",
   "execution_count": 91,
   "id": "415b1d98",
   "metadata": {},
   "outputs": [],
   "source": [
    "job_titles33=[]\n",
    "company_names33=[]\n",
    "locations_list33=[]\n",
    "experience_list33=[]"
   ]
  },
  {
   "cell_type": "code",
   "execution_count": 95,
   "id": "58c086d1",
   "metadata": {},
   "outputs": [
    {
     "data": {
      "text/plain": [
       "[<selenium.webdriver.remote.webelement.WebElement (session=\"4c2ecefdf14ecf774960958ac0d3aedb\", element=\"acc9e729-3c30-4ff8-88bd-7233b900ecb9\")>,\n",
       " <selenium.webdriver.remote.webelement.WebElement (session=\"4c2ecefdf14ecf774960958ac0d3aedb\", element=\"23d5bf01-b479-4ff3-b81a-c1e930e88bb2\")>,\n",
       " <selenium.webdriver.remote.webelement.WebElement (session=\"4c2ecefdf14ecf774960958ac0d3aedb\", element=\"55d369d1-ae88-4fc0-a634-778ad0a2476e\")>,\n",
       " <selenium.webdriver.remote.webelement.WebElement (session=\"4c2ecefdf14ecf774960958ac0d3aedb\", element=\"fe1dda70-8cbc-46bb-b17b-b5e1e1147053\")>,\n",
       " <selenium.webdriver.remote.webelement.WebElement (session=\"4c2ecefdf14ecf774960958ac0d3aedb\", element=\"d6609fbf-afc9-4c40-978d-8b859fcc6fde\")>,\n",
       " <selenium.webdriver.remote.webelement.WebElement (session=\"4c2ecefdf14ecf774960958ac0d3aedb\", element=\"be9e3988-da94-4f60-a2e8-ffff781bb16e\")>,\n",
       " <selenium.webdriver.remote.webelement.WebElement (session=\"4c2ecefdf14ecf774960958ac0d3aedb\", element=\"19ebd75c-ab09-4f9c-868d-f61edfcfe9b4\")>,\n",
       " <selenium.webdriver.remote.webelement.WebElement (session=\"4c2ecefdf14ecf774960958ac0d3aedb\", element=\"e5feadd5-83b7-429d-bbb0-0806370d8468\")>,\n",
       " <selenium.webdriver.remote.webelement.WebElement (session=\"4c2ecefdf14ecf774960958ac0d3aedb\", element=\"b132cd06-65fb-42a3-ba96-650cf3f7bbc8\")>,\n",
       " <selenium.webdriver.remote.webelement.WebElement (session=\"4c2ecefdf14ecf774960958ac0d3aedb\", element=\"32942253-243f-4e6f-ad63-19177cf329b2\")>]"
      ]
     },
     "execution_count": 95,
     "metadata": {},
     "output_type": "execute_result"
    }
   ],
   "source": [
    "name33=driver33.find_elements_by_xpath(\"//a[@class='title fw500 ellipsis']\")#3-6lacks\n",
    "name33[0:10]"
   ]
  },
  {
   "cell_type": "code",
   "execution_count": null,
   "id": "d593dec5",
   "metadata": {},
   "outputs": [],
   "source": []
  },
  {
   "cell_type": "code",
   "execution_count": 97,
   "id": "c81f7c4e",
   "metadata": {},
   "outputs": [
    {
     "data": {
      "text/plain": [
       "[<selenium.webdriver.remote.webelement.WebElement (session=\"4c2ecefdf14ecf774960958ac0d3aedb\", element=\"e8de2962-0366-449f-bee0-46c8d706b87c\")>,\n",
       " <selenium.webdriver.remote.webelement.WebElement (session=\"4c2ecefdf14ecf774960958ac0d3aedb\", element=\"86807363-5196-4d5d-bca5-cdfa7ffc4769\")>,\n",
       " <selenium.webdriver.remote.webelement.WebElement (session=\"4c2ecefdf14ecf774960958ac0d3aedb\", element=\"4e1adbb7-fef8-4e29-8c4a-0b0b4c9a407a\")>,\n",
       " <selenium.webdriver.remote.webelement.WebElement (session=\"4c2ecefdf14ecf774960958ac0d3aedb\", element=\"c9128464-1151-4b84-a6ac-7a758ed86fda\")>,\n",
       " <selenium.webdriver.remote.webelement.WebElement (session=\"4c2ecefdf14ecf774960958ac0d3aedb\", element=\"58ab7809-740b-4f48-8147-57925ac07460\")>,\n",
       " <selenium.webdriver.remote.webelement.WebElement (session=\"4c2ecefdf14ecf774960958ac0d3aedb\", element=\"d7cd4011-8ee2-40f6-8ad0-5eaaec532947\")>,\n",
       " <selenium.webdriver.remote.webelement.WebElement (session=\"4c2ecefdf14ecf774960958ac0d3aedb\", element=\"9f16c4cf-0b9a-4f11-98d5-f13d9d80f448\")>,\n",
       " <selenium.webdriver.remote.webelement.WebElement (session=\"4c2ecefdf14ecf774960958ac0d3aedb\", element=\"dc912ba8-c93e-4eb2-83c3-1449ecec1bd6\")>,\n",
       " <selenium.webdriver.remote.webelement.WebElement (session=\"4c2ecefdf14ecf774960958ac0d3aedb\", element=\"6d38bb38-6e4d-434d-a1f9-eaa1b47c02f6\")>,\n",
       " <selenium.webdriver.remote.webelement.WebElement (session=\"4c2ecefdf14ecf774960958ac0d3aedb\", element=\"51fd7335-451f-4c47-a142-59f263986e4e\")>]"
      ]
     },
     "execution_count": 97,
     "metadata": {},
     "output_type": "execute_result"
    }
   ],
   "source": [
    "comp=driver33.find_elements_by_xpath(\"//a[@class='subTitle ellipsis fleft']\")\n",
    "comp[0:10]"
   ]
  },
  {
   "cell_type": "code",
   "execution_count": 98,
   "id": "7f1cb5d2",
   "metadata": {},
   "outputs": [
    {
     "data": {
      "text/plain": [
       "['Ashkom Media India Private Limited',\n",
       " 'EASY DATA ANALYTICS TECHNOLOGY PRIVATE LIMITED',\n",
       " 'Optum',\n",
       " 'AXA Technology Services India Pvt. Ltd',\n",
       " 'Skyleaf Consultants',\n",
       " 'Shadow Placements',\n",
       " '2Coms',\n",
       " 'Nibha Infotech Private Limited',\n",
       " 'BlackBuck',\n",
       " 'Creative Hands HR Consultancy']"
      ]
     },
     "execution_count": 98,
     "metadata": {},
     "output_type": "execute_result"
    }
   ],
   "source": [
    "for i in comp:\n",
    "    lmt=i.text\n",
    "    company_names33.append(lmt)\n",
    "company_names33[0:10]"
   ]
  },
  {
   "cell_type": "code",
   "execution_count": 99,
   "id": "f0b73a24",
   "metadata": {},
   "outputs": [
    {
     "data": {
      "text/plain": [
       "[<selenium.webdriver.remote.webelement.WebElement (session=\"4c2ecefdf14ecf774960958ac0d3aedb\", element=\"6e1b6ea3-d39f-4785-8ac7-d7548e3cdbf9\")>,\n",
       " <selenium.webdriver.remote.webelement.WebElement (session=\"4c2ecefdf14ecf774960958ac0d3aedb\", element=\"527c34a5-3174-4638-a6ab-caf8b4196cbd\")>,\n",
       " <selenium.webdriver.remote.webelement.WebElement (session=\"4c2ecefdf14ecf774960958ac0d3aedb\", element=\"da6598fc-5331-4bd0-8a51-40592875c517\")>,\n",
       " <selenium.webdriver.remote.webelement.WebElement (session=\"4c2ecefdf14ecf774960958ac0d3aedb\", element=\"8c5335d9-ffc4-4193-b4cc-c5e6655b6738\")>,\n",
       " <selenium.webdriver.remote.webelement.WebElement (session=\"4c2ecefdf14ecf774960958ac0d3aedb\", element=\"741bf07a-041c-49c5-9f38-d8d529b1066b\")>,\n",
       " <selenium.webdriver.remote.webelement.WebElement (session=\"4c2ecefdf14ecf774960958ac0d3aedb\", element=\"383cd933-bc34-46d5-b77f-beb191077061\")>,\n",
       " <selenium.webdriver.remote.webelement.WebElement (session=\"4c2ecefdf14ecf774960958ac0d3aedb\", element=\"067a073e-c89a-4a7a-93cd-045ab00b1e70\")>,\n",
       " <selenium.webdriver.remote.webelement.WebElement (session=\"4c2ecefdf14ecf774960958ac0d3aedb\", element=\"c28c6679-9856-470b-bf39-5ded6d0392d7\")>,\n",
       " <selenium.webdriver.remote.webelement.WebElement (session=\"4c2ecefdf14ecf774960958ac0d3aedb\", element=\"0d668519-b85f-42a6-9eca-d8443d81dfc0\")>,\n",
       " <selenium.webdriver.remote.webelement.WebElement (session=\"4c2ecefdf14ecf774960958ac0d3aedb\", element=\"931a63a7-e2ee-4ad1-8a37-664204097616\")>]"
      ]
     },
     "execution_count": 99,
     "metadata": {},
     "output_type": "execute_result"
    }
   ],
   "source": [
    "exp=driver33.find_elements_by_xpath(\"//span[@class='ellipsis fleft fs12 lh16 ']\")\n",
    "exp[0:10]"
   ]
  },
  {
   "cell_type": "code",
   "execution_count": 100,
   "id": "5897e655",
   "metadata": {},
   "outputs": [
    {
     "data": {
      "text/plain": [
       "['3-6 Yrs',\n",
       " 'Not disclosed',\n",
       " 'Noida, Bangalore/Bengaluru',\n",
       " '1-2 Yrs',\n",
       " '4,00,000 - 6,00,000 PA.',\n",
       " 'Noida',\n",
       " '1-5 Yrs',\n",
       " 'Not disclosed',\n",
       " 'Gurgaon/Gurugram',\n",
       " '2-5 Yrs']"
      ]
     },
     "execution_count": 100,
     "metadata": {},
     "output_type": "execute_result"
    }
   ],
   "source": [
    "for i in exp:\n",
    "    experiences=i.text\n",
    "    experience_list33.append(experiences)\n",
    "experience_list33[0:10]"
   ]
  },
  {
   "cell_type": "code",
   "execution_count": 101,
   "id": "7dfb38a9",
   "metadata": {},
   "outputs": [
    {
     "data": {
      "text/plain": [
       "[<selenium.webdriver.remote.webelement.WebElement (session=\"4c2ecefdf14ecf774960958ac0d3aedb\", element=\"3d20f40c-5a6a-468a-a420-40313d0dd6bc\")>,\n",
       " <selenium.webdriver.remote.webelement.WebElement (session=\"4c2ecefdf14ecf774960958ac0d3aedb\", element=\"a3fb43b4-eea9-49c5-8479-87df9528eec9\")>,\n",
       " <selenium.webdriver.remote.webelement.WebElement (session=\"4c2ecefdf14ecf774960958ac0d3aedb\", element=\"bb0b8322-3fdd-49a1-bf16-3044d227e8b7\")>,\n",
       " <selenium.webdriver.remote.webelement.WebElement (session=\"4c2ecefdf14ecf774960958ac0d3aedb\", element=\"6f09ddd3-d4b8-42a5-9784-af896e0df840\")>,\n",
       " <selenium.webdriver.remote.webelement.WebElement (session=\"4c2ecefdf14ecf774960958ac0d3aedb\", element=\"d01ab5d6-7f22-4acc-b674-2d32cc6abd27\")>,\n",
       " <selenium.webdriver.remote.webelement.WebElement (session=\"4c2ecefdf14ecf774960958ac0d3aedb\", element=\"b2ad773e-97f3-46ab-8b71-2fef1b80e1c1\")>,\n",
       " <selenium.webdriver.remote.webelement.WebElement (session=\"4c2ecefdf14ecf774960958ac0d3aedb\", element=\"dca31f8e-37db-4179-acfa-39da08cf8e6e\")>,\n",
       " <selenium.webdriver.remote.webelement.WebElement (session=\"4c2ecefdf14ecf774960958ac0d3aedb\", element=\"a7c3fcb6-82ea-4465-bca1-b336fc574201\")>,\n",
       " <selenium.webdriver.remote.webelement.WebElement (session=\"4c2ecefdf14ecf774960958ac0d3aedb\", element=\"a695a49d-ac8b-456f-ad1b-2155689a4f54\")>,\n",
       " <selenium.webdriver.remote.webelement.WebElement (session=\"4c2ecefdf14ecf774960958ac0d3aedb\", element=\"01cbf949-8045-429f-b7ea-324d369dbb68\")>,\n",
       " <selenium.webdriver.remote.webelement.WebElement (session=\"4c2ecefdf14ecf774960958ac0d3aedb\", element=\"707c0172-4700-4c20-8442-07d7d0245fe8\")>,\n",
       " <selenium.webdriver.remote.webelement.WebElement (session=\"4c2ecefdf14ecf774960958ac0d3aedb\", element=\"a40ffea8-a0d4-4033-99e0-e04e69a64a96\")>,\n",
       " <selenium.webdriver.remote.webelement.WebElement (session=\"4c2ecefdf14ecf774960958ac0d3aedb\", element=\"1e1f4a67-556f-42e2-8a7a-28e4f266e0ab\")>,\n",
       " <selenium.webdriver.remote.webelement.WebElement (session=\"4c2ecefdf14ecf774960958ac0d3aedb\", element=\"5afbd8a6-ad1e-42bd-8916-684194774bb1\")>,\n",
       " <selenium.webdriver.remote.webelement.WebElement (session=\"4c2ecefdf14ecf774960958ac0d3aedb\", element=\"33e4b7b1-70fb-4b7c-9ea7-7efba606c43e\")>,\n",
       " <selenium.webdriver.remote.webelement.WebElement (session=\"4c2ecefdf14ecf774960958ac0d3aedb\", element=\"7261f9d0-c4e1-486e-a77e-ed1571a002de\")>,\n",
       " <selenium.webdriver.remote.webelement.WebElement (session=\"4c2ecefdf14ecf774960958ac0d3aedb\", element=\"d0e3cad1-5e91-4652-925d-19c1730db132\")>,\n",
       " <selenium.webdriver.remote.webelement.WebElement (session=\"4c2ecefdf14ecf774960958ac0d3aedb\", element=\"097d580e-ffd0-41a1-8e06-fe33330c37a5\")>,\n",
       " <selenium.webdriver.remote.webelement.WebElement (session=\"4c2ecefdf14ecf774960958ac0d3aedb\", element=\"57309a8e-56bf-4269-a301-aa3983ec511a\")>,\n",
       " <selenium.webdriver.remote.webelement.WebElement (session=\"4c2ecefdf14ecf774960958ac0d3aedb\", element=\"28ceff8d-4a44-4bf0-b063-077625468000\")>]"
      ]
     },
     "execution_count": 101,
     "metadata": {},
     "output_type": "execute_result"
    }
   ],
   "source": [
    "loc33=driver33.find_elements_by_xpath(\"//li[@class='fleft grey-text br2 placeHolderLi location']\")\n",
    "loc33"
   ]
  },
  {
   "cell_type": "code",
   "execution_count": 103,
   "id": "fa08363b",
   "metadata": {},
   "outputs": [
    {
     "data": {
      "text/plain": [
       "['Noida, Bangalore/Bengaluru',\n",
       " 'Noida',\n",
       " 'Gurgaon/Gurugram',\n",
       " 'Gurgaon/Gurugram',\n",
       " 'Gurgaon/Gurugram, Bangalore/Bengaluru',\n",
       " 'Noida, Gurgaon/Gurugram, Delhi / NCR',\n",
       " 'New Delhi, Delhi',\n",
       " 'Gurgaon/Gurugram',\n",
       " 'Gurgaon, Bengaluru',\n",
       " 'Hyderabad/Secunderabad, Pune, Chennai, Delhi / NCR, Vadodara, Mumbai (All Areas)']"
      ]
     },
     "execution_count": 103,
     "metadata": {},
     "output_type": "execute_result"
    }
   ],
   "source": [
    "for i in loc33:\n",
    "    locationss=i.text\n",
    "    locations_list33.append(i.text)\n",
    "locations_list33[0:10]"
   ]
  },
  {
   "cell_type": "markdown",
   "id": "376201bf",
   "metadata": {},
   "source": [
    "6--->"
   ]
  },
  {
   "cell_type": "code",
   "execution_count": 2,
   "id": "b7f3e65a",
   "metadata": {},
   "outputs": [],
   "source": [
    "driver6=webdriver.Chrome(r\"C:\\Users\\91907\\chromedriver.exe\")"
   ]
  },
  {
   "cell_type": "code",
   "execution_count": 3,
   "id": "744cc570",
   "metadata": {},
   "outputs": [],
   "source": [
    "driver6=webdriver.Chrome(\"chromedriver.exe\")\n",
    "time.sleep(2)"
   ]
  },
  {
   "cell_type": "code",
   "execution_count": 4,
   "id": "c6276858",
   "metadata": {},
   "outputs": [],
   "source": [
    "driver6.get('https://www.flipkart.com/')"
   ]
  },
  {
   "cell_type": "code",
   "execution_count": 6,
   "id": "4f3f438d",
   "metadata": {},
   "outputs": [],
   "source": [
    "search_field_desingnation6=driver6.find_element_by_class_name(\"_3704LK\")#job search bar\n",
    "search_field_desingnation6.send_keys(\"sneakers\")"
   ]
  },
  {
   "cell_type": "code",
   "execution_count": 8,
   "id": "6b5801cb",
   "metadata": {},
   "outputs": [],
   "source": [
    "search_button6=driver6.find_element_by_xpath(\"/html/body/div[1]/div/div[1]/div[1]/div[2]/div[2]/form/div/button\")\n",
    "search_button6.click()"
   ]
  },
  {
   "cell_type": "code",
   "execution_count": 9,
   "id": "6813da09",
   "metadata": {},
   "outputs": [],
   "source": [
    "sneakres_name=[]\n",
    "description=[]\n",
    "sneakers_price=[]"
   ]
  },
  {
   "cell_type": "code",
   "execution_count": 10,
   "id": "b19cb31d",
   "metadata": {},
   "outputs": [
    {
     "data": {
      "text/plain": [
       "[<selenium.webdriver.remote.webelement.WebElement (session=\"17571462a1eb93d5fd44c5ac8616b89b\", element=\"9808eb27-a67c-476b-b117-519bcde7d2af\")>,\n",
       " <selenium.webdriver.remote.webelement.WebElement (session=\"17571462a1eb93d5fd44c5ac8616b89b\", element=\"c997a5b8-1f88-4ab3-9c01-58ec7143cbee\")>,\n",
       " <selenium.webdriver.remote.webelement.WebElement (session=\"17571462a1eb93d5fd44c5ac8616b89b\", element=\"f5a44960-bcfa-415e-be18-8c5d92b4726e\")>,\n",
       " <selenium.webdriver.remote.webelement.WebElement (session=\"17571462a1eb93d5fd44c5ac8616b89b\", element=\"908db0c4-1a9f-42c7-a44f-a74311b9c067\")>,\n",
       " <selenium.webdriver.remote.webelement.WebElement (session=\"17571462a1eb93d5fd44c5ac8616b89b\", element=\"674b1a26-9162-4a80-93e6-f77201e581eb\")>,\n",
       " <selenium.webdriver.remote.webelement.WebElement (session=\"17571462a1eb93d5fd44c5ac8616b89b\", element=\"50f2538a-b1ab-43d4-ab4b-e02749b13979\")>,\n",
       " <selenium.webdriver.remote.webelement.WebElement (session=\"17571462a1eb93d5fd44c5ac8616b89b\", element=\"02106512-ca3b-4e96-9164-4d160f95f68a\")>,\n",
       " <selenium.webdriver.remote.webelement.WebElement (session=\"17571462a1eb93d5fd44c5ac8616b89b\", element=\"adcc257c-319a-4883-b325-7b150ae386cd\")>,\n",
       " <selenium.webdriver.remote.webelement.WebElement (session=\"17571462a1eb93d5fd44c5ac8616b89b\", element=\"0b8ecaa6-b74c-4f63-9267-d617b292d648\")>,\n",
       " <selenium.webdriver.remote.webelement.WebElement (session=\"17571462a1eb93d5fd44c5ac8616b89b\", element=\"dbdeb858-36c4-412b-ab21-90d7f3e52c16\")>,\n",
       " <selenium.webdriver.remote.webelement.WebElement (session=\"17571462a1eb93d5fd44c5ac8616b89b\", element=\"3d01ce61-5e75-4ddf-88b1-5bdf571ac123\")>,\n",
       " <selenium.webdriver.remote.webelement.WebElement (session=\"17571462a1eb93d5fd44c5ac8616b89b\", element=\"b5e5e7d2-0ad1-46de-aedc-bc62c19e1651\")>,\n",
       " <selenium.webdriver.remote.webelement.WebElement (session=\"17571462a1eb93d5fd44c5ac8616b89b\", element=\"b21a5033-d5ea-4b7d-83b4-8017acc1e649\")>,\n",
       " <selenium.webdriver.remote.webelement.WebElement (session=\"17571462a1eb93d5fd44c5ac8616b89b\", element=\"35ba2f48-5000-4d41-ad2c-f66d5f853e05\")>,\n",
       " <selenium.webdriver.remote.webelement.WebElement (session=\"17571462a1eb93d5fd44c5ac8616b89b\", element=\"f116824c-279e-4a49-a4de-9f7d52b6a1f3\")>,\n",
       " <selenium.webdriver.remote.webelement.WebElement (session=\"17571462a1eb93d5fd44c5ac8616b89b\", element=\"0a211e82-e342-4b57-8c50-4968fce05e16\")>,\n",
       " <selenium.webdriver.remote.webelement.WebElement (session=\"17571462a1eb93d5fd44c5ac8616b89b\", element=\"78df4109-3e0e-44bd-a6b3-2de2beb7192f\")>,\n",
       " <selenium.webdriver.remote.webelement.WebElement (session=\"17571462a1eb93d5fd44c5ac8616b89b\", element=\"4c27c49b-3bf3-4204-88ef-178163dc6b24\")>,\n",
       " <selenium.webdriver.remote.webelement.WebElement (session=\"17571462a1eb93d5fd44c5ac8616b89b\", element=\"99a39ce8-c723-4c1e-9f38-9695d4c2c043\")>,\n",
       " <selenium.webdriver.remote.webelement.WebElement (session=\"17571462a1eb93d5fd44c5ac8616b89b\", element=\"27ca1705-79ba-4256-9e88-64f94ae0d369\")>,\n",
       " <selenium.webdriver.remote.webelement.WebElement (session=\"17571462a1eb93d5fd44c5ac8616b89b\", element=\"c64717d4-0039-462b-8110-d2767017c914\")>,\n",
       " <selenium.webdriver.remote.webelement.WebElement (session=\"17571462a1eb93d5fd44c5ac8616b89b\", element=\"e4c078e6-ad5c-4fd6-90eb-8ee879e4711c\")>,\n",
       " <selenium.webdriver.remote.webelement.WebElement (session=\"17571462a1eb93d5fd44c5ac8616b89b\", element=\"bd3827c8-beb6-44e6-8421-1d71cd02578c\")>,\n",
       " <selenium.webdriver.remote.webelement.WebElement (session=\"17571462a1eb93d5fd44c5ac8616b89b\", element=\"bc59255f-446e-4d09-af99-6768008725ac\")>,\n",
       " <selenium.webdriver.remote.webelement.WebElement (session=\"17571462a1eb93d5fd44c5ac8616b89b\", element=\"a2a62935-0dae-43b2-a48f-4db9882384c6\")>,\n",
       " <selenium.webdriver.remote.webelement.WebElement (session=\"17571462a1eb93d5fd44c5ac8616b89b\", element=\"e5d5cf45-0d93-433d-afea-a397891ea656\")>,\n",
       " <selenium.webdriver.remote.webelement.WebElement (session=\"17571462a1eb93d5fd44c5ac8616b89b\", element=\"8dd20c87-c669-4a5c-9887-479923fced56\")>,\n",
       " <selenium.webdriver.remote.webelement.WebElement (session=\"17571462a1eb93d5fd44c5ac8616b89b\", element=\"7f6d7b5a-7fbc-4df8-99f0-195213e1d6a7\")>,\n",
       " <selenium.webdriver.remote.webelement.WebElement (session=\"17571462a1eb93d5fd44c5ac8616b89b\", element=\"761c6fc5-fd09-49be-9c8a-e69c74d22827\")>,\n",
       " <selenium.webdriver.remote.webelement.WebElement (session=\"17571462a1eb93d5fd44c5ac8616b89b\", element=\"18f3cafa-68af-4b84-89e6-4f12cb555b0d\")>,\n",
       " <selenium.webdriver.remote.webelement.WebElement (session=\"17571462a1eb93d5fd44c5ac8616b89b\", element=\"2e063784-db31-4fa3-bba3-289f5bf512db\")>,\n",
       " <selenium.webdriver.remote.webelement.WebElement (session=\"17571462a1eb93d5fd44c5ac8616b89b\", element=\"4264e671-586d-4f74-8bdf-8630ab71e121\")>,\n",
       " <selenium.webdriver.remote.webelement.WebElement (session=\"17571462a1eb93d5fd44c5ac8616b89b\", element=\"2b9cd8ba-1bb4-4d8f-8c5b-18e517e40737\")>,\n",
       " <selenium.webdriver.remote.webelement.WebElement (session=\"17571462a1eb93d5fd44c5ac8616b89b\", element=\"24591e45-9f8e-4d5f-be8c-8af9ab64f8b7\")>,\n",
       " <selenium.webdriver.remote.webelement.WebElement (session=\"17571462a1eb93d5fd44c5ac8616b89b\", element=\"e872251b-8682-4a24-8472-e12e6193b756\")>,\n",
       " <selenium.webdriver.remote.webelement.WebElement (session=\"17571462a1eb93d5fd44c5ac8616b89b\", element=\"83ef6ca6-b6b6-43a7-bd10-8e80c5f1cd9a\")>,\n",
       " <selenium.webdriver.remote.webelement.WebElement (session=\"17571462a1eb93d5fd44c5ac8616b89b\", element=\"e8a464b6-afe7-4b75-aefc-e7b3f880e2cc\")>,\n",
       " <selenium.webdriver.remote.webelement.WebElement (session=\"17571462a1eb93d5fd44c5ac8616b89b\", element=\"b44f0972-c77e-46ff-bfd8-6b57fe8597e9\")>,\n",
       " <selenium.webdriver.remote.webelement.WebElement (session=\"17571462a1eb93d5fd44c5ac8616b89b\", element=\"033c41f7-7603-478a-93b1-2ad499b5fd5a\")>,\n",
       " <selenium.webdriver.remote.webelement.WebElement (session=\"17571462a1eb93d5fd44c5ac8616b89b\", element=\"5061d220-69f8-4ed8-89b1-921c318c6241\")>]"
      ]
     },
     "execution_count": 10,
     "metadata": {},
     "output_type": "execute_result"
    }
   ],
   "source": [
    "sneakers_tags=driver6.find_elements_by_xpath(\"//div[@class='_2WkVRV']\")\n",
    "sneakers_tags[0:100]"
   ]
  },
  {
   "cell_type": "code",
   "execution_count": 12,
   "id": "d513e5a2",
   "metadata": {},
   "outputs": [
    {
     "data": {
      "text/plain": [
       "['aadi',\n",
       " 'Layasa',\n",
       " 'URBANBOX',\n",
       " 'BRUTON',\n",
       " 'corsac',\n",
       " 'BIRDE',\n",
       " 'Labbin',\n",
       " 'RapidBox',\n",
       " 'KWIK FIT',\n",
       " 'World Wear Footwear',\n",
       " 'World Wear Footwear',\n",
       " 'RapidBox',\n",
       " 'World Wear Footwear',\n",
       " 'Kraasa',\n",
       " 'BRUTON',\n",
       " 'HRX by Hrithik Roshan',\n",
       " 'aadi',\n",
       " 'Layasa',\n",
       " 'ASTEROID',\n",
       " 'RapidBox',\n",
       " 'ONECENTRE',\n",
       " 'Kraasa',\n",
       " 'ASTEROID',\n",
       " 'ADIDAS',\n",
       " 'BRUTON',\n",
       " 'SCATCHITE',\n",
       " 'corsac',\n",
       " 'HRX by Hrithik Roshan',\n",
       " 'CLYMB',\n",
       " 'World Wear Footwear',\n",
       " 'Chevit',\n",
       " 'ANTA',\n",
       " 'Robbie jones',\n",
       " 'BRUTON',\n",
       " 'Numenzo',\n",
       " 'Kzaara',\n",
       " 'Chevit',\n",
       " 'luxury fashion',\n",
       " 'Hida',\n",
       " 'Deals4you']"
      ]
     },
     "execution_count": 12,
     "metadata": {},
     "output_type": "execute_result"
    }
   ],
   "source": [
    "for i in sneakers_tags:\n",
    "    sneakers=i.text\n",
    "    sneakres_name.append(sneakers)\n",
    "sneakres_name[0:100]"
   ]
  },
  {
   "cell_type": "code",
   "execution_count": 13,
   "id": "196540c0",
   "metadata": {},
   "outputs": [
    {
     "data": {
      "text/plain": [
       "[<selenium.webdriver.remote.webelement.WebElement (session=\"17571462a1eb93d5fd44c5ac8616b89b\", element=\"2a4c57ea-f0c4-40fc-ad03-1e5a31152a93\")>,\n",
       " <selenium.webdriver.remote.webelement.WebElement (session=\"17571462a1eb93d5fd44c5ac8616b89b\", element=\"9ff88010-2c23-42a8-b0ec-910cf5eb71af\")>,\n",
       " <selenium.webdriver.remote.webelement.WebElement (session=\"17571462a1eb93d5fd44c5ac8616b89b\", element=\"1064685b-fcda-435a-8fa7-3dc0a65be27f\")>,\n",
       " <selenium.webdriver.remote.webelement.WebElement (session=\"17571462a1eb93d5fd44c5ac8616b89b\", element=\"e436446b-8d81-4380-ad87-f998eb309781\")>,\n",
       " <selenium.webdriver.remote.webelement.WebElement (session=\"17571462a1eb93d5fd44c5ac8616b89b\", element=\"324328a1-ccd8-4e25-9750-c9b6f051e882\")>,\n",
       " <selenium.webdriver.remote.webelement.WebElement (session=\"17571462a1eb93d5fd44c5ac8616b89b\", element=\"a78bd3d0-4dfe-4848-8699-f6bfddf2c144\")>,\n",
       " <selenium.webdriver.remote.webelement.WebElement (session=\"17571462a1eb93d5fd44c5ac8616b89b\", element=\"5da9dd67-855d-4896-8e9d-593cb7eed566\")>,\n",
       " <selenium.webdriver.remote.webelement.WebElement (session=\"17571462a1eb93d5fd44c5ac8616b89b\", element=\"579ad5d9-0cc7-4211-8407-04c062b210ad\")>,\n",
       " <selenium.webdriver.remote.webelement.WebElement (session=\"17571462a1eb93d5fd44c5ac8616b89b\", element=\"ed75c1de-da72-4aa0-867b-8ec6d845e951\")>,\n",
       " <selenium.webdriver.remote.webelement.WebElement (session=\"17571462a1eb93d5fd44c5ac8616b89b\", element=\"4556222b-4938-45f6-bd6c-5c841834c864\")>,\n",
       " <selenium.webdriver.remote.webelement.WebElement (session=\"17571462a1eb93d5fd44c5ac8616b89b\", element=\"6c27622b-22df-4dc4-9b7f-9ecd2aad8a6f\")>,\n",
       " <selenium.webdriver.remote.webelement.WebElement (session=\"17571462a1eb93d5fd44c5ac8616b89b\", element=\"725b5f44-a110-446e-aede-6c09d40e6649\")>,\n",
       " <selenium.webdriver.remote.webelement.WebElement (session=\"17571462a1eb93d5fd44c5ac8616b89b\", element=\"52c7fbff-1477-4f57-9525-63c6b6d515ab\")>,\n",
       " <selenium.webdriver.remote.webelement.WebElement (session=\"17571462a1eb93d5fd44c5ac8616b89b\", element=\"0c510032-6de4-4413-b42f-c912a0adb487\")>,\n",
       " <selenium.webdriver.remote.webelement.WebElement (session=\"17571462a1eb93d5fd44c5ac8616b89b\", element=\"3f2be60f-5681-4879-b7c0-e19c923a9521\")>,\n",
       " <selenium.webdriver.remote.webelement.WebElement (session=\"17571462a1eb93d5fd44c5ac8616b89b\", element=\"97b1f4e0-604a-4e4d-87a7-bf66a19c8d83\")>,\n",
       " <selenium.webdriver.remote.webelement.WebElement (session=\"17571462a1eb93d5fd44c5ac8616b89b\", element=\"89b6fe3f-7093-4d93-a917-5505ab53f322\")>,\n",
       " <selenium.webdriver.remote.webelement.WebElement (session=\"17571462a1eb93d5fd44c5ac8616b89b\", element=\"c1e51033-fc96-4db9-9ad9-551e83affdd5\")>,\n",
       " <selenium.webdriver.remote.webelement.WebElement (session=\"17571462a1eb93d5fd44c5ac8616b89b\", element=\"b6ff0d73-90cb-49d3-8bfe-ee780cfad68e\")>,\n",
       " <selenium.webdriver.remote.webelement.WebElement (session=\"17571462a1eb93d5fd44c5ac8616b89b\", element=\"2ae8cbcf-3be2-4d53-8f19-5411de68ccc9\")>,\n",
       " <selenium.webdriver.remote.webelement.WebElement (session=\"17571462a1eb93d5fd44c5ac8616b89b\", element=\"944ce31e-c331-435f-876c-c22bb5cc915f\")>,\n",
       " <selenium.webdriver.remote.webelement.WebElement (session=\"17571462a1eb93d5fd44c5ac8616b89b\", element=\"46309378-2df6-490b-81b2-ff32dc7bfdf3\")>,\n",
       " <selenium.webdriver.remote.webelement.WebElement (session=\"17571462a1eb93d5fd44c5ac8616b89b\", element=\"ef8bd38c-630d-46b9-9460-818365375ea0\")>,\n",
       " <selenium.webdriver.remote.webelement.WebElement (session=\"17571462a1eb93d5fd44c5ac8616b89b\", element=\"8aced6bf-d45d-45ce-b9f2-2433247f194d\")>,\n",
       " <selenium.webdriver.remote.webelement.WebElement (session=\"17571462a1eb93d5fd44c5ac8616b89b\", element=\"c7c51a3e-3f0f-4332-8d41-70a44864efbe\")>,\n",
       " <selenium.webdriver.remote.webelement.WebElement (session=\"17571462a1eb93d5fd44c5ac8616b89b\", element=\"3c8bed8e-e153-4e91-b8f1-32f567a67ea7\")>,\n",
       " <selenium.webdriver.remote.webelement.WebElement (session=\"17571462a1eb93d5fd44c5ac8616b89b\", element=\"1023223f-6d23-410d-acee-86b43913bb35\")>,\n",
       " <selenium.webdriver.remote.webelement.WebElement (session=\"17571462a1eb93d5fd44c5ac8616b89b\", element=\"dddccd41-bde8-4237-9a4b-3c9f47f334a4\")>,\n",
       " <selenium.webdriver.remote.webelement.WebElement (session=\"17571462a1eb93d5fd44c5ac8616b89b\", element=\"a0c62c2d-e3bd-4a25-a9e0-d0375eb145d2\")>,\n",
       " <selenium.webdriver.remote.webelement.WebElement (session=\"17571462a1eb93d5fd44c5ac8616b89b\", element=\"fbda6842-886f-458e-a010-78d729436884\")>,\n",
       " <selenium.webdriver.remote.webelement.WebElement (session=\"17571462a1eb93d5fd44c5ac8616b89b\", element=\"f349455d-7829-40b2-b18a-7590dc02f82b\")>,\n",
       " <selenium.webdriver.remote.webelement.WebElement (session=\"17571462a1eb93d5fd44c5ac8616b89b\", element=\"354dfe1e-ca5c-44ca-bc41-a00a60c89190\")>,\n",
       " <selenium.webdriver.remote.webelement.WebElement (session=\"17571462a1eb93d5fd44c5ac8616b89b\", element=\"532891da-d0e4-41aa-8c84-90797ed437e9\")>]"
      ]
     },
     "execution_count": 13,
     "metadata": {},
     "output_type": "execute_result"
    }
   ],
   "source": [
    "sneakers_descriptions=driver6.find_elements_by_xpath(\"//a[@class='IRpwTa']\")\n",
    "sneakers_descriptions[0:100]"
   ]
  },
  {
   "cell_type": "code",
   "execution_count": 15,
   "id": "5abf9ab5",
   "metadata": {},
   "outputs": [
    {
     "data": {
      "text/plain": [
       "['Sneakers For Men',\n",
       " 'Sneakers For Men',\n",
       " 'Modern Trendy Sneakers Shoes Sneakers For Men',\n",
       " 'STYLISH MENS BLACK AND WHITE SNEAKER Sneakers For Men',\n",
       " 'Stylish Comfortable Lightweight, Breathable Walking Sho...',\n",
       " 'Sneakers For Men',\n",
       " 'Kwik FIT casual sneaker shoes and partywear shoes Casua...',\n",
       " 'Men 5014 Latest Collection Stylish Casual Sports Loafer...',\n",
       " '5011-Latest Collection Stylish & Trendy Casual Sneakers...',\n",
       " '5013-Latest Collection Stylish & Trendy of casuals Snea...',\n",
       " 'Shark-41 Sneakers For Men',\n",
       " 'Sneaker Sneakers For Men',\n",
       " 'Sneakers For Men',\n",
       " 'Sneakers For Men',\n",
       " 'Sneakers For Men',\n",
       " 'Original Luxury Branded Black Fancy Casual Walking Part...',\n",
       " 'STR2 Sneakers For Men',\n",
       " 'Series 7 Sneakers For Men',\n",
       " \"Original Luxury Branded Fashionable Men's Casual Walkin...\",\n",
       " 'Easy Vulc 2.0 Sneakers For Men',\n",
       " 'Lattest Sneakers Shoe Sneakers For Men',\n",
       " 'Sneakers Sneakers For Men',\n",
       " 'STYLISH MENS BLACK TRENDY SNEAKER FOR MENS Sneakers For...',\n",
       " 'Sneakers For Men',\n",
       " 'Latest Collection-1227 Stylish Casual Sports Sneakers F...',\n",
       " 'Anta Blade Sneakers For Men',\n",
       " 'Sneakers For Men',\n",
       " 'Lightweight Pack Of 1 Trendy Sneakers Sneakers For Men',\n",
       " '411 Casual Sneakers For Men',\n",
       " 'Sneakers For Men',\n",
       " 'Perfect Combo Pack of 02 Pairs Casual Sneakers Outdoor ...',\n",
       " 'Fashionable sneaker shoes Sneakers For Men',\n",
       " 'Sneakers For Men',\n",
       " 'Sneakers For Men',\n",
       " 'Sneakers For Men',\n",
       " 'Modern Trendy Sneakers Shoes Sneakers For Men',\n",
       " 'STYLISH MENS BLACK AND WHITE SNEAKER Sneakers For Men',\n",
       " 'Stylish Comfortable Lightweight, Breathable Walking Sho...',\n",
       " 'Sneakers For Men',\n",
       " 'Kwik FIT casual sneaker shoes and partywear shoes Casua...',\n",
       " 'Men 5014 Latest Collection Stylish Casual Sports Loafer...',\n",
       " '5011-Latest Collection Stylish & Trendy Casual Sneakers...',\n",
       " '5013-Latest Collection Stylish & Trendy of casuals Snea...',\n",
       " 'Shark-41 Sneakers For Men',\n",
       " 'Sneaker Sneakers For Men',\n",
       " 'Sneakers For Men',\n",
       " 'Sneakers For Men',\n",
       " 'Sneakers For Men',\n",
       " 'Original Luxury Branded Black Fancy Casual Walking Part...',\n",
       " 'STR2 Sneakers For Men',\n",
       " 'Series 7 Sneakers For Men',\n",
       " \"Original Luxury Branded Fashionable Men's Casual Walkin...\",\n",
       " 'Easy Vulc 2.0 Sneakers For Men',\n",
       " 'Lattest Sneakers Shoe Sneakers For Men',\n",
       " 'Sneakers Sneakers For Men',\n",
       " 'STYLISH MENS BLACK TRENDY SNEAKER FOR MENS Sneakers For...',\n",
       " 'Sneakers For Men',\n",
       " 'Latest Collection-1227 Stylish Casual Sports Sneakers F...',\n",
       " 'Anta Blade Sneakers For Men',\n",
       " 'Sneakers For Men',\n",
       " 'Lightweight Pack Of 1 Trendy Sneakers Sneakers For Men',\n",
       " '411 Casual Sneakers For Men',\n",
       " 'Sneakers For Men',\n",
       " 'Perfect Combo Pack of 02 Pairs Casual Sneakers Outdoor ...',\n",
       " 'Fashionable sneaker shoes Sneakers For Men',\n",
       " 'Sneakers For Men']"
      ]
     },
     "execution_count": 15,
     "metadata": {},
     "output_type": "execute_result"
    }
   ],
   "source": [
    "for i in sneakers_descriptions:\n",
    "    c=i.text\n",
    "    description.append(c)\n",
    "description[0:100]"
   ]
  },
  {
   "cell_type": "code",
   "execution_count": 16,
   "id": "f0818f50",
   "metadata": {},
   "outputs": [
    {
     "data": {
      "text/plain": [
       "[<selenium.webdriver.remote.webelement.WebElement (session=\"17571462a1eb93d5fd44c5ac8616b89b\", element=\"52504954-e9c0-44d3-8595-9b1d1e029250\")>,\n",
       " <selenium.webdriver.remote.webelement.WebElement (session=\"17571462a1eb93d5fd44c5ac8616b89b\", element=\"f23ac41f-2ad9-420c-86f5-dd18a419a15a\")>,\n",
       " <selenium.webdriver.remote.webelement.WebElement (session=\"17571462a1eb93d5fd44c5ac8616b89b\", element=\"b816023d-e398-486d-bb98-4d3f9c87ccb8\")>,\n",
       " <selenium.webdriver.remote.webelement.WebElement (session=\"17571462a1eb93d5fd44c5ac8616b89b\", element=\"4a736a22-ed6b-4b06-b202-b866f036af65\")>,\n",
       " <selenium.webdriver.remote.webelement.WebElement (session=\"17571462a1eb93d5fd44c5ac8616b89b\", element=\"d0a69724-dd7e-42be-97d7-c44c6947f2aa\")>,\n",
       " <selenium.webdriver.remote.webelement.WebElement (session=\"17571462a1eb93d5fd44c5ac8616b89b\", element=\"5f7a63ca-079d-4385-8194-81e62d946666\")>,\n",
       " <selenium.webdriver.remote.webelement.WebElement (session=\"17571462a1eb93d5fd44c5ac8616b89b\", element=\"77d2cd23-e638-471c-9628-afb8f8dffa4e\")>,\n",
       " <selenium.webdriver.remote.webelement.WebElement (session=\"17571462a1eb93d5fd44c5ac8616b89b\", element=\"e044d9c8-4461-4b75-997f-64a5590a11e8\")>,\n",
       " <selenium.webdriver.remote.webelement.WebElement (session=\"17571462a1eb93d5fd44c5ac8616b89b\", element=\"e867872b-f8ad-4a6e-bab0-4ea688959140\")>,\n",
       " <selenium.webdriver.remote.webelement.WebElement (session=\"17571462a1eb93d5fd44c5ac8616b89b\", element=\"44c50103-6e63-4752-b780-62e1c68f1e51\")>,\n",
       " <selenium.webdriver.remote.webelement.WebElement (session=\"17571462a1eb93d5fd44c5ac8616b89b\", element=\"5c48e7a7-9008-41d0-9e6d-23d399f66838\")>,\n",
       " <selenium.webdriver.remote.webelement.WebElement (session=\"17571462a1eb93d5fd44c5ac8616b89b\", element=\"9e597f64-98ac-468c-b2ba-9f03ad518f57\")>,\n",
       " <selenium.webdriver.remote.webelement.WebElement (session=\"17571462a1eb93d5fd44c5ac8616b89b\", element=\"d66a3ca0-a790-4495-8bfd-54ededaeb7eb\")>,\n",
       " <selenium.webdriver.remote.webelement.WebElement (session=\"17571462a1eb93d5fd44c5ac8616b89b\", element=\"d469a4de-4d5d-4c98-a17c-4895cf046942\")>,\n",
       " <selenium.webdriver.remote.webelement.WebElement (session=\"17571462a1eb93d5fd44c5ac8616b89b\", element=\"2f7e846b-2d8f-4e95-927b-5aba30f55577\")>,\n",
       " <selenium.webdriver.remote.webelement.WebElement (session=\"17571462a1eb93d5fd44c5ac8616b89b\", element=\"33feab41-1054-4d5b-8ce7-6fa5f91ce925\")>,\n",
       " <selenium.webdriver.remote.webelement.WebElement (session=\"17571462a1eb93d5fd44c5ac8616b89b\", element=\"f5795922-f493-422e-b7dd-9e4e7c80c3f4\")>,\n",
       " <selenium.webdriver.remote.webelement.WebElement (session=\"17571462a1eb93d5fd44c5ac8616b89b\", element=\"1ae73e83-9300-4cbe-9faa-1f6fc0267955\")>,\n",
       " <selenium.webdriver.remote.webelement.WebElement (session=\"17571462a1eb93d5fd44c5ac8616b89b\", element=\"c47f5f21-2843-4751-985f-68647fdee1ab\")>,\n",
       " <selenium.webdriver.remote.webelement.WebElement (session=\"17571462a1eb93d5fd44c5ac8616b89b\", element=\"6410d380-1332-4dd7-8177-84fdb0eb4f14\")>,\n",
       " <selenium.webdriver.remote.webelement.WebElement (session=\"17571462a1eb93d5fd44c5ac8616b89b\", element=\"d32f26a1-917f-4f33-927b-7c1863179bde\")>,\n",
       " <selenium.webdriver.remote.webelement.WebElement (session=\"17571462a1eb93d5fd44c5ac8616b89b\", element=\"cb4a80f7-281f-4af8-9f8b-062789f51619\")>,\n",
       " <selenium.webdriver.remote.webelement.WebElement (session=\"17571462a1eb93d5fd44c5ac8616b89b\", element=\"39358710-909a-4684-8184-9469d5c12e59\")>,\n",
       " <selenium.webdriver.remote.webelement.WebElement (session=\"17571462a1eb93d5fd44c5ac8616b89b\", element=\"faa37b4b-bd48-4775-9393-3523598d637f\")>,\n",
       " <selenium.webdriver.remote.webelement.WebElement (session=\"17571462a1eb93d5fd44c5ac8616b89b\", element=\"2c8d5bf0-fea1-4ee0-923e-1f9bab89bc84\")>,\n",
       " <selenium.webdriver.remote.webelement.WebElement (session=\"17571462a1eb93d5fd44c5ac8616b89b\", element=\"7a44a490-ce17-4c98-a07b-50ae8274996e\")>,\n",
       " <selenium.webdriver.remote.webelement.WebElement (session=\"17571462a1eb93d5fd44c5ac8616b89b\", element=\"6d95d101-fae4-4718-ae96-1a11979a2d42\")>,\n",
       " <selenium.webdriver.remote.webelement.WebElement (session=\"17571462a1eb93d5fd44c5ac8616b89b\", element=\"89db2ce7-feaa-4546-9418-ffe6183e6d3d\")>,\n",
       " <selenium.webdriver.remote.webelement.WebElement (session=\"17571462a1eb93d5fd44c5ac8616b89b\", element=\"1755d612-d613-4466-bdfd-d418e5ca44c1\")>,\n",
       " <selenium.webdriver.remote.webelement.WebElement (session=\"17571462a1eb93d5fd44c5ac8616b89b\", element=\"4a994661-c990-474a-975b-29db895edf0a\")>,\n",
       " <selenium.webdriver.remote.webelement.WebElement (session=\"17571462a1eb93d5fd44c5ac8616b89b\", element=\"bd95a314-7f18-4fa0-8d85-33508717ad8d\")>,\n",
       " <selenium.webdriver.remote.webelement.WebElement (session=\"17571462a1eb93d5fd44c5ac8616b89b\", element=\"1dd8b46b-a067-4ca1-b947-5b0f4123f3dd\")>,\n",
       " <selenium.webdriver.remote.webelement.WebElement (session=\"17571462a1eb93d5fd44c5ac8616b89b\", element=\"aa772290-c919-411c-b010-0df8ca547c44\")>,\n",
       " <selenium.webdriver.remote.webelement.WebElement (session=\"17571462a1eb93d5fd44c5ac8616b89b\", element=\"9a1fcbc5-c6c5-41de-a87a-954a19492b3d\")>,\n",
       " <selenium.webdriver.remote.webelement.WebElement (session=\"17571462a1eb93d5fd44c5ac8616b89b\", element=\"d3eed9be-28ce-4957-8171-71f82b0e3db9\")>,\n",
       " <selenium.webdriver.remote.webelement.WebElement (session=\"17571462a1eb93d5fd44c5ac8616b89b\", element=\"0c57dd1f-ed12-424a-bd71-3fd2850f1dd5\")>,\n",
       " <selenium.webdriver.remote.webelement.WebElement (session=\"17571462a1eb93d5fd44c5ac8616b89b\", element=\"b2c9eac7-0906-4e02-9400-780651ce26f4\")>,\n",
       " <selenium.webdriver.remote.webelement.WebElement (session=\"17571462a1eb93d5fd44c5ac8616b89b\", element=\"87f062fd-3e15-4962-ab16-2c75d6d637d9\")>,\n",
       " <selenium.webdriver.remote.webelement.WebElement (session=\"17571462a1eb93d5fd44c5ac8616b89b\", element=\"e597e774-6ec0-4b29-b85c-4e9f3c360f0e\")>,\n",
       " <selenium.webdriver.remote.webelement.WebElement (session=\"17571462a1eb93d5fd44c5ac8616b89b\", element=\"f31e695d-dfb4-4756-9c83-7abb8a3be708\")>]"
      ]
     },
     "execution_count": 16,
     "metadata": {},
     "output_type": "execute_result"
    }
   ],
   "source": [
    "sneakers_p=driver6.find_elements_by_xpath(\"//div[@class='_30jeq3']\")\n",
    "sneakers_p[0:100]"
   ]
  },
  {
   "cell_type": "code",
   "execution_count": 17,
   "id": "f5441140",
   "metadata": {},
   "outputs": [
    {
     "data": {
      "text/plain": [
       "['₹322',\n",
       " '₹499',\n",
       " '₹198',\n",
       " '₹295',\n",
       " '₹499',\n",
       " '₹351',\n",
       " '₹469',\n",
       " '₹720',\n",
       " '₹397',\n",
       " '₹249',\n",
       " '₹249',\n",
       " '₹660',\n",
       " '₹249',\n",
       " '₹490',\n",
       " '₹299',\n",
       " '₹2,599',\n",
       " '₹347',\n",
       " '₹499',\n",
       " '₹499',\n",
       " '₹680',\n",
       " '₹300',\n",
       " '₹483',\n",
       " '₹499',\n",
       " '₹1,450',\n",
       " '₹299',\n",
       " '₹449',\n",
       " '₹529',\n",
       " '₹1,799',\n",
       " '₹649',\n",
       " '₹249',\n",
       " '₹269',\n",
       " '₹1,369',\n",
       " '₹499',\n",
       " '₹198',\n",
       " '₹499',\n",
       " '₹299',\n",
       " '₹615',\n",
       " '₹499',\n",
       " '₹649',\n",
       " '₹404']"
      ]
     },
     "execution_count": 17,
     "metadata": {},
     "output_type": "execute_result"
    }
   ],
   "source": [
    "for i in sneakers_p:\n",
    "    p=i.text\n",
    "    sneakers_price.append(p)\n",
    "sneakers_price[0:100]"
   ]
  },
  {
   "cell_type": "markdown",
   "id": "3f8f5a43",
   "metadata": {},
   "source": [
    "9---->"
   ]
  },
  {
   "cell_type": "code",
   "execution_count": 6,
   "id": "a83fa703",
   "metadata": {},
   "outputs": [],
   "source": [
    "driver99=webdriver.Chrome(r\"C:\\Users\\91907\\chromedriver.exe\")"
   ]
  },
  {
   "cell_type": "code",
   "execution_count": 7,
   "id": "73209f02",
   "metadata": {},
   "outputs": [],
   "source": [
    "driver99=webdriver.Chrome(\"chromedriver.exe\")\n",
    "time.sleep(2)"
   ]
  },
  {
   "cell_type": "code",
   "execution_count": 9,
   "id": "39f27347",
   "metadata": {},
   "outputs": [],
   "source": [
    "driver99.get(\"https://www.ambitionbox.com/\")"
   ]
  },
  {
   "cell_type": "code",
   "execution_count": 10,
   "id": "000e332a",
   "metadata": {},
   "outputs": [],
   "source": [
    "search_field_desingnation99=driver99.find_element_by_xpath(\"//input[@class='input tt-input'] \")\n",
    "search_field_desingnation99.send_keys(\"Data scientist\")"
   ]
  },
  {
   "cell_type": "code",
   "execution_count": 11,
   "id": "a222ac02",
   "metadata": {},
   "outputs": [],
   "source": [
    "search_button99=driver99.find_element_by_xpath(\"/html/body/div/div/div/div[2]/div[1]/div[1]/div/div/div/button/span\")\n",
    "search_button99.click()"
   ]
  },
  {
   "cell_type": "code",
   "execution_count": 14,
   "id": "40d10104",
   "metadata": {},
   "outputs": [
    {
     "ename": "ElementNotInteractableException",
     "evalue": "Message: element not interactable\n  (Session info: chrome=101.0.4951.64)\nStacktrace:\nBacktrace:\n\tOrdinal0 [0x007DB8F3+2406643]\n\tOrdinal0 [0x0076AF31+1945393]\n\tOrdinal0 [0x0065C610+837136]\n\tOrdinal0 [0x006849C3+1001923]\n\tOrdinal0 [0x006840A5+999589]\n\tOrdinal0 [0x006A427C+1131132]\n\tOrdinal0 [0x0067FA64+981604]\n\tOrdinal0 [0x006A4494+1131668]\n\tOrdinal0 [0x006B4682+1197698]\n\tOrdinal0 [0x006A4096+1130646]\n\tOrdinal0 [0x0067E636+976438]\n\tOrdinal0 [0x0067F546+980294]\n\tGetHandleVerifier [0x00A49612+2498066]\n\tGetHandleVerifier [0x00A3C920+2445600]\n\tGetHandleVerifier [0x00874F2A+579370]\n\tGetHandleVerifier [0x00873D36+574774]\n\tOrdinal0 [0x00771C0B+1973259]\n\tOrdinal0 [0x00776688+1992328]\n\tOrdinal0 [0x00776775+1992565]\n\tOrdinal0 [0x0077F8D1+2029777]\n\tBaseThreadInitThunk [0x768B6739+25]\n\tRtlGetFullPathName_UEx [0x77338FEF+1215]\n\tRtlGetFullPathName_UEx [0x77338FBD+1165]\n",
     "output_type": "error",
     "traceback": [
      "\u001b[1;31m---------------------------------------------------------------------------\u001b[0m",
      "\u001b[1;31mElementNotInteractableException\u001b[0m           Traceback (most recent call last)",
      "\u001b[1;32m~\\AppData\\Local\\Temp/ipykernel_15396/3131343161.py\u001b[0m in \u001b[0;36m<module>\u001b[1;34m\u001b[0m\n\u001b[0;32m      1\u001b[0m \u001b[0msearch_field_location99\u001b[0m\u001b[1;33m=\u001b[0m\u001b[0mdriver99\u001b[0m\u001b[1;33m.\u001b[0m\u001b[0mfind_element_by_xpath\u001b[0m\u001b[1;33m(\u001b[0m\u001b[1;34m\"/html/body/div/div/div/div[2]/div[1]/div[2]/div[1]/div/div/div/div[2]/div[1]/i\"\u001b[0m\u001b[1;33m)\u001b[0m\u001b[1;31m#job loc search bar\u001b[0m\u001b[1;33m\u001b[0m\u001b[1;33m\u001b[0m\u001b[0m\n\u001b[1;32m----> 2\u001b[1;33m \u001b[0msearch_field_location99\u001b[0m\u001b[1;33m.\u001b[0m\u001b[0msend_keys\u001b[0m\u001b[1;33m(\u001b[0m\u001b[1;34m\"Noida\"\u001b[0m\u001b[1;33m)\u001b[0m\u001b[1;33m\u001b[0m\u001b[1;33m\u001b[0m\u001b[0m\n\u001b[0m",
      "\u001b[1;32m~\\anaconda3\\lib\\site-packages\\selenium\\webdriver\\remote\\webelement.py\u001b[0m in \u001b[0;36msend_keys\u001b[1;34m(self, *value)\u001b[0m\n\u001b[0;32m    538\u001b[0m                 \u001b[0mvalue\u001b[0m \u001b[1;33m=\u001b[0m \u001b[1;34m'\\n'\u001b[0m\u001b[1;33m.\u001b[0m\u001b[0mjoin\u001b[0m\u001b[1;33m(\u001b[0m\u001b[0mremote_files\u001b[0m\u001b[1;33m)\u001b[0m\u001b[1;33m\u001b[0m\u001b[1;33m\u001b[0m\u001b[0m\n\u001b[0;32m    539\u001b[0m \u001b[1;33m\u001b[0m\u001b[0m\n\u001b[1;32m--> 540\u001b[1;33m         self._execute(Command.SEND_KEYS_TO_ELEMENT,\n\u001b[0m\u001b[0;32m    541\u001b[0m                       {'text': \"\".join(keys_to_typing(value)),\n\u001b[0;32m    542\u001b[0m                        'value': keys_to_typing(value)})\n",
      "\u001b[1;32m~\\anaconda3\\lib\\site-packages\\selenium\\webdriver\\remote\\webelement.py\u001b[0m in \u001b[0;36m_execute\u001b[1;34m(self, command, params)\u001b[0m\n\u001b[0;32m    708\u001b[0m             \u001b[0mparams\u001b[0m \u001b[1;33m=\u001b[0m \u001b[1;33m{\u001b[0m\u001b[1;33m}\u001b[0m\u001b[1;33m\u001b[0m\u001b[1;33m\u001b[0m\u001b[0m\n\u001b[0;32m    709\u001b[0m         \u001b[0mparams\u001b[0m\u001b[1;33m[\u001b[0m\u001b[1;34m'id'\u001b[0m\u001b[1;33m]\u001b[0m \u001b[1;33m=\u001b[0m \u001b[0mself\u001b[0m\u001b[1;33m.\u001b[0m\u001b[0m_id\u001b[0m\u001b[1;33m\u001b[0m\u001b[1;33m\u001b[0m\u001b[0m\n\u001b[1;32m--> 710\u001b[1;33m         \u001b[1;32mreturn\u001b[0m \u001b[0mself\u001b[0m\u001b[1;33m.\u001b[0m\u001b[0m_parent\u001b[0m\u001b[1;33m.\u001b[0m\u001b[0mexecute\u001b[0m\u001b[1;33m(\u001b[0m\u001b[0mcommand\u001b[0m\u001b[1;33m,\u001b[0m \u001b[0mparams\u001b[0m\u001b[1;33m)\u001b[0m\u001b[1;33m\u001b[0m\u001b[1;33m\u001b[0m\u001b[0m\n\u001b[0m\u001b[0;32m    711\u001b[0m \u001b[1;33m\u001b[0m\u001b[0m\n\u001b[0;32m    712\u001b[0m     \u001b[1;32mdef\u001b[0m \u001b[0mfind_element\u001b[0m\u001b[1;33m(\u001b[0m\u001b[0mself\u001b[0m\u001b[1;33m,\u001b[0m \u001b[0mby\u001b[0m\u001b[1;33m=\u001b[0m\u001b[0mBy\u001b[0m\u001b[1;33m.\u001b[0m\u001b[0mID\u001b[0m\u001b[1;33m,\u001b[0m \u001b[0mvalue\u001b[0m\u001b[1;33m=\u001b[0m\u001b[1;32mNone\u001b[0m\u001b[1;33m)\u001b[0m\u001b[1;33m:\u001b[0m\u001b[1;33m\u001b[0m\u001b[1;33m\u001b[0m\u001b[0m\n",
      "\u001b[1;32m~\\anaconda3\\lib\\site-packages\\selenium\\webdriver\\remote\\webdriver.py\u001b[0m in \u001b[0;36mexecute\u001b[1;34m(self, driver_command, params)\u001b[0m\n\u001b[0;32m    423\u001b[0m         \u001b[0mresponse\u001b[0m \u001b[1;33m=\u001b[0m \u001b[0mself\u001b[0m\u001b[1;33m.\u001b[0m\u001b[0mcommand_executor\u001b[0m\u001b[1;33m.\u001b[0m\u001b[0mexecute\u001b[0m\u001b[1;33m(\u001b[0m\u001b[0mdriver_command\u001b[0m\u001b[1;33m,\u001b[0m \u001b[0mparams\u001b[0m\u001b[1;33m)\u001b[0m\u001b[1;33m\u001b[0m\u001b[1;33m\u001b[0m\u001b[0m\n\u001b[0;32m    424\u001b[0m         \u001b[1;32mif\u001b[0m \u001b[0mresponse\u001b[0m\u001b[1;33m:\u001b[0m\u001b[1;33m\u001b[0m\u001b[1;33m\u001b[0m\u001b[0m\n\u001b[1;32m--> 425\u001b[1;33m             \u001b[0mself\u001b[0m\u001b[1;33m.\u001b[0m\u001b[0merror_handler\u001b[0m\u001b[1;33m.\u001b[0m\u001b[0mcheck_response\u001b[0m\u001b[1;33m(\u001b[0m\u001b[0mresponse\u001b[0m\u001b[1;33m)\u001b[0m\u001b[1;33m\u001b[0m\u001b[1;33m\u001b[0m\u001b[0m\n\u001b[0m\u001b[0;32m    426\u001b[0m             response['value'] = self._unwrap_value(\n\u001b[0;32m    427\u001b[0m                 response.get('value', None))\n",
      "\u001b[1;32m~\\anaconda3\\lib\\site-packages\\selenium\\webdriver\\remote\\errorhandler.py\u001b[0m in \u001b[0;36mcheck_response\u001b[1;34m(self, response)\u001b[0m\n\u001b[0;32m    245\u001b[0m                 \u001b[0malert_text\u001b[0m \u001b[1;33m=\u001b[0m \u001b[0mvalue\u001b[0m\u001b[1;33m[\u001b[0m\u001b[1;34m'alert'\u001b[0m\u001b[1;33m]\u001b[0m\u001b[1;33m.\u001b[0m\u001b[0mget\u001b[0m\u001b[1;33m(\u001b[0m\u001b[1;34m'text'\u001b[0m\u001b[1;33m)\u001b[0m\u001b[1;33m\u001b[0m\u001b[1;33m\u001b[0m\u001b[0m\n\u001b[0;32m    246\u001b[0m             \u001b[1;32mraise\u001b[0m \u001b[0mexception_class\u001b[0m\u001b[1;33m(\u001b[0m\u001b[0mmessage\u001b[0m\u001b[1;33m,\u001b[0m \u001b[0mscreen\u001b[0m\u001b[1;33m,\u001b[0m \u001b[0mstacktrace\u001b[0m\u001b[1;33m,\u001b[0m \u001b[0malert_text\u001b[0m\u001b[1;33m)\u001b[0m  \u001b[1;31m# type: ignore[call-arg]  # mypy is not smart enough here\u001b[0m\u001b[1;33m\u001b[0m\u001b[1;33m\u001b[0m\u001b[0m\n\u001b[1;32m--> 247\u001b[1;33m         \u001b[1;32mraise\u001b[0m \u001b[0mexception_class\u001b[0m\u001b[1;33m(\u001b[0m\u001b[0mmessage\u001b[0m\u001b[1;33m,\u001b[0m \u001b[0mscreen\u001b[0m\u001b[1;33m,\u001b[0m \u001b[0mstacktrace\u001b[0m\u001b[1;33m)\u001b[0m\u001b[1;33m\u001b[0m\u001b[1;33m\u001b[0m\u001b[0m\n\u001b[0m\u001b[0;32m    248\u001b[0m \u001b[1;33m\u001b[0m\u001b[0m\n\u001b[0;32m    249\u001b[0m     \u001b[1;32mdef\u001b[0m \u001b[0m_value_or_default\u001b[0m\u001b[1;33m(\u001b[0m\u001b[0mself\u001b[0m\u001b[1;33m,\u001b[0m \u001b[0mobj\u001b[0m\u001b[1;33m:\u001b[0m \u001b[0mMapping\u001b[0m\u001b[1;33m[\u001b[0m\u001b[0m_KT\u001b[0m\u001b[1;33m,\u001b[0m \u001b[0m_VT\u001b[0m\u001b[1;33m]\u001b[0m\u001b[1;33m,\u001b[0m \u001b[0mkey\u001b[0m\u001b[1;33m:\u001b[0m \u001b[0m_KT\u001b[0m\u001b[1;33m,\u001b[0m \u001b[0mdefault\u001b[0m\u001b[1;33m:\u001b[0m \u001b[0m_VT\u001b[0m\u001b[1;33m)\u001b[0m \u001b[1;33m->\u001b[0m \u001b[0m_VT\u001b[0m\u001b[1;33m:\u001b[0m\u001b[1;33m\u001b[0m\u001b[1;33m\u001b[0m\u001b[0m\n",
      "\u001b[1;31mElementNotInteractableException\u001b[0m: Message: element not interactable\n  (Session info: chrome=101.0.4951.64)\nStacktrace:\nBacktrace:\n\tOrdinal0 [0x007DB8F3+2406643]\n\tOrdinal0 [0x0076AF31+1945393]\n\tOrdinal0 [0x0065C610+837136]\n\tOrdinal0 [0x006849C3+1001923]\n\tOrdinal0 [0x006840A5+999589]\n\tOrdinal0 [0x006A427C+1131132]\n\tOrdinal0 [0x0067FA64+981604]\n\tOrdinal0 [0x006A4494+1131668]\n\tOrdinal0 [0x006B4682+1197698]\n\tOrdinal0 [0x006A4096+1130646]\n\tOrdinal0 [0x0067E636+976438]\n\tOrdinal0 [0x0067F546+980294]\n\tGetHandleVerifier [0x00A49612+2498066]\n\tGetHandleVerifier [0x00A3C920+2445600]\n\tGetHandleVerifier [0x00874F2A+579370]\n\tGetHandleVerifier [0x00873D36+574774]\n\tOrdinal0 [0x00771C0B+1973259]\n\tOrdinal0 [0x00776688+1992328]\n\tOrdinal0 [0x00776775+1992565]\n\tOrdinal0 [0x0077F8D1+2029777]\n\tBaseThreadInitThunk [0x768B6739+25]\n\tRtlGetFullPathName_UEx [0x77338FEF+1215]\n\tRtlGetFullPathName_UEx [0x77338FBD+1165]\n"
     ]
    }
   ],
   "source": [
    "search_field_location99=driver99.find_element_by_xpath(\"/html/body/div/div/div/div[2]/div[1]/div[2]/div[1]/div/div/div/div[2]/div[1]/i\")#job loc search bar\n",
    "search_field_location99.send_keys(\"Noida\")"
   ]
  },
  {
   "cell_type": "code",
   "execution_count": 18,
   "id": "7f525b81",
   "metadata": {},
   "outputs": [],
   "source": [
    "job_titles99=[]"
   ]
  },
  {
   "cell_type": "code",
   "execution_count": 16,
   "id": "9529f429",
   "metadata": {},
   "outputs": [
    {
     "data": {
      "text/plain": [
       "[<selenium.webdriver.remote.webelement.WebElement (session=\"423180e2400317b2ca9fbbf95967b980\", element=\"de76e3bd-9166-4c26-b48a-0cc5178ac7a6\")>,\n",
       " <selenium.webdriver.remote.webelement.WebElement (session=\"423180e2400317b2ca9fbbf95967b980\", element=\"e421ab5b-d2e2-4c7f-be59-b956fad4e6f1\")>,\n",
       " <selenium.webdriver.remote.webelement.WebElement (session=\"423180e2400317b2ca9fbbf95967b980\", element=\"d299cbe9-851e-4dab-811e-af8e6946ea21\")>,\n",
       " <selenium.webdriver.remote.webelement.WebElement (session=\"423180e2400317b2ca9fbbf95967b980\", element=\"27848a41-0c5d-4eac-b569-a19023e3ddb0\")>,\n",
       " <selenium.webdriver.remote.webelement.WebElement (session=\"423180e2400317b2ca9fbbf95967b980\", element=\"3056b3e1-795f-414e-a991-43a7eec3abe9\")>,\n",
       " <selenium.webdriver.remote.webelement.WebElement (session=\"423180e2400317b2ca9fbbf95967b980\", element=\"43e900b9-1272-4e52-8a9e-41256f147ca2\")>,\n",
       " <selenium.webdriver.remote.webelement.WebElement (session=\"423180e2400317b2ca9fbbf95967b980\", element=\"b555ce9e-cf15-4636-b965-8d83e557eb01\")>,\n",
       " <selenium.webdriver.remote.webelement.WebElement (session=\"423180e2400317b2ca9fbbf95967b980\", element=\"7ddd30b3-25ac-41b9-9cbf-b2bfa10d7494\")>,\n",
       " <selenium.webdriver.remote.webelement.WebElement (session=\"423180e2400317b2ca9fbbf95967b980\", element=\"ff1a9f08-7fe2-4e5e-92fa-76f1eefb458b\")>,\n",
       " <selenium.webdriver.remote.webelement.WebElement (session=\"423180e2400317b2ca9fbbf95967b980\", element=\"f88ad1ef-c4a0-4aa9-834b-5237e4aa4c7f\")>]"
      ]
     },
     "execution_count": 16,
     "metadata": {},
     "output_type": "execute_result"
    }
   ],
   "source": [
    "titles_tags99=driver99.find_elements_by_xpath(\"//a[@class='title noclick']\")\n",
    "titles_tags99[0:10]"
   ]
  },
  {
   "cell_type": "code",
   "execution_count": 19,
   "id": "3c4f6df7",
   "metadata": {},
   "outputs": [
    {
     "data": {
      "text/plain": [
       "['Data Scientist',\n",
       " 'Data Scientist- AI/ML- R&D',\n",
       " 'Data Scientist',\n",
       " 'Oracle HCM BI Technical Lead/Manager (People Analytics)',\n",
       " 'Hiring For Data Scientist + Python/R+ Predictive Modeling',\n",
       " 'Data Scientist - Immediate Joiners',\n",
       " 'Data Scientist - Machine Learning (5-14 yrs)',\n",
       " 'Data Scientist',\n",
       " 'Data Scientist- Fresher Opening - Newgen Software Technologies',\n",
       " 'Senior Data Scientist']"
      ]
     },
     "execution_count": 19,
     "metadata": {},
     "output_type": "execute_result"
    }
   ],
   "source": [
    "for i in titles_tags99:\n",
    "    title99=i.text\n",
    "    job_titles99.append(title99)\n",
    "job_titles99[0:10]"
   ]
  },
  {
   "cell_type": "markdown",
   "id": "5021707b",
   "metadata": {},
   "source": [
    "10---->"
   ]
  },
  {
   "cell_type": "code",
   "execution_count": 16,
   "id": "51369798",
   "metadata": {},
   "outputs": [],
   "source": [
    "driver100=webdriver.Chrome(r\"C:\\Users\\91907\\chromedriver.exe\")"
   ]
  },
  {
   "cell_type": "code",
   "execution_count": 17,
   "id": "9ac045d0",
   "metadata": {},
   "outputs": [],
   "source": [
    "driver100=webdriver.Chrome(\"chromedriver.exe\")\n",
    "time.sleep(2)"
   ]
  },
  {
   "cell_type": "code",
   "execution_count": 18,
   "id": "8e7927f9",
   "metadata": {},
   "outputs": [],
   "source": [
    "driver100.get(\"https://www.ambitionbox.com/\")"
   ]
  },
  {
   "cell_type": "code",
   "execution_count": 20,
   "id": "b005635d",
   "metadata": {},
   "outputs": [],
   "source": [
    "search_field_desingnation100=driver100.find_element_by_xpath(\"//input[@class='input tt-input']\")\n",
    "search_field_desingnation100.send_keys(\"Data scientist\")"
   ]
  },
  {
   "cell_type": "code",
   "execution_count": 21,
   "id": "6b0e06ce",
   "metadata": {},
   "outputs": [],
   "source": [
    "search_button100=driver100.find_element_by_xpath(\"/html/body/div/div/div/div[2]/div[1]/div[1]/div/div/div/button/span\")\n",
    "search_button100.click()"
   ]
  },
  {
   "cell_type": "code",
   "execution_count": 22,
   "id": "268f2f3f",
   "metadata": {},
   "outputs": [],
   "source": [
    "job_titles100=[]"
   ]
  },
  {
   "cell_type": "code",
   "execution_count": 23,
   "id": "5632d59a",
   "metadata": {},
   "outputs": [
    {
     "data": {
      "text/plain": [
       "[<selenium.webdriver.remote.webelement.WebElement (session=\"30d7c21789249d3c37d53415f071bf8e\", element=\"6dc5a557-8392-4f6e-977b-689827fe1bb2\")>,\n",
       " <selenium.webdriver.remote.webelement.WebElement (session=\"30d7c21789249d3c37d53415f071bf8e\", element=\"9ff6893d-474e-44a7-bca8-c969e854742e\")>,\n",
       " <selenium.webdriver.remote.webelement.WebElement (session=\"30d7c21789249d3c37d53415f071bf8e\", element=\"18575641-4913-4ff4-9b97-06a48e11999a\")>,\n",
       " <selenium.webdriver.remote.webelement.WebElement (session=\"30d7c21789249d3c37d53415f071bf8e\", element=\"7265b68a-e657-451d-b66b-ae34ca9087b5\")>,\n",
       " <selenium.webdriver.remote.webelement.WebElement (session=\"30d7c21789249d3c37d53415f071bf8e\", element=\"6b9245b0-f616-4523-b6c1-61baa7fc74fe\")>,\n",
       " <selenium.webdriver.remote.webelement.WebElement (session=\"30d7c21789249d3c37d53415f071bf8e\", element=\"d505adef-317f-457a-8753-baeeff01f54d\")>,\n",
       " <selenium.webdriver.remote.webelement.WebElement (session=\"30d7c21789249d3c37d53415f071bf8e\", element=\"235470d3-0aa7-436e-ad77-34709428b944\")>,\n",
       " <selenium.webdriver.remote.webelement.WebElement (session=\"30d7c21789249d3c37d53415f071bf8e\", element=\"068d9bab-6824-4830-a993-c42f36ba1d79\")>,\n",
       " <selenium.webdriver.remote.webelement.WebElement (session=\"30d7c21789249d3c37d53415f071bf8e\", element=\"16afdc95-37fb-4d85-8895-25dcf6e985a3\")>,\n",
       " <selenium.webdriver.remote.webelement.WebElement (session=\"30d7c21789249d3c37d53415f071bf8e\", element=\"08d65bc7-d516-4bea-b9fa-2ef7ad8c2e16\")>]"
      ]
     },
     "execution_count": 23,
     "metadata": {},
     "output_type": "execute_result"
    }
   ],
   "source": [
    "titles_tags100=driver100.find_elements_by_xpath(\"//div[@class='name']\")\n",
    "titles_tags100[0:10]"
   ]
  },
  {
   "cell_type": "code",
   "execution_count": 24,
   "id": "e31d9090",
   "metadata": {},
   "outputs": [
    {
     "data": {
      "text/plain": [
       "['Google\\nbased on 21 salaries',\n",
       " 'Arista Networks\\nbased on 13 salaries',\n",
       " 'Microsoft Corporation\\nbased on 255 salaries',\n",
       " 'Goldman Sachs\\nbased on 17 salaries',\n",
       " 'Tekion\\nbased on 33 salaries',\n",
       " 'Amazon\\nbased on 108 salaries',\n",
       " 'Flipkart\\nbased on 62 salaries',\n",
       " 'PayPal\\nbased on 27 salaries',\n",
       " 'Servicenow Software Development India\\nbased on 54 salaries',\n",
       " 'Walmart\\nbased on 82 salaries']"
      ]
     },
     "execution_count": 24,
     "metadata": {},
     "output_type": "execute_result"
    }
   ],
   "source": [
    "for i in titles_tags100:\n",
    "    title100=i.text\n",
    "    job_titles100.append(title100)\n",
    "job_titles100[0:10]"
   ]
  },
  {
   "cell_type": "code",
   "execution_count": 26,
   "id": "96da0b01",
   "metadata": {},
   "outputs": [],
   "source": [
    "avg_salary100=[]"
   ]
  },
  {
   "cell_type": "code",
   "execution_count": 25,
   "id": "20e897a7",
   "metadata": {},
   "outputs": [
    {
     "data": {
      "text/plain": [
       "[<selenium.webdriver.remote.webelement.WebElement (session=\"30d7c21789249d3c37d53415f071bf8e\", element=\"0d0e8358-a0b2-40cc-9fb4-21e93366bd08\")>,\n",
       " <selenium.webdriver.remote.webelement.WebElement (session=\"30d7c21789249d3c37d53415f071bf8e\", element=\"759037e3-d71b-468f-b971-210d85aa6e3a\")>,\n",
       " <selenium.webdriver.remote.webelement.WebElement (session=\"30d7c21789249d3c37d53415f071bf8e\", element=\"b262880f-360a-4fd3-9b54-1c5017edbf1d\")>,\n",
       " <selenium.webdriver.remote.webelement.WebElement (session=\"30d7c21789249d3c37d53415f071bf8e\", element=\"7c9d2bcb-bca3-4c5c-9a8d-abf09ba85add\")>,\n",
       " <selenium.webdriver.remote.webelement.WebElement (session=\"30d7c21789249d3c37d53415f071bf8e\", element=\"58abba8d-131d-4045-a783-a9934fae2051\")>,\n",
       " <selenium.webdriver.remote.webelement.WebElement (session=\"30d7c21789249d3c37d53415f071bf8e\", element=\"374bccd5-f3ce-4368-a103-be0ae887d14d\")>,\n",
       " <selenium.webdriver.remote.webelement.WebElement (session=\"30d7c21789249d3c37d53415f071bf8e\", element=\"f8c81d5d-66a5-40ea-a165-3beee5744064\")>,\n",
       " <selenium.webdriver.remote.webelement.WebElement (session=\"30d7c21789249d3c37d53415f071bf8e\", element=\"f751d6b6-07b9-4f82-be73-af0cd388fd74\")>,\n",
       " <selenium.webdriver.remote.webelement.WebElement (session=\"30d7c21789249d3c37d53415f071bf8e\", element=\"65807eb8-7f54-456b-999e-c760891d07c3\")>,\n",
       " <selenium.webdriver.remote.webelement.WebElement (session=\"30d7c21789249d3c37d53415f071bf8e\", element=\"41488f5b-dfed-42f2-bbac-12f5f3d56293\")>]"
      ]
     },
     "execution_count": 25,
     "metadata": {},
     "output_type": "execute_result"
    }
   ],
   "source": [
    "Avarage_salary100=driver100.find_elements_by_xpath(\"//p[@class='averageCtc']\")\n",
    "Avarage_salary100[0:10]"
   ]
  },
  {
   "cell_type": "code",
   "execution_count": 27,
   "id": "66a976e0",
   "metadata": {},
   "outputs": [
    {
     "data": {
      "text/plain": [
       "['₹ 33.1L',\n",
       " '₹ 24.7L',\n",
       " '₹ 23.7L',\n",
       " '₹ 22.7L',\n",
       " '₹ 21.0L',\n",
       " '₹ 20.6L',\n",
       " '₹ 20.4L',\n",
       " '₹ 20.2L',\n",
       " '₹ 20.2L',\n",
       " '₹ 19.8L']"
      ]
     },
     "execution_count": 27,
     "metadata": {},
     "output_type": "execute_result"
    }
   ],
   "source": [
    "for i in Avarage_salary100:\n",
    "    title10=i.text\n",
    "    avg_salary100.append(title10)\n",
    "avg_salary100[0:10]"
   ]
  },
  {
   "cell_type": "code",
   "execution_count": 31,
   "id": "cd2864f2",
   "metadata": {},
   "outputs": [],
   "source": [
    "low_salary100=[]"
   ]
  },
  {
   "cell_type": "code",
   "execution_count": 32,
   "id": "f3cc0125",
   "metadata": {},
   "outputs": [
    {
     "data": {
      "text/plain": [
       "[<selenium.webdriver.remote.webelement.WebElement (session=\"30d7c21789249d3c37d53415f071bf8e\", element=\"bf6e22ec-dfdb-422c-b350-486499a9047d\")>,\n",
       " <selenium.webdriver.remote.webelement.WebElement (session=\"30d7c21789249d3c37d53415f071bf8e\", element=\"11b32b46-4ee0-46ed-bc13-b544c1d8b74c\")>,\n",
       " <selenium.webdriver.remote.webelement.WebElement (session=\"30d7c21789249d3c37d53415f071bf8e\", element=\"b80dc81f-b115-4c26-b6fa-06344c592349\")>,\n",
       " <selenium.webdriver.remote.webelement.WebElement (session=\"30d7c21789249d3c37d53415f071bf8e\", element=\"dbdcef9c-db93-46cf-a37d-3a24d7805e4e\")>,\n",
       " <selenium.webdriver.remote.webelement.WebElement (session=\"30d7c21789249d3c37d53415f071bf8e\", element=\"9724c145-dbd7-41cd-90b4-de7549c61f83\")>,\n",
       " <selenium.webdriver.remote.webelement.WebElement (session=\"30d7c21789249d3c37d53415f071bf8e\", element=\"73e193ed-4782-4c0f-b309-ce8f4bc6ff06\")>,\n",
       " <selenium.webdriver.remote.webelement.WebElement (session=\"30d7c21789249d3c37d53415f071bf8e\", element=\"748a1164-3f76-4681-a225-8bef4a7dbe37\")>,\n",
       " <selenium.webdriver.remote.webelement.WebElement (session=\"30d7c21789249d3c37d53415f071bf8e\", element=\"4729bef4-cbde-4384-b33b-0f376b3642d9\")>,\n",
       " <selenium.webdriver.remote.webelement.WebElement (session=\"30d7c21789249d3c37d53415f071bf8e\", element=\"0678cb86-abb0-41b4-8417-53088c78a9fa\")>,\n",
       " <selenium.webdriver.remote.webelement.WebElement (session=\"30d7c21789249d3c37d53415f071bf8e\", element=\"07df2d28-0366-4252-b582-b02fce9d5527\")>]"
      ]
     },
     "execution_count": 32,
     "metadata": {},
     "output_type": "execute_result"
    }
   ],
   "source": [
    "l_salary100=driver100.find_elements_by_xpath(\"//div[@class='value body-medium']\")\n",
    "l_salary100[0:10]"
   ]
  },
  {
   "cell_type": "code",
   "execution_count": 33,
   "id": "6e1d594c",
   "metadata": {},
   "outputs": [
    {
     "data": {
      "text/plain": [
       "['₹ 10.4L',\n",
       " '₹ 97.0L',\n",
       " '₹ 10.7L',\n",
       " '₹ 38.0L',\n",
       " '₹ 13.0L',\n",
       " '₹ 45.0L',\n",
       " '₹ 12.0L',\n",
       " '₹ 34.0L',\n",
       " '₹ 12.0L',\n",
       " '₹ 33.0L']"
      ]
     },
     "execution_count": 33,
     "metadata": {},
     "output_type": "execute_result"
    }
   ],
   "source": [
    "for i in l_salary100:\n",
    "    title103=i.text\n",
    "    low_salary100.append(title103)\n",
    "low_salary100[0:10]"
   ]
  },
  {
   "cell_type": "code",
   "execution_count": 34,
   "id": "a8f7e9e2",
   "metadata": {},
   "outputs": [],
   "source": [
    "high_salary100=[]"
   ]
  },
  {
   "cell_type": "code",
   "execution_count": 35,
   "id": "122407e2",
   "metadata": {},
   "outputs": [
    {
     "data": {
      "text/plain": [
       "[<selenium.webdriver.remote.webelement.WebElement (session=\"30d7c21789249d3c37d53415f071bf8e\", element=\"bf6e22ec-dfdb-422c-b350-486499a9047d\")>,\n",
       " <selenium.webdriver.remote.webelement.WebElement (session=\"30d7c21789249d3c37d53415f071bf8e\", element=\"11b32b46-4ee0-46ed-bc13-b544c1d8b74c\")>,\n",
       " <selenium.webdriver.remote.webelement.WebElement (session=\"30d7c21789249d3c37d53415f071bf8e\", element=\"b80dc81f-b115-4c26-b6fa-06344c592349\")>,\n",
       " <selenium.webdriver.remote.webelement.WebElement (session=\"30d7c21789249d3c37d53415f071bf8e\", element=\"dbdcef9c-db93-46cf-a37d-3a24d7805e4e\")>,\n",
       " <selenium.webdriver.remote.webelement.WebElement (session=\"30d7c21789249d3c37d53415f071bf8e\", element=\"9724c145-dbd7-41cd-90b4-de7549c61f83\")>,\n",
       " <selenium.webdriver.remote.webelement.WebElement (session=\"30d7c21789249d3c37d53415f071bf8e\", element=\"73e193ed-4782-4c0f-b309-ce8f4bc6ff06\")>,\n",
       " <selenium.webdriver.remote.webelement.WebElement (session=\"30d7c21789249d3c37d53415f071bf8e\", element=\"748a1164-3f76-4681-a225-8bef4a7dbe37\")>,\n",
       " <selenium.webdriver.remote.webelement.WebElement (session=\"30d7c21789249d3c37d53415f071bf8e\", element=\"4729bef4-cbde-4384-b33b-0f376b3642d9\")>,\n",
       " <selenium.webdriver.remote.webelement.WebElement (session=\"30d7c21789249d3c37d53415f071bf8e\", element=\"0678cb86-abb0-41b4-8417-53088c78a9fa\")>,\n",
       " <selenium.webdriver.remote.webelement.WebElement (session=\"30d7c21789249d3c37d53415f071bf8e\", element=\"07df2d28-0366-4252-b582-b02fce9d5527\")>]"
      ]
     },
     "execution_count": 35,
     "metadata": {},
     "output_type": "execute_result"
    }
   ],
   "source": [
    "H_salary100=driver100.find_elements_by_xpath(\"//div[@class='value body-medium']\")\n",
    "H_salary100[0:10]"
   ]
  },
  {
   "cell_type": "code",
   "execution_count": 36,
   "id": "05a65b3e",
   "metadata": {},
   "outputs": [
    {
     "data": {
      "text/plain": [
       "['₹ 10.4L',\n",
       " '₹ 97.0L',\n",
       " '₹ 10.7L',\n",
       " '₹ 38.0L',\n",
       " '₹ 13.0L',\n",
       " '₹ 45.0L',\n",
       " '₹ 12.0L',\n",
       " '₹ 34.0L',\n",
       " '₹ 12.0L',\n",
       " '₹ 33.0L']"
      ]
     },
     "execution_count": 36,
     "metadata": {},
     "output_type": "execute_result"
    }
   ],
   "source": [
    "for i in H_salary100:\n",
    "    title1034=i.text\n",
    "    high_salary100.append(title1034)\n",
    "high_salary100[0:10]"
   ]
  },
  {
   "cell_type": "code",
   "execution_count": 42,
   "id": "f532cbaa",
   "metadata": {},
   "outputs": [
    {
     "ename": "ValueError",
     "evalue": "Length of values (20) does not match length of index (10)",
     "output_type": "error",
     "traceback": [
      "\u001b[1;31m---------------------------------------------------------------------------\u001b[0m",
      "\u001b[1;31mValueError\u001b[0m                                Traceback (most recent call last)",
      "\u001b[1;32m~\\AppData\\Local\\Temp/ipykernel_15396/3410458245.py\u001b[0m in \u001b[0;36m<module>\u001b[1;34m\u001b[0m\n\u001b[0;32m      2\u001b[0m \u001b[0mjobs100\u001b[0m\u001b[1;33m[\u001b[0m\u001b[1;34m\"Company_name\"\u001b[0m\u001b[1;33m]\u001b[0m\u001b[1;33m=\u001b[0m\u001b[0mjob_titles100\u001b[0m\u001b[1;33m\u001b[0m\u001b[1;33m\u001b[0m\u001b[0m\n\u001b[0;32m      3\u001b[0m \u001b[0mjobs100\u001b[0m\u001b[1;33m[\u001b[0m\u001b[1;34m'Avarage_Salary'\u001b[0m\u001b[1;33m]\u001b[0m\u001b[1;33m=\u001b[0m\u001b[0mavg_salary100\u001b[0m\u001b[1;33m\u001b[0m\u001b[1;33m\u001b[0m\u001b[0m\n\u001b[1;32m----> 4\u001b[1;33m \u001b[0mjobs100\u001b[0m\u001b[1;33m[\u001b[0m\u001b[1;34m\"Lowest_salary\"\u001b[0m\u001b[1;33m]\u001b[0m\u001b[1;33m=\u001b[0m\u001b[0mlow_salary100\u001b[0m\u001b[1;33m\u001b[0m\u001b[1;33m\u001b[0m\u001b[0m\n\u001b[0m\u001b[0;32m      5\u001b[0m \u001b[0mjobs100\u001b[0m\u001b[1;33m[\u001b[0m\u001b[1;34m\"Highest_Salary\"\u001b[0m\u001b[1;33m]\u001b[0m\u001b[1;33m=\u001b[0m\u001b[0mHighest_Salary\u001b[0m\u001b[1;33m\u001b[0m\u001b[1;33m\u001b[0m\u001b[0m\n",
      "\u001b[1;32m~\\anaconda3\\lib\\site-packages\\pandas\\core\\frame.py\u001b[0m in \u001b[0;36m__setitem__\u001b[1;34m(self, key, value)\u001b[0m\n\u001b[0;32m   3610\u001b[0m         \u001b[1;32melse\u001b[0m\u001b[1;33m:\u001b[0m\u001b[1;33m\u001b[0m\u001b[1;33m\u001b[0m\u001b[0m\n\u001b[0;32m   3611\u001b[0m             \u001b[1;31m# set column\u001b[0m\u001b[1;33m\u001b[0m\u001b[1;33m\u001b[0m\u001b[0m\n\u001b[1;32m-> 3612\u001b[1;33m             \u001b[0mself\u001b[0m\u001b[1;33m.\u001b[0m\u001b[0m_set_item\u001b[0m\u001b[1;33m(\u001b[0m\u001b[0mkey\u001b[0m\u001b[1;33m,\u001b[0m \u001b[0mvalue\u001b[0m\u001b[1;33m)\u001b[0m\u001b[1;33m\u001b[0m\u001b[1;33m\u001b[0m\u001b[0m\n\u001b[0m\u001b[0;32m   3613\u001b[0m \u001b[1;33m\u001b[0m\u001b[0m\n\u001b[0;32m   3614\u001b[0m     \u001b[1;32mdef\u001b[0m \u001b[0m_setitem_slice\u001b[0m\u001b[1;33m(\u001b[0m\u001b[0mself\u001b[0m\u001b[1;33m,\u001b[0m \u001b[0mkey\u001b[0m\u001b[1;33m:\u001b[0m \u001b[0mslice\u001b[0m\u001b[1;33m,\u001b[0m \u001b[0mvalue\u001b[0m\u001b[1;33m)\u001b[0m\u001b[1;33m:\u001b[0m\u001b[1;33m\u001b[0m\u001b[1;33m\u001b[0m\u001b[0m\n",
      "\u001b[1;32m~\\anaconda3\\lib\\site-packages\\pandas\\core\\frame.py\u001b[0m in \u001b[0;36m_set_item\u001b[1;34m(self, key, value)\u001b[0m\n\u001b[0;32m   3782\u001b[0m         \u001b[0mensure\u001b[0m \u001b[0mhomogeneity\u001b[0m\u001b[1;33m.\u001b[0m\u001b[1;33m\u001b[0m\u001b[1;33m\u001b[0m\u001b[0m\n\u001b[0;32m   3783\u001b[0m         \"\"\"\n\u001b[1;32m-> 3784\u001b[1;33m         \u001b[0mvalue\u001b[0m \u001b[1;33m=\u001b[0m \u001b[0mself\u001b[0m\u001b[1;33m.\u001b[0m\u001b[0m_sanitize_column\u001b[0m\u001b[1;33m(\u001b[0m\u001b[0mvalue\u001b[0m\u001b[1;33m)\u001b[0m\u001b[1;33m\u001b[0m\u001b[1;33m\u001b[0m\u001b[0m\n\u001b[0m\u001b[0;32m   3785\u001b[0m \u001b[1;33m\u001b[0m\u001b[0m\n\u001b[0;32m   3786\u001b[0m         if (\n",
      "\u001b[1;32m~\\anaconda3\\lib\\site-packages\\pandas\\core\\frame.py\u001b[0m in \u001b[0;36m_sanitize_column\u001b[1;34m(self, value)\u001b[0m\n\u001b[0;32m   4507\u001b[0m \u001b[1;33m\u001b[0m\u001b[0m\n\u001b[0;32m   4508\u001b[0m         \u001b[1;32mif\u001b[0m \u001b[0mis_list_like\u001b[0m\u001b[1;33m(\u001b[0m\u001b[0mvalue\u001b[0m\u001b[1;33m)\u001b[0m\u001b[1;33m:\u001b[0m\u001b[1;33m\u001b[0m\u001b[1;33m\u001b[0m\u001b[0m\n\u001b[1;32m-> 4509\u001b[1;33m             \u001b[0mcom\u001b[0m\u001b[1;33m.\u001b[0m\u001b[0mrequire_length_match\u001b[0m\u001b[1;33m(\u001b[0m\u001b[0mvalue\u001b[0m\u001b[1;33m,\u001b[0m \u001b[0mself\u001b[0m\u001b[1;33m.\u001b[0m\u001b[0mindex\u001b[0m\u001b[1;33m)\u001b[0m\u001b[1;33m\u001b[0m\u001b[1;33m\u001b[0m\u001b[0m\n\u001b[0m\u001b[0;32m   4510\u001b[0m         \u001b[1;32mreturn\u001b[0m \u001b[0msanitize_array\u001b[0m\u001b[1;33m(\u001b[0m\u001b[0mvalue\u001b[0m\u001b[1;33m,\u001b[0m \u001b[0mself\u001b[0m\u001b[1;33m.\u001b[0m\u001b[0mindex\u001b[0m\u001b[1;33m,\u001b[0m \u001b[0mcopy\u001b[0m\u001b[1;33m=\u001b[0m\u001b[1;32mTrue\u001b[0m\u001b[1;33m,\u001b[0m \u001b[0mallow_2d\u001b[0m\u001b[1;33m=\u001b[0m\u001b[1;32mTrue\u001b[0m\u001b[1;33m)\u001b[0m\u001b[1;33m\u001b[0m\u001b[1;33m\u001b[0m\u001b[0m\n\u001b[0;32m   4511\u001b[0m \u001b[1;33m\u001b[0m\u001b[0m\n",
      "\u001b[1;32m~\\anaconda3\\lib\\site-packages\\pandas\\core\\common.py\u001b[0m in \u001b[0;36mrequire_length_match\u001b[1;34m(data, index)\u001b[0m\n\u001b[0;32m    529\u001b[0m     \"\"\"\n\u001b[0;32m    530\u001b[0m     \u001b[1;32mif\u001b[0m \u001b[0mlen\u001b[0m\u001b[1;33m(\u001b[0m\u001b[0mdata\u001b[0m\u001b[1;33m)\u001b[0m \u001b[1;33m!=\u001b[0m \u001b[0mlen\u001b[0m\u001b[1;33m(\u001b[0m\u001b[0mindex\u001b[0m\u001b[1;33m)\u001b[0m\u001b[1;33m:\u001b[0m\u001b[1;33m\u001b[0m\u001b[1;33m\u001b[0m\u001b[0m\n\u001b[1;32m--> 531\u001b[1;33m         raise ValueError(\n\u001b[0m\u001b[0;32m    532\u001b[0m             \u001b[1;34m\"Length of values \"\u001b[0m\u001b[1;33m\u001b[0m\u001b[1;33m\u001b[0m\u001b[0m\n\u001b[0;32m    533\u001b[0m             \u001b[1;34mf\"({len(data)}) \"\u001b[0m\u001b[1;33m\u001b[0m\u001b[1;33m\u001b[0m\u001b[0m\n",
      "\u001b[1;31mValueError\u001b[0m: Length of values (20) does not match length of index (10)"
     ]
    }
   ],
   "source": [
    "jobs100=pd.DataFrame({})\n",
    "jobs100[\"Company_name\"]=job_titles100\n",
    "jobs100['Avarage_Salary']=avg_salary100\n",
    "jobs100[\"Lowest_salary\"]=low_salary100\n",
    "jobs100[\"Highest_Salary\"]=Highest_Salary"
   ]
  },
  {
   "cell_type": "markdown",
   "id": "5c2835dd",
   "metadata": {},
   "source": [
    "3---->"
   ]
  },
  {
   "cell_type": "code",
   "execution_count": 43,
   "id": "f6a06568",
   "metadata": {},
   "outputs": [],
   "source": [
    "driver33=webdriver.Chrome(r\"C:\\Users\\91907\\chromedriver.exe\")"
   ]
  },
  {
   "cell_type": "code",
   "execution_count": 44,
   "id": "500d7934",
   "metadata": {},
   "outputs": [],
   "source": [
    "driver33=webdriver.Chrome(\"chromedriver.exe\")\n",
    "time.sleep(2)"
   ]
  },
  {
   "cell_type": "code",
   "execution_count": 45,
   "id": "f684c1c7",
   "metadata": {},
   "outputs": [],
   "source": [
    "driver33.get(\"https://www.naukri.com/\")"
   ]
  },
  {
   "cell_type": "code",
   "execution_count": 46,
   "id": "7c5d2af2",
   "metadata": {},
   "outputs": [],
   "source": [
    "search_field_desingnation33=driver33.find_element_by_class_name(\"suggestor-input\")#job search bar\n",
    "search_field_desingnation33.send_keys(\"Data scientist\")"
   ]
  },
  {
   "cell_type": "code",
   "execution_count": 47,
   "id": "b1c6f7ad",
   "metadata": {},
   "outputs": [],
   "source": [
    "search_field_location33=driver33.find_element_by_xpath(\"/html/body/div/div[2]/div[3]/div/div/div[3]/div/div/div/input\")#job search bar\n",
    "search_field_location33.send_keys(\"Delhi\")"
   ]
  },
  {
   "cell_type": "code",
   "execution_count": 48,
   "id": "868f68b5",
   "metadata": {},
   "outputs": [],
   "source": [
    "search_button=driver33.find_element_by_xpath(\"/html/body/div/div[2]/div[3]/div/div/div[6]\")\n",
    "search_button.click()"
   ]
  },
  {
   "cell_type": "code",
   "execution_count": 49,
   "id": "14cacd29",
   "metadata": {},
   "outputs": [],
   "source": [
    "job_titles33=[]\n",
    "company_names33=[]\n",
    "locations_list33=[]\n",
    "experience_list33=[]"
   ]
  },
  {
   "cell_type": "code",
   "execution_count": 50,
   "id": "7ba3d390",
   "metadata": {},
   "outputs": [
    {
     "data": {
      "text/plain": [
       "[<selenium.webdriver.remote.webelement.WebElement (session=\"552734523088b04c7083d4cede9d54b9\", element=\"bf633f7b-1eb3-4ab1-bac3-13d0dd6d24fd\")>,\n",
       " <selenium.webdriver.remote.webelement.WebElement (session=\"552734523088b04c7083d4cede9d54b9\", element=\"8f5627db-4360-41ec-a120-707f9e9ad9b0\")>,\n",
       " <selenium.webdriver.remote.webelement.WebElement (session=\"552734523088b04c7083d4cede9d54b9\", element=\"f4e5f08b-b9a5-4f2b-a751-7ee6777b6485\")>,\n",
       " <selenium.webdriver.remote.webelement.WebElement (session=\"552734523088b04c7083d4cede9d54b9\", element=\"a76f8771-bb07-489e-8ed6-94702bc652a1\")>,\n",
       " <selenium.webdriver.remote.webelement.WebElement (session=\"552734523088b04c7083d4cede9d54b9\", element=\"645172f3-0333-4638-8262-54e2f9fb0765\")>,\n",
       " <selenium.webdriver.remote.webelement.WebElement (session=\"552734523088b04c7083d4cede9d54b9\", element=\"3e03dcab-3b43-4841-8e5d-828a404418ca\")>,\n",
       " <selenium.webdriver.remote.webelement.WebElement (session=\"552734523088b04c7083d4cede9d54b9\", element=\"96301d87-4fa6-4e71-a243-0e703800731c\")>,\n",
       " <selenium.webdriver.remote.webelement.WebElement (session=\"552734523088b04c7083d4cede9d54b9\", element=\"36f8b64b-95dd-45da-8b45-7af4eec248c6\")>,\n",
       " <selenium.webdriver.remote.webelement.WebElement (session=\"552734523088b04c7083d4cede9d54b9\", element=\"0c9ca4a5-981f-4ec2-9601-a9c24a4c106f\")>,\n",
       " <selenium.webdriver.remote.webelement.WebElement (session=\"552734523088b04c7083d4cede9d54b9\", element=\"7976b920-26a6-40ad-82df-d8ef0f19c459\")>]"
      ]
     },
     "execution_count": 50,
     "metadata": {},
     "output_type": "execute_result"
    }
   ],
   "source": [
    "titles_tags33=driver33.find_elements_by_xpath(\"//a[@class='title fw500 ellipsis']\")\n",
    "titles_tags33[0:10]"
   ]
  },
  {
   "cell_type": "code",
   "execution_count": 51,
   "id": "d2d7f3c6",
   "metadata": {},
   "outputs": [
    {
     "data": {
      "text/plain": [
       "['Data Scientist - Internet Jobs - II',\n",
       " 'Data Scientist',\n",
       " 'Junior Data Scientist',\n",
       " 'Associate Scientist - Data Engineering',\n",
       " 'Data Scientist || Software Company || Immediate Joiners To max 30 Days',\n",
       " 'Data Scientist (freelance)',\n",
       " 'Hiring For Data Analyst and Data Scientist For Gurgaon Location',\n",
       " 'Data Scientist',\n",
       " 'Associate Data Scientist',\n",
       " 'Data Scientist/ Machine Learning, 2022 Passout Can also apply']"
      ]
     },
     "execution_count": 51,
     "metadata": {},
     "output_type": "execute_result"
    }
   ],
   "source": [
    "for i in titles_tags33:\n",
    "    title33=i.text\n",
    "    job_titles33.append(title33)\n",
    "job_titles33[0:10]"
   ]
  },
  {
   "cell_type": "code",
   "execution_count": 52,
   "id": "7d5b0e1b",
   "metadata": {},
   "outputs": [
    {
     "data": {
      "text/plain": [
       "[<selenium.webdriver.remote.webelement.WebElement (session=\"552734523088b04c7083d4cede9d54b9\", element=\"f37466c3-7952-439f-9810-32da2bfe6095\")>,\n",
       " <selenium.webdriver.remote.webelement.WebElement (session=\"552734523088b04c7083d4cede9d54b9\", element=\"afa46e25-6ad7-4570-a517-a881cab42f0d\")>,\n",
       " <selenium.webdriver.remote.webelement.WebElement (session=\"552734523088b04c7083d4cede9d54b9\", element=\"72c6a6fd-8d53-4657-ba83-1ff1c2f5727a\")>,\n",
       " <selenium.webdriver.remote.webelement.WebElement (session=\"552734523088b04c7083d4cede9d54b9\", element=\"23b0da06-c8da-4e60-8811-d741022f9820\")>,\n",
       " <selenium.webdriver.remote.webelement.WebElement (session=\"552734523088b04c7083d4cede9d54b9\", element=\"789a80f5-4f57-4474-a985-9d96e4cde8d8\")>,\n",
       " <selenium.webdriver.remote.webelement.WebElement (session=\"552734523088b04c7083d4cede9d54b9\", element=\"abcaaadb-d43c-47bc-9f66-78749b43e925\")>,\n",
       " <selenium.webdriver.remote.webelement.WebElement (session=\"552734523088b04c7083d4cede9d54b9\", element=\"6189fc1e-6998-4a17-9afc-672a010e7cad\")>,\n",
       " <selenium.webdriver.remote.webelement.WebElement (session=\"552734523088b04c7083d4cede9d54b9\", element=\"a7cf985d-babd-4050-9158-5f0b56084196\")>,\n",
       " <selenium.webdriver.remote.webelement.WebElement (session=\"552734523088b04c7083d4cede9d54b9\", element=\"4a499c79-99f9-4678-aa0c-e9c4021abe6b\")>,\n",
       " <selenium.webdriver.remote.webelement.WebElement (session=\"552734523088b04c7083d4cede9d54b9\", element=\"b804ffc4-418e-4a5f-8143-857445446989\")>]"
      ]
     },
     "execution_count": 52,
     "metadata": {},
     "output_type": "execute_result"
    }
   ],
   "source": [
    "companies_tags33=driver33.find_elements_by_xpath(\"//a[@class='subTitle ellipsis fleft']\")\n",
    "companies_tags33[0:10]"
   ]
  },
  {
   "cell_type": "code",
   "execution_count": 53,
   "id": "88cdcaa6",
   "metadata": {},
   "outputs": [
    {
     "data": {
      "text/plain": [
       "['Jobs Territory',\n",
       " 'Ashkom Media India Private Limited',\n",
       " 'EASY DATA ANALYTICS TECHNOLOGY PRIVATE LIMITED',\n",
       " 'AXA Technology Services India Pvt. Ltd',\n",
       " 'Skyleaf Consultants',\n",
       " '2Coms',\n",
       " 'Shadow Placements',\n",
       " 'BlackBuck',\n",
       " 'Optum',\n",
       " 'Creative Hands HR Consultancy']"
      ]
     },
     "execution_count": 53,
     "metadata": {},
     "output_type": "execute_result"
    }
   ],
   "source": [
    "for i in companies_tags33:\n",
    "    company_name33=i.text\n",
    "    company_names33.append(company_name33)\n",
    "company_names33[0:10]"
   ]
  },
  {
   "cell_type": "code",
   "execution_count": 54,
   "id": "97bf3760",
   "metadata": {},
   "outputs": [
    {
     "data": {
      "text/plain": [
       "[<selenium.webdriver.remote.webelement.WebElement (session=\"552734523088b04c7083d4cede9d54b9\", element=\"a33b5335-421d-4991-8b9e-0fff94d612c2\")>,\n",
       " <selenium.webdriver.remote.webelement.WebElement (session=\"552734523088b04c7083d4cede9d54b9\", element=\"b9705038-5282-4e92-9a24-811d1c074042\")>,\n",
       " <selenium.webdriver.remote.webelement.WebElement (session=\"552734523088b04c7083d4cede9d54b9\", element=\"c4cf4979-6069-472b-a406-944dd74c8a57\")>,\n",
       " <selenium.webdriver.remote.webelement.WebElement (session=\"552734523088b04c7083d4cede9d54b9\", element=\"76b28bc0-3cd1-4145-a4ee-a64f88a1fd56\")>,\n",
       " <selenium.webdriver.remote.webelement.WebElement (session=\"552734523088b04c7083d4cede9d54b9\", element=\"bb29d713-0244-4d02-9734-91a7e05d7466\")>,\n",
       " <selenium.webdriver.remote.webelement.WebElement (session=\"552734523088b04c7083d4cede9d54b9\", element=\"57b36eec-65b3-4c97-ac59-4f2da693fa4c\")>,\n",
       " <selenium.webdriver.remote.webelement.WebElement (session=\"552734523088b04c7083d4cede9d54b9\", element=\"cfc8a212-732f-45e1-b24f-94d435e82daf\")>,\n",
       " <selenium.webdriver.remote.webelement.WebElement (session=\"552734523088b04c7083d4cede9d54b9\", element=\"99715fc1-6861-487f-adfa-f1087cd53c36\")>,\n",
       " <selenium.webdriver.remote.webelement.WebElement (session=\"552734523088b04c7083d4cede9d54b9\", element=\"3d6e2972-dc40-45c0-b86a-5806dc26d31b\")>,\n",
       " <selenium.webdriver.remote.webelement.WebElement (session=\"552734523088b04c7083d4cede9d54b9\", element=\"afd34f40-3cc2-410c-b37e-72e79a784958\")>]"
      ]
     },
     "execution_count": 54,
     "metadata": {},
     "output_type": "execute_result"
    }
   ],
   "source": [
    "experience_tags33=driver33.find_elements_by_xpath(\"//li[@class='fleft grey-text br2 placeHolderLi experience']/span\")\n",
    "experience_tags33[0:10]"
   ]
  },
  {
   "cell_type": "code",
   "execution_count": 55,
   "id": "0e991522",
   "metadata": {},
   "outputs": [
    {
     "data": {
      "text/plain": [
       "['3-6 Yrs',\n",
       " '3-6 Yrs',\n",
       " '1-2 Yrs',\n",
       " '2-5 Yrs',\n",
       " '3-8 Yrs',\n",
       " '2-7 Yrs',\n",
       " '3-7 Yrs',\n",
       " '3-7 Yrs',\n",
       " '1-5 Yrs',\n",
       " '0-4 Yrs']"
      ]
     },
     "execution_count": 55,
     "metadata": {},
     "output_type": "execute_result"
    }
   ],
   "source": [
    "for i in experience_tags33:\n",
    "    experience33=i.text\n",
    "    experience_list33.append(experience33)\n",
    "experience_list33[0:10]"
   ]
  },
  {
   "cell_type": "code",
   "execution_count": 56,
   "id": "c01a274f",
   "metadata": {},
   "outputs": [
    {
     "data": {
      "text/plain": [
       "[<selenium.webdriver.remote.webelement.WebElement (session=\"552734523088b04c7083d4cede9d54b9\", element=\"86a230c4-6afe-4a60-bca8-9e21e47502e5\")>,\n",
       " <selenium.webdriver.remote.webelement.WebElement (session=\"552734523088b04c7083d4cede9d54b9\", element=\"81048323-961c-4efb-82ee-1b9fe346a602\")>,\n",
       " <selenium.webdriver.remote.webelement.WebElement (session=\"552734523088b04c7083d4cede9d54b9\", element=\"a0232ec9-3bca-4afa-b045-776d405a4ef4\")>,\n",
       " <selenium.webdriver.remote.webelement.WebElement (session=\"552734523088b04c7083d4cede9d54b9\", element=\"87bc38bf-d4a3-444e-9ea3-38a692d832fc\")>,\n",
       " <selenium.webdriver.remote.webelement.WebElement (session=\"552734523088b04c7083d4cede9d54b9\", element=\"943aa02a-a0d4-4ec3-8016-751f90539b1e\")>,\n",
       " <selenium.webdriver.remote.webelement.WebElement (session=\"552734523088b04c7083d4cede9d54b9\", element=\"f1ad6dbf-d73f-4c08-8609-d7ba6eb36ef0\")>,\n",
       " <selenium.webdriver.remote.webelement.WebElement (session=\"552734523088b04c7083d4cede9d54b9\", element=\"341e583f-c2c3-415c-be27-e1ea0253187b\")>,\n",
       " <selenium.webdriver.remote.webelement.WebElement (session=\"552734523088b04c7083d4cede9d54b9\", element=\"13ad54f7-1bb5-49d8-9002-7fa6fb0fafc1\")>,\n",
       " <selenium.webdriver.remote.webelement.WebElement (session=\"552734523088b04c7083d4cede9d54b9\", element=\"5b34702a-1d8f-44b2-95be-ae953029bc9f\")>,\n",
       " <selenium.webdriver.remote.webelement.WebElement (session=\"552734523088b04c7083d4cede9d54b9\", element=\"cb0453b6-c30e-4f57-bf04-3ead44728731\")>]"
      ]
     },
     "execution_count": 56,
     "metadata": {},
     "output_type": "execute_result"
    }
   ],
   "source": [
    "job_location33=driver33.find_elements_by_xpath(\"//li[@class='fleft grey-text br2 placeHolderLi location']/span\")\n",
    "job_location33[0:10]"
   ]
  },
  {
   "cell_type": "code",
   "execution_count": 60,
   "id": "94d81048",
   "metadata": {},
   "outputs": [
    {
     "data": {
      "text/plain": [
       "['Bangalore/Bengaluru, Delhi / NCR, Mumbai (All Areas)',\n",
       " 'Noida, Bangalore/Bengaluru',\n",
       " 'Noida',\n",
       " 'Gurgaon/Gurugram',\n",
       " 'Gurgaon/Gurugram, Bangalore/Bengaluru',\n",
       " 'New Delhi, Delhi',\n",
       " 'Noida, Gurgaon/Gurugram, Delhi / NCR',\n",
       " 'Gurgaon, Bengaluru',\n",
       " 'Gurgaon/Gurugram',\n",
       " 'Hyderabad/Secunderabad, Pune, Chennai, Delhi / NCR, Vadodara, Mumbai (All Areas)']"
      ]
     },
     "execution_count": 60,
     "metadata": {},
     "output_type": "execute_result"
    }
   ],
   "source": [
    "for i in job_location33:\n",
    "    location33=i.text\n",
    "    locations_list33.append(location33)\n",
    "locations_list33[0:10]"
   ]
  },
  {
   "cell_type": "code",
   "execution_count": null,
   "id": "5f37b3ac",
   "metadata": {},
   "outputs": [],
   "source": []
  },
  {
   "cell_type": "code",
   "execution_count": null,
   "id": "75806854",
   "metadata": {},
   "outputs": [],
   "source": []
  },
  {
   "cell_type": "code",
   "execution_count": null,
   "id": "abd597de",
   "metadata": {},
   "outputs": [],
   "source": []
  },
  {
   "cell_type": "code",
   "execution_count": null,
   "id": "cf5d2062",
   "metadata": {},
   "outputs": [],
   "source": []
  }
 ],
 "metadata": {
  "kernelspec": {
   "display_name": "Python 3 (ipykernel)",
   "language": "python",
   "name": "python3"
  },
  "language_info": {
   "codemirror_mode": {
    "name": "ipython",
    "version": 3
   },
   "file_extension": ".py",
   "mimetype": "text/x-python",
   "name": "python",
   "nbconvert_exporter": "python",
   "pygments_lexer": "ipython3",
   "version": "3.9.7"
  }
 },
 "nbformat": 4,
 "nbformat_minor": 5
}
